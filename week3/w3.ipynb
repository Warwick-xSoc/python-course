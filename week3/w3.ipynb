{
 "cells": [
  {
   "cell_type": "markdown",
   "id": "54baeb44",
   "metadata": {},
   "source": [
    "# **xSoc Python Course** - Week 3\n",
    "\n",
    "### *Lists & Loops*\n",
    "\n",
    "🖋️ *Written by Piotr & Adriano from the [Warwick Coding Society]()*\n",
    "\n",
    "**Last week, we covered:**\n",
    "1. String formatting\n",
    "2. Comparison & logical operators\n",
    "3. Conditional statements\n",
    "4. Creating Functions\n",
    "\n",
    "**This week, we will cover:**\n",
    "1. Data Structures (Lists, Tuples & Dictionaries)\n",
    "2. String Slicing\n",
    "3. Loops (For, While)"
   ]
  },
  {
   "cell_type": "markdown",
   "id": "09e4a9b4",
   "metadata": {},
   "source": [
    "# Lists\n",
    "A list is used to store multiple pieces of data under a single name. Individual items within a list can be accessed using an **index**. Lists in python are **zero-indexed** which means that the first item is placed at index 0.\n"
   ]
  },
  {
   "cell_type": "code",
   "execution_count": null,
   "id": "41e51e49",
   "metadata": {},
   "outputs": [],
   "source": [
    "days_of_the_week = [\"Monday\", \"Tuesday\", \"Wednesday\", \"Thursday\", \"Friday\", \"Saturday\", \"Sunday\"]\n",
    "print(days_of_the_week[0])\n",
    "print(days_of_the_week[6])"
   ]
  },
  {
   "cell_type": "markdown",
   "id": "7378939c",
   "metadata": {},
   "source": [
    "You can use a negative index to access elements from the end of the list. -1 represents the final element within the list:"
   ]
  },
  {
   "cell_type": "code",
   "execution_count": null,
   "id": "58570087",
   "metadata": {},
   "outputs": [],
   "source": [
    "print(days_of_the_week[-1])\n",
    "print(days_of_the_week[-7])"
   ]
  },
  {
   "cell_type": "markdown",
   "id": "e7778187",
   "metadata": {},
   "source": [
    "Attempting to access an index which does not currently exist results in an error:"
   ]
  },
  {
   "cell_type": "code",
   "execution_count": null,
   "id": "6c4fc81c",
   "metadata": {},
   "outputs": [],
   "source": [
    "print(days_of_the_week[7]) #Note that even though there are 7 items, the first index is 0 hence the final index is 6."
   ]
  },
  {
   "cell_type": "markdown",
   "id": "221f9295",
   "metadata": {},
   "source": [
    "![list indices](data/list_indices.png)"
   ]
  },
  {
   "cell_type": "markdown",
   "id": "06a317a8",
   "metadata": {},
   "source": [
    "Lists are **dynamic**. This means that they can grow and shrink in size. Lists can also contain **values of different types** meaning it is perfectly valid to have a boolean, an integer and a string all within the same list."
   ]
  },
  {
   "cell_type": "code",
   "execution_count": null,
   "id": "a66e19e3",
   "metadata": {},
   "outputs": [],
   "source": [
    "identifiers = [1234, \"0021\", 9421, \"0226\", 7280, 9421, \"6552\", \"1111\"]\n",
    "print(identifiers)\n",
    "identifiers.append(3973) #Adds item to the end of the list\n",
    "print(identifiers)\n",
    "identifiers.remove(9421) #Removes the FIRST instance of the item within the list\n",
    "print(identifiers)\n",
    "first_element = identifiers.pop(0) #Pop removes the item at the provided index and returns it\n",
    "print(first_element)"
   ]
  },
  {
   "cell_type": "markdown",
   "id": "0e50f958",
   "metadata": {},
   "source": [
    "Here is a table of other list functions which you may find useful:\n",
    "\n",
    "| Syntax                       | Description                                                                             |\n",
    "|:----------------------------:|:---------------------------------------------------------------------------------------:|\n",
    "| ```list_name.extend(list)```       | Appends the list provided as an argument to list_name                                    |\n",
    "| ```list_name.insert(index, item)``` | Inserts item at the index provided, **does not replace the item at the provided index** |\n",
    "| ```list_name.index(item)```         | Returns the index of the **first instance** of the item                                 |\n",
    "| ```list_name.count(item)```         | Returns the number of instances of item within the list                                 |\n",
    "| ```list_name.sort()```              | Sorts the list in **non-decreasing** order                                              |\n",
    "| ```list_name.reverse()```           | Reverses the list (last item becomes the first, second to last becomes second, etc)     |"
   ]
  },
  {
   "cell_type": "markdown",
   "id": "edfdc194",
   "metadata": {},
   "source": [
    "### Multidimensional Lists\n",
    "\n",
    "Lists can contain data of any type. Naturally, this means that lists can also contain other lists. A list which contains regular non-list items is known as a one dimensional list. A list which contains other one dimensional lists is known as a two dimensional list. A list which contains other two dimensional lists is known as a three dimensional list and so on and so forth.\n",
    "\n",
    "It's very rare to go above three-dimensions and if you find yourself doing so you should question whether there's a more suitable (and less complex) way of solving your problem.\n",
    "\n",
    "\n",
    "Accessing elements works on the same principles however you will have to provide multiple indexes depending on how many dimensionals you're working with:\n",
    "\n",
    "``list_name[index_of_first_dimension][index_of_second_dimension][index_of_third_dimension]``\n",
    "\n",
    "Here is how you can define a two dimensional list:"
   ]
  },
  {
   "cell_type": "code",
   "execution_count": null,
   "id": "02f50960",
   "metadata": {},
   "outputs": [],
   "source": [
    "two_d = [[1,2,3], [4,5,6], [7,8,9]]\n",
    "print(two_d[1][2]) #fetches the 2nd item of the first list then the third item of the fetched list."
   ]
  },
  {
   "cell_type": "markdown",
   "id": "b3f20b78",
   "metadata": {},
   "source": [
    "You can imagine the list as a two-dimensional shape with the X coordinate corresponding to the first index and the Y coordinate corresponding to the second index:"
   ]
  },
  {
   "cell_type": "markdown",
   "id": "555aeef3",
   "metadata": {},
   "source": [
    "![two dimensional list](data/2d_list.png)\n"
   ]
  },
  {
   "cell_type": "markdown",
   "id": "fae49f92",
   "metadata": {},
   "source": [
    "## List Slicing\n",
    "\n",
    "You can retrieve certain subsections of a list using list slicing. The syntax is similar to retrieving individual elements:\n",
    "\n",
    "``list_name[startIndex:endIndex:step]``\n",
    "- startIndex: The index at which elements should start being retrieved (Inclusive)\n",
    "- endIndex: The index at which elements should stop being retrieved (Exclusive)\n",
    "- step: The interval between each element retrieved (allows you to retrieve every nth item between start and end index)\n",
    "\n",
    "All of these parameters are optional hence you can retrieve elements from an index until the end of the list or from the start until a specific index. Here are some examples:"
   ]
  },
  {
   "cell_type": "code",
   "execution_count": null,
   "id": "ed14b125",
   "metadata": {},
   "outputs": [],
   "source": [
    "grades = [67, 72, 68, 64, 81, 75, 79, 64, 59]\n",
    "\n",
    "print(grades[0:8]) #Retrieves all but the last element, remember endIndex is exclusive\n",
    "print(grades[1:]) #Retrieves all but the first element\n",
    "print(grades[:8]) #Also retrieves all but the last element\n",
    "print(grades[::2]) #Retrieves every 2nd element, starting at the first element\n",
    "print(grades[2::2])"
   ]
  },
  {
   "cell_type": "markdown",
   "id": "f07105ee",
   "metadata": {},
   "source": [
    "# Tuples\n",
    "A tuple is very similar to a list. The only difference is that a tuple is **immutable** meaning it cannot be modified once initialised. The only syntax difference in defining a tuple is the use of rounded brackets: ``()``\n",
    "\n",
    "There are two main reasons why you might choose a tuple over a list:\n",
    "- **Tuples are more memory efficient than lists**. The memory assigned to a tuple can be exact (without overcompensation) as it cannot grow or shrink.\n",
    "- **The content within is guranteed to remain the same**. This means that the data you see within a tuple in one part of the program must remain the same in all other places where it is used. This prevents you from having to check the code to verify the data has not been changed elsewhere. It also ensures that any other developers using working with your code do not modify a sequence of items which should not be changed."
   ]
  },
  {
   "cell_type": "code",
   "execution_count": null,
   "id": "f7df3aae",
   "metadata": {},
   "outputs": [],
   "source": [
    "coordinates = (44, 92, 88)\n",
    "print(coordinates[1])"
   ]
  },
  {
   "cell_type": "code",
   "execution_count": null,
   "id": "fc9cf083",
   "metadata": {},
   "outputs": [],
   "source": [
    "coordinates[1] = 5 #Causes an error as tuples are immutable"
   ]
  },
  {
   "cell_type": "markdown",
   "id": "a1ec021a",
   "metadata": {},
   "source": [
    "# Dictionaries\n",
    "Dictionaries are similar to lists in that they are used to store a collection of items. The difference is that these items are accessed using a key specified by the programmers rather than an integer index:"
   ]
  },
  {
   "cell_type": "code",
   "execution_count": null,
   "id": "a05d013d",
   "metadata": {},
   "outputs": [],
   "source": [
    "student2139 = {\"first name\" : \"Piotr\",\n",
    "               \"second name\" : \"Zychlinski\",\n",
    "               \"course\" : \"Computer Science\",\n",
    "               \"year\" : 2,\n",
    "               \"ID\" : 2192341}\n",
    "print(f\"{student2139['first name']} {student2139['second name']}\")"
   ]
  },
  {
   "cell_type": "markdown",
   "id": "b286544b",
   "metadata": {},
   "source": [
    "Just like with a list, you can store data of different types.\n",
    "\n",
    "There are some restrictions on what can be used for a key. Firstly, the key must be **immutable**. This means that strings, integers, floats and booleans all make valid keys however lists do not as they can be modified. Secondly, **duplicate keys are not allowed** as this would create ambiguity as to which element you are trying to access. Defining a duplicate key simply overwrites the value pointed to by the initial key. **Keys can be of different types to eachother** which means that the following dictionary is valid:"
   ]
  },
  {
   "cell_type": "code",
   "execution_count": null,
   "id": "0460fb37",
   "metadata": {},
   "outputs": [],
   "source": [
    "odd_dict = {True : \"yes\",\n",
    "           False : \"no\",\n",
    "           1 : \"yes\", \n",
    "           0 : \"no\"}\n",
    "\n",
    "print(odd_dict[1])\n",
    "print(odd_dict[True])"
   ]
  },
  {
   "cell_type": "markdown",
   "id": "4c40412f",
   "metadata": {},
   "source": [
    "|           Syntax           |                                                      Description                                                      |\n",
    "|:--------------------------:|:---------------------------------------------------------------------------------------------------------------------:|\n",
    "| ``dic_name.get(key, default)`` | Retrieves value associated with ``key``. If ``key`` is not in the dictionary, default is returned. **The second parameter is optional.** |\n",
    "|      ``dic_name.items()``      |                  Returns a list of tuples with each tuple containing a key and its associated value.                  |\n",
    "|       ``dic_name.keys()``      |                                 Returns a list of keys contained within the dictionary                                |\n",
    "|      ``dic_name.values()``     |                                Returns a list of values contained within the dictionary                               |\n",
    "|      ``dic_name.pop(key)``     |                                    Removes the entry containing the specified ``key``.                                    |"
   ]
  },
  {
   "cell_type": "markdown",
   "id": "8560d4a6",
   "metadata": {},
   "source": [
    "# Strings\n",
    "\n",
    "## String Slicing\n",
    "\n",
    "We've already seen Strings, they represent some sequence of characters. When working with Strings, you often find yourself needing to remove a certain part of a string or perhaps retrieve a specific character. This can be achieved with **String slicing** which functions identically to **list slicing**.\n",
    "\n",
    "String are essentially just a list of characters. Conviniently, the index syntax used on lists can also be used on Strings."
   ]
  },
  {
   "cell_type": "code",
   "execution_count": null,
   "id": "6c653ecb",
   "metadata": {},
   "outputs": [],
   "source": [
    "body_temp = \"38.2C\"\n",
    "if(body_temp[-1].lower() == \"c\"): #.lower() function converts string to lower case.\n",
    "    print(\"We are using Celsius\")\n",
    "    if(float(body_temp[:-1]) >= 37.8): #Selects all characters but the last to remove the unit symbol\n",
    "        print(\"You have a fever\")\n",
    "elif(body_temp[-1].lower() == \"f\"):\n",
    "    print(\"We are using Farenheit\")\n",
    "    if(float(body_temp[:-1]) >= 100.0):\n",
    "        print(\"You have a fever\")\n",
    "else:\n",
    "    print(\"Unknown unit\")\n",
    "    "
   ]
  },
  {
   "cell_type": "markdown",
   "id": "689be243",
   "metadata": {},
   "source": [
    "# Loops\n",
    "\n",
    "Loops are used to repeat sections of code. Instead of writing the code out again and again, you can use a loop and specify when the code should stop being repeated."
   ]
  },
  {
   "cell_type": "markdown",
   "id": "600ed34d",
   "metadata": {},
   "source": [
    "## While Loops\n",
    "This type of loop is used to execute a piece of code **until a condition is met**. In practice, the loop executes until the expression between the brackets of the loop evaluates to ``False``:"
   ]
  },
  {
   "cell_type": "code",
   "execution_count": null,
   "id": "0cacd5d4",
   "metadata": {},
   "outputs": [],
   "source": [
    "count = 0\n",
    "while(count < 10): #Once count reaches 10, the expression evaluates to false causing the loop to terminate\n",
    "    print(count)\n",
    "    count += 1"
   ]
  },
  {
   "cell_type": "markdown",
   "id": "671b8c6b",
   "metadata": {},
   "source": [
    "This is most suitable for cases when you do **not** know exactly how many times the code within the loop should execute, but you do know when it should stop.\n",
    "\n",
    "You can imagine this type of loop being used within the logic for a computer fan. The fan will likely spin when the temperature of the internals is above a certain limit, once the temperature decreases the fan stops spinning. You don't know exactly how many times the fan should spin but you do know when it should stop."
   ]
  },
  {
   "cell_type": "code",
   "execution_count": null,
   "id": "7de35fbd",
   "metadata": {},
   "outputs": [],
   "source": [
    "from random import randint #The randint function from the random module is imported to allow for random number generation\n",
    "\n",
    "internal_temperature = 60\n",
    "\n",
    "def spin_fan():\n",
    "    print(f\"Spinning fan, current temp: {internal_temperature}C\")\n",
    "    \n",
    "def sample_temperature():\n",
    "    global internal_temperature\n",
    "    internal_temperature = internal_temperature - randint(0, 5) #randint(0, 5) generates a random integer between 0 and 5\n",
    "    \n",
    "while(internal_temperature > 45.0):\n",
    "    spin_fan()\n",
    "    sample_temperature()\n"
   ]
  },
  {
   "cell_type": "markdown",
   "id": "0d027b1f",
   "metadata": {},
   "source": [
    "If you execute this code a couple of times you will notice the loop does not necessarily run the same amount of iterations between executions. The loop terminates once ``internal_temperature`` goes below ``45.0`` as this will cause the expression within the while loop statement to evaluate to ``False``."
   ]
  },
  {
   "cell_type": "markdown",
   "id": "b614fbcd",
   "metadata": {},
   "source": [
    "## For Loops\n",
    "This type of loop is used to **iterate over a collection of items**. ```for``` loops are often used to execute code a specific number of times however what they really do is take each item from a collection until the end is reached. \n",
    "\n",
    "Note that ```range``` is a function which generates a list of numbers between the first argument and the second (inclusive of the first, exclusive of the second). This function is just like any other, it is not specific to ```for``` loops however it is very useful when you need to execute a piece of code a specific number of times."
   ]
  },
  {
   "cell_type": "code",
   "execution_count": null,
   "id": "fad411e2",
   "metadata": {},
   "outputs": [],
   "source": [
    "for x in range(0, 8): #x is just a variable representing an item from the collection on the right\n",
    "    print(x, end=\",\") #The end parameter is set to a comma to avoid print adding a new line after each number\n",
    "    \n",
    "#The code above generates the same result as the code below\n",
    "print()\n",
    "\n",
    "for x in [0,1,2,3,4,5,6,7]:\n",
    "    print(x, end=\",\")\n",
    "\n",
    "#The range function also accepts an optional \"step\" parameter which can be seen below\n",
    "print()\n",
    "for x in range(0, 8, 2): #Causes x to increase in value by 2 each iteration\n",
    "    print(x, end=\",\")\n",
    "    "
   ]
  },
  {
   "cell_type": "markdown",
   "id": "267575b9",
   "metadata": {},
   "source": [
    "For loops can be nested an arbitrary number of times, this can be useful when working with multidimensional lists:"
   ]
  },
  {
   "cell_type": "code",
   "execution_count": null,
   "id": "e3c3dbbf",
   "metadata": {},
   "outputs": [],
   "source": [
    "modules_per_year = [[\"CS118\", \"CS126\", \"CS130\", \"CS131\"], [\"CS241\", \"CS258\", \"CS259\", \"CS260\"], [\"CS310\", \"CS301\", \"CS342\"]]\n",
    "current_year = 1\n",
    "for year in modules_per_year: #Iterates over years\n",
    "    print(\"Modules for year \" + str(current_year))\n",
    "    for module in year: #Iterates over modules WITHIN a year\n",
    "        print(module)\n",
    "    current_year += 1 #Once all of the current year's modules are iterated over, the counter is incremented."
   ]
  },
  {
   "cell_type": "markdown",
   "id": "a6c1b77a",
   "metadata": {},
   "source": [
    "You can iterate over more than just lists. Anything considered to be **iterable** can be looped over. You can iterate over the keys and their associated values of a dictionary by calling the ```items()``` function which returns a list of pairs (tuples of length 2) representing the key and value pairs of the dictionary. You could iterate over a dictionary itself without calling the ``items()`` function however this would lead to iterating over only the keys of the dictionary."
   ]
  },
  {
   "cell_type": "code",
   "execution_count": null,
   "id": "0a289058",
   "metadata": {},
   "outputs": [],
   "source": [
    "employees = {\"2123124\" : \"James Hill\",\n",
    "             \"2012399\" : \"Tom Lauren\",\n",
    "             \"2075620\" : \"Kate Johnson\", \n",
    "             \"2052156\" : \"Natalia Ford\"}\n",
    "\n",
    "for emp_number, emp_name in employees.items():\n",
    "    print(\"Employee Number: \" + emp_number + \" | \" + \"Employee Name: \" + emp_name)"
   ]
  },
  {
   "cell_type": "markdown",
   "id": "b2024846",
   "metadata": {},
   "source": [
    "### Continue? Break?\n",
    "\n",
    "There are two loop-related keywords in python which you should know about.\n",
    "\n",
    "The first is ``continue``. This keyword is used within a loop body to skip over the rest of the code within the loop and carry on to the next iteration:\n"
   ]
  },
  {
   "cell_type": "code",
   "execution_count": null,
   "id": "80102570",
   "metadata": {},
   "outputs": [],
   "source": [
    "for i in range(0, 10):\n",
    "    print(\"This will be printed\")\n",
    "    continue\n",
    "    print(\"This will never be printed\")"
   ]
  },
  {
   "cell_type": "markdown",
   "id": "1f94ce6f",
   "metadata": {},
   "source": [
    "This is often used alongside an ``if`` statement at the start of the loop when you want the body of the loop to execute only for certain items it is iterating over. The statement can of course also be used within a ``while`` loop for the same purpose."
   ]
  },
  {
   "cell_type": "markdown",
   "id": "51648b35",
   "metadata": {},
   "source": [
    "The second statement is ``break``. This causes the loop to finish executing entirely, regardless of how many times it was still going to iterate. This is often used when searching for an item but, as with ``continue``, can be applied to many different problems."
   ]
  },
  {
   "cell_type": "code",
   "execution_count": null,
   "id": "93f37610",
   "metadata": {},
   "outputs": [],
   "source": [
    "numbers = [5,3,9,11,19,8]\n",
    "\n",
    "def linearSearch(target):\n",
    "    for number in numbers:\n",
    "        print(f\"Currently inspecting {number}\")\n",
    "        if(number == target):\n",
    "            print(\"Number found\")\n",
    "            break #As soon as the target is found the loop will cease execution entirely.\n",
    "    \n",
    "linearSearch(11)"
   ]
  },
  {
   "cell_type": "markdown",
   "id": "ef832a01",
   "metadata": {},
   "source": [
    "### Similarity between For and While loops\n",
    "\n",
    "Anything that can be written using a for loop can be re-written using a while loop. This makes sense conceptually as a ``for`` loop iterates over a structure until the end is reached whereas a ``while`` loop iterates until a condition is met. This means the condition to terminate within a ``while`` loop can simply be set as reaching the end of the structure.\n",
    "\n",
    "Here is an example:"
   ]
  },
  {
   "cell_type": "code",
   "execution_count": null,
   "id": "328d938e",
   "metadata": {},
   "outputs": [],
   "source": [
    "students = [\"Piotr\", \"Adriano\", \"Jack\", \"Peter\"]\n",
    "\n",
    "for student in students:\n",
    "    print(student)\n",
    "    \n",
    "i = 0\n",
    "while(i < len(students)): #Produces the same result as the for loop above.\n",
    "    print(students[i])\n",
    "    i += 1\n",
    "    "
   ]
  },
  {
   "cell_type": "markdown",
   "id": "583536a1",
   "metadata": {},
   "source": [
    "The reason ``for`` loops exist is because they allow you to write code which is more concise and easier to read. In the example above you can clearly tell what the ``for`` loop is doing just from glancing at it whereas understanding what the ``while`` loop does takes a bit more thinking. When you see a ``for`` loop you can immediately assume the code is iterating over some structure or executing code a specific number of times."
   ]
  },
  {
   "cell_type": "markdown",
   "id": "a47fb7a7",
   "metadata": {},
   "source": [
    "🖋️ ***This week was written by Adriano & Piotr from the [Warwick Coding Society]()***"
   ]
  },
  {
   "cell_type": "markdown",
   "id": "f714dd42",
   "metadata": {},
   "source": [
    "---"
   ]
  },
  {
   "cell_type": "markdown",
   "id": "b404c90f",
   "metadata": {},
   "source": [
    "# Week 3 Exercises"
   ]
  },
  {
   "cell_type": "markdown",
   "id": "146aa759",
   "metadata": {},
   "source": [
    "## Exercise 1"
   ]
  },
  {
   "cell_type": "markdown",
   "id": "0ca50851",
   "metadata": {},
   "source": [
    "The Department of Computer Science needs to store the results of an exam. Unfortunately, their servers are running out of storage meaning they cannot store every grade. In their infinite wisdom, the department have decided that storing a third of the grades is good enough.\n",
    "\n",
    "Write a function that, given the grades list, returns a new grades list retaining *every third grade* from the original.\n",
    "\n",
    "For example, if the grades list was `[49, 52, 19, 0, 62, 23, 29, 72]` then you should return `[49, 0, 29]`\n",
    "\n",
    "You should make use of **list slicing** to keep your code concise. If you struggle with list slicing, try using a loop instead."
   ]
  },
  {
   "cell_type": "code",
   "execution_count": null,
   "id": "980b2f4c",
   "metadata": {},
   "outputs": [],
   "source": [
    "import random\n",
    "grades = [random.randint(0, 75) for i in range(30)]\n",
    "print(grades)\n",
    "\n",
    "# Do not modify the code above\n",
    "\n",
    "def compress_grades_list(grades) -> list[int]:  \n",
    "    # Your function should retain every 3rd grade from the list\n",
    "    return []\n",
    "\n",
    "print(compress_grades_list(grades))"
   ]
  },
  {
   "cell_type": "markdown",
   "id": "81ca1312",
   "metadata": {},
   "source": [
    "## Exercise 2"
   ]
  },
  {
   "cell_type": "markdown",
   "id": "d4ccf79f",
   "metadata": {},
   "source": [
    "After successfully ruining the lives of two thirds of the student population, you've now been taked with calculating coursework grades from their submissiion running times, and distributing full, detailed feedback on par with the standards of the department.\n",
    "\n",
    "Given a dictionary containing the names of students as keys, with each value being a list of running times for each test in seconds, calculate the grade the student should recieve. This is based on the average running time across all tests:\n",
    "\n",
    "- **75%** when the average running time is less than 10 seconds\n",
    "- **70%** when the average running time is at least 10 but less than 20 seconds\n",
    "- **60%** when the average running time is at least 20 but less than 30 seconds\n",
    "- **45%** when the average running time is at least 30 but less than 40 seconds \n",
    "- **0%** when the average running time is at least 40 seconds\n",
    "\n",
    "You should print your feedback in the following format: `[student_name] achieved a grade of [grade]%`"
   ]
  },
  {
   "cell_type": "code",
   "execution_count": null,
   "id": "c9f70e32",
   "metadata": {},
   "outputs": [],
   "source": [
    "grade_dict = {\"Piotr\" : [8,11,9,14,7], \"James\" : [2,1,2,2,100], \"Hugh\" : [23,25,22,20,22], \"Oliver\" : [21,23,34,40,33]}\n",
    "print(\"Detailed feedback for each student:\")\n",
    "\n",
    "# Do not modify the code above\n",
    "\n",
    "def determineGrades(grade_dict: dict[str, list[int]]):\n",
    "    print(\"Bob achieved a grade of 0%\")\n",
    "    # Your function should work on a general grade_dict, not just the one above!\n",
    "\n",
    "determineGrades(grade_dict)"
   ]
  },
  {
   "cell_type": "markdown",
   "id": "cad56e4c",
   "metadata": {},
   "source": [
    "## What Now?\n",
    " "
   ]
  },
  {
   "cell_type": "markdown",
   "id": "71e04f18",
   "metadata": {},
   "source": [
    "It's Wahoot time! Make sure you're caught up on the coursework in time for Week 4.\n",
    "\n",
    "\n",
    "- First, complete the **new version** of the Week 2 Wahoot Notebook (called `wahoot_w2.ipynb`, in the Week 2 folder)\n",
    "\n",
    "\n",
    "- Then, try working through the Week 3 Wahoot Notebook (called `wahoot_w3.ipynb`)"
   ]
  }
 ],
 "metadata": {
  "kernelspec": {
   "display_name": "Python 3.10.6 64-bit",
   "language": "python",
   "name": "python3"
  },
  "language_info": {
   "codemirror_mode": {
    "name": "ipython",
    "version": 3
   },
   "file_extension": ".py",
   "mimetype": "text/x-python",
   "name": "python",
   "nbconvert_exporter": "python",
   "pygments_lexer": "ipython3",
   "version": "3.10.6"
  },
  "vscode": {
   "interpreter": {
    "hash": "7c57092efe4ff60dfd9ba12cd3127c3cb8001227526172b4b54478afc6e523e7"
   }
  }
 },
 "nbformat": 4,
 "nbformat_minor": 5
}
