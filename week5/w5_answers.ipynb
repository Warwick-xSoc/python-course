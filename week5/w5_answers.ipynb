{
 "cells": [
  {
   "cell_type": "markdown",
   "metadata": {},
   "source": [
    "# Week 5 Answers"
   ]
  },
  {
   "cell_type": "markdown",
   "metadata": {},
   "source": [
    "## Exercise 1"
   ]
  },
  {
   "cell_type": "code",
   "execution_count": null,
   "metadata": {},
   "outputs": [],
   "source": [
    "class Car:\n",
    "    def __init__(self, miles_per_gallon, fuel_tank_size, colour):\n",
    "        self.miles_per_gallon = miles_per_gallon\n",
    "        self.fuel_tank_size = fuel_tank_size\n",
    "        self.colour = colour\n",
    "        \n",
    "    def calculate_range(self):\n",
    "        return self.miles_per_gallon * self.fuel_tank_size\n",
    "    \n",
    "my_car = Car(10, 50, \"blue\")\n",
    "\n",
    "print(my_car.calculate_range())"
   ]
  },
  {
   "cell_type": "markdown",
   "metadata": {},
   "source": [
    "## Exercise 2"
   ]
  },
  {
   "cell_type": "code",
   "execution_count": null,
   "metadata": {},
   "outputs": [],
   "source": [
    "import requests\n",
    "\n",
    "response = requests.get(\"https://xkcd.com/\")\n",
    "print(response)\n",
    "print(response.__class__)\n",
    "\n",
    "print(response.content)"
   ]
  },
  {
   "cell_type": "markdown",
   "metadata": {},
   "source": [
    "## Exercise 3"
   ]
  },
  {
   "cell_type": "code",
   "execution_count": null,
   "metadata": {},
   "outputs": [],
   "source": [
    "def pairwise_multiply(first: list[int], second: list[int]) -> list[int]:\n",
    "    \"\"\"Pairwise multiply the elements of two lists.\n",
    "    \n",
    "    Args:\n",
    "        first: The first list to pairwise multiply.\n",
    "        second: The second list to pairwise multiply.\n",
    "    \n",
    "    Returns:\n",
    "        A list containing the pairwise multiplied elements of the\n",
    "        input lists.\n",
    "    \"\"\"\n",
    "    if len(first) != len(second):\n",
    "        raise IndexError(\"Lists must be the same length!\")\n",
    "    \n",
    "    result: list[int] = []\n",
    "    for i in range(len(first)):\n",
    "        result.append(first[i] * second[i])\n",
    "    return result\n",
    "\n",
    "\n",
    "answer = pairwise_multiply(\n",
    "    [1,2,3,4,5,6],\n",
    "    [6,5,4,3,2,1]\n",
    ")\n",
    "print(answer)"
   ]
  },
  {
   "attachments": {},
   "cell_type": "markdown",
   "metadata": {},
   "source": [
    "---"
   ]
  },
  {
   "attachments": {},
   "cell_type": "markdown",
   "metadata": {},
   "source": [
    "🖋️ *Exercises written by Alia & Edmund from [UWCS](uwcs.co.uk)*"
   ]
  }
 ],
 "metadata": {
  "kernelspec": {
   "display_name": "Python 3.10.6 64-bit",
   "language": "python",
   "name": "python3"
  },
  "language_info": {
   "name": "python",
   "version": "3.10.6"
  },
  "orig_nbformat": 4,
  "vscode": {
   "interpreter": {
    "hash": "7c57092efe4ff60dfd9ba12cd3127c3cb8001227526172b4b54478afc6e523e7"
   }
  }
 },
 "nbformat": 4,
 "nbformat_minor": 2
}
