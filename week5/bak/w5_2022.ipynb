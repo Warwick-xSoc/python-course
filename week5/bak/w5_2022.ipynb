{
 "cells": [
  {
   "cell_type": "markdown",
   "metadata": {},
   "source": [
    "# **xSoc Python Course** - Week 5\n",
    "\n",
    "### *Exception Handling & Classes*\n",
    "\n",
    "🖋️ *Written by Tomas & Alistair from [Warwick AI](https://warwick.ai/)*"
   ]
  },
  {
   "cell_type": "markdown",
   "metadata": {},
   "source": [
    "In this lecture we aim to cover:\n",
    "- OOP\n",
    "- Decorators"
   ]
  },
  {
   "cell_type": "markdown",
   "metadata": {},
   "source": [
    "## Object Oriented Programming"
   ]
  },
  {
   "cell_type": "markdown",
   "metadata": {},
   "source": [
    "Suppose we want to represent shapes.\n",
    "Your first instinct might be to use a dictionary. You could then define some functions that e.g. calculate the area."
   ]
  },
  {
   "cell_type": "code",
   "execution_count": null,
   "metadata": {},
   "outputs": [],
   "source": [
    "square = {\n",
    "    \"side\": 3,\n",
    "    \"color\": \"red\"\n",
    "}\n",
    "\n",
    "\n",
    "def calculate_area(shape):\n",
    "    return shape[\"side\"] ** 2"
   ]
  },
  {
   "cell_type": "markdown",
   "metadata": {},
   "source": [
    "What happens if we also want to represent a circle?"
   ]
  },
  {
   "cell_type": "code",
   "execution_count": null,
   "metadata": {},
   "outputs": [],
   "source": [
    "from math import pi\n",
    "\n",
    "circle = {\n",
    "    \"radius\": 10,\n",
    "    \"color\": \"blue\"\n",
    "}\n",
    "\n",
    "def calculate_area_circle(shape):\n",
    "    return pi * circle[\"radius\"] ** 2"
   ]
  },
  {
   "cell_type": "markdown",
   "metadata": {},
   "source": [
    "There are a few issues with these representations.\n",
    "First, because a dictionary is a dynamic data structure, if you mispel a key name, this will only be caught at run-time. This also means that IDEs (such as Visual Studio Code) won't be able to provide you with helpful hints.\n",
    "Secondly, we've had to create two different functions to calculate the area of a shape. If we add another shape, for example,\n",
    "an equilateral triangle, we'd need to create a third function!\n",
    "\n",
    "Finally, suppose we have a list of shapes and we want to find out what the largest area is.\n",
    "How do we decide how to calculate the area?"
   ]
  },
  {
   "cell_type": "code",
   "execution_count": null,
   "metadata": {},
   "outputs": [],
   "source": [
    "shapes = [square, circle]\n",
    "\n",
    "for shape in shapes:\n",
    "    # area = ???\n",
    "    pass"
   ]
  },
  {
   "cell_type": "markdown",
   "metadata": {},
   "source": [
    "By now you've probably noticed that with each new shape, we're increasing the complexity of our code.\n",
    "Not all hope is lost though, we can use object-oriented programming (OOP)."
   ]
  },
  {
   "cell_type": "markdown",
   "metadata": {},
   "source": [
    "### Objects everywhere\n",
    "In Python, **everything** is an object!"
   ]
  },
  {
   "cell_type": "code",
   "execution_count": null,
   "metadata": {},
   "outputs": [],
   "source": [
    "def hello_world():\n",
    "    print(\"hello world!\")\n",
    "\n",
    "print(hello_world.__class__)\n",
    "print((20).__class__)\n",
    "print(\"WAI\".__class__)"
   ]
  },
  {
   "cell_type": "markdown",
   "metadata": {},
   "source": [
    "A `class` can be thought of as a \"blueprint\" for an object, it defines what properties or attributes the object will have (e.g. the color of the shape),\n",
    "and methods or \"behaviours\" (e.g. `calculate_area`), which may operate on the attributes of the object. \n",
    "An object is said to be *an instance of* a particular class.\n",
    "\n",
    "Let's look at a more concrete example by representing a person with a class step-by-step.\n",
    "\n",
    "First, we start by declaring our class. This is done using the `class` keyword, and we specify the name of our class after.\n",
    "It's good practice to name our classes using `CamelCase`!"
   ]
  },
  {
   "cell_type": "code",
   "execution_count": null,
   "metadata": {},
   "outputs": [],
   "source": [
    "class Person:\n",
    "    pass"
   ]
  },
  {
   "cell_type": "markdown",
   "metadata": {},
   "source": [
    "We can now create an *instance* of Person with the same notation used to call functions!\n",
    "`my_person` is an instance of `Person`."
   ]
  },
  {
   "cell_type": "code",
   "execution_count": null,
   "metadata": {},
   "outputs": [],
   "source": [
    "my_person = Person()"
   ]
  },
  {
   "cell_type": "markdown",
   "metadata": {},
   "source": [
    "Great, we've defined a Person class, but this doesn't really do much right now.\n",
    "What characteristics might we want to store about a person? These will determine what the attributes our objects will have.\n",
    "To keep things simple, let's consider a person's name, age, and profession.\n",
    "\n",
    "We need to update our \"blueprint\", the `Person` class, so that instances of this class contain these attributes!\n",
    "This is done using a constructor. The constructor is a special method used to define how instances of the `Person` class\n",
    "should be initialized. When we instantiate a new instance of `Person` with `my_person = Person()`, Python will attempt to invoke\n",
    "a method called `__init__` if it exists.\n",
    "\n",
    "In order to define a constructor, we define a method, more precisely an instance method, with the name `__init__`\n",
    "in our class (**important:** note the indentation of the method).\n",
    "\n",
    "Instance methods are \"attached\" to an object and they can refer to other methods and attributes of the object.\n",
    "To that end, we need to be able to refer to the object which owns the instance method.\n",
    "This is done by adding a `self` parameter to **every** instance method. This parameter **must** also be the first\n",
    "parameter of every instance method.\n",
    "\n",
    "Below we have added a constructor to the `Person` class. It takes `self` (the object which was just created), the name of the\n",
    "person, age, and profession as parameters and then we \"store\" these in the new object. We can access and set the attributes\n",
    "of an object using a `.` followed by the attribute name as shown below.\n",
    "\n",
    "You may have also noticed that this method starts and ends with `__`. \n",
    "There are other methods named in a similar way.\n",
    "These methods are often called *magic methods* and are used to defined very specific behaviours (If you're curious you can find out more [here](https://docs.python.org/3/reference/datamodel.html#special-method-names))."
   ]
  },
  {
   "cell_type": "code",
   "execution_count": null,
   "metadata": {},
   "outputs": [],
   "source": [
    "class Person:\n",
    "    def __init__(self, name, age, profession):\n",
    "        self.name = name\n",
    "        self.age = age\n",
    "        self.profession = profession"
   ]
  },
  {
   "cell_type": "markdown",
   "metadata": {},
   "source": [
    "Now we can instantiate a person like so."
   ]
  },
  {
   "cell_type": "code",
   "execution_count": null,
   "metadata": {},
   "outputs": [],
   "source": [
    "my_person = Person(\"donald knuth\", 84, \"computer scientist\")\n",
    "\n",
    "print(my_person.name)\n",
    "print(my_person.age)"
   ]
  },
  {
   "cell_type": "markdown",
   "metadata": {},
   "source": [
    "We can also define other \"behaviors\" for each instance of `Person`.\n",
    "Let's define an instance method called `introduce` which introduces a new person.\n",
    "This is done using the same syntax used to define `__init__`. Again, we must take `self` as the first parameter.\n",
    "\n",
    "We form a new string which contains the person's name, age, and profession using the same syntax introduced before and print it.\n",
    "\n",
    "We can then invoke `introduce` by using the `.` syntax and the syntax we used to invoke \"normal\" functions.\n",
    "Note that, while `self` is a required parameter for `introduce`, we don't need to explictly pass it to `introduce`."
   ]
  },
  {
   "cell_type": "code",
   "execution_count": null,
   "metadata": {},
   "outputs": [],
   "source": [
    "class Person:\n",
    "    def __init__(self, name, age, profession):\n",
    "        self.name = name\n",
    "        self.age = age\n",
    "        self.profession = profession\n",
    "\n",
    "    def introduce(self):\n",
    "        print(f\"I'm {self.name}, {self.age} years old. I'm a {self.profession}.\")\n",
    "\n",
    "my_person = Person(\"donald knuth\", 84, \"computer scientist\")\n",
    "my_person.introduce()"
   ]
  },
  {
   "cell_type": "markdown",
   "metadata": {},
   "source": [
    "We can now represent a person with attributes name, age, and profession. We can introduce a person, and a person can eat.\n",
    "This brings us to one of the core principles associated with OOP, **encapsulation**: the object's methods and attributes\n",
    "are bundled as a single-unit.\n",
    "\n",
    "As a further example, for **encapsulation**, our class can have other attributes that are not exposed to the \"outside world\".\n",
    "For example, we can keep track of the energy of a Person using `_energy` (note the underscore, this represents a protected attribute, that is, it shouldn't be used anywhere outside the class), and we use this to decide whether or not a person can walk. The key takeaway for encapsulation is that we only\n",
    "expose what is absolutely necessary to the \"outside world\"."
   ]
  },
  {
   "cell_type": "code",
   "execution_count": null,
   "metadata": {},
   "outputs": [],
   "source": [
    "class Person:\n",
    "    def __init__(self, name, age, profession):\n",
    "        self.name = name\n",
    "        self.age = age\n",
    "        self.profession = profession\n",
    "        self._energy = 0\n",
    "\n",
    "    def introduce(self):\n",
    "        print(f\"I'm {self.name}, {self.age} years old. I'm a {self.profession}.\")\n",
    "    \n",
    "    def eat(self, food):\n",
    "        self._energy += 9\n",
    "        print(f\"Eating food {food}\")\n",
    "\n",
    "    def walk(self):\n",
    "        if self._energy < 10:\n",
    "            print(\"Not enough energy!\")\n",
    "        else:\n",
    "            print(\"Walking...\")\n",
    "\n",
    "my_person = Person(\"donald knuth\", 84, \"computer scientist\")\n",
    "my_person.eat(\"food\")\n",
    "my_person.walk()\n",
    "my_person.eat(\"food\")\n",
    "my_person.walk()"
   ]
  },
  {
   "cell_type": "markdown",
   "metadata": {},
   "source": [
    "We also **abstracted** the implementation details of each method. As a programmer you can invoke `eat`\n",
    "or `introduce` without having to worry about what's going on in the background."
   ]
  },
  {
   "cell_type": "markdown",
   "metadata": {},
   "source": [
    "### Inheritance\n",
    "People with different professions can do different tasks. For example, a doctor can treat a person and a computer scientist\n",
    "can write code.\n",
    "\n",
    "We can define a `ComputerScientist` and `Doctor` class and define any profession-specific tasks for each one.\n",
    "However, computer scientists and doctors are still people, and will also have a name, age, and profession."
   ]
  },
  {
   "cell_type": "code",
   "execution_count": null,
   "metadata": {},
   "outputs": [],
   "source": [
    "class ComputerScientist:\n",
    "    def __init__(self, name, age, profession):\n",
    "        self.name = name\n",
    "        self.age = age\n",
    "        self.profession = \"computer scientist\"\n",
    "\n",
    "    def introduce(self):\n",
    "        print(f\"I'm {self.name}, {self.age} years old. I'm a {self.profession}.\")\n",
    "    \n",
    "    def eat(self, food):\n",
    "        return \"\"\n",
    "    \n",
    "    def write_code(self):\n",
    "        print(\"010101010000111001 code go brrrrrr\")\n",
    "    \n",
    "class Doctor:\n",
    "    def __init__(self, name, age, profession):\n",
    "        self.name = name\n",
    "        self.age = age\n",
    "        self.profession = \"doctor\"\n",
    "\n",
    "    def introduce(self):\n",
    "        print(f\"I'm {self.name}, {self.age} years old. I'm a {self.profession}.\")\n",
    "    \n",
    "    def eat(self, food):\n",
    "        return \"\"\n",
    "    \n",
    "    def treat_person(self):\n",
    "        print(\"Treating a person...\")"
   ]
  },
  {
   "cell_type": "markdown",
   "metadata": {},
   "source": [
    "Can you spot what's wrong with the above implementation?\n",
    "We're repeating the code for the constructor, introduce and, eat. The main difference is the profession specific method!\n",
    "What if we want to change how a person should be introduced? We'd have to update the `introduce` method in `Person`, `ComputerScientist`, `Doctor`.\n",
    "\n",
    "We can use *inheritance* to improve its maintainability, reduce development costs (avoids the scenario above which could introduce bugs!),\n",
    "and avoid repeating code."
   ]
  },
  {
   "cell_type": "code",
   "execution_count": null,
   "metadata": {},
   "outputs": [],
   "source": [
    "class ComputerScientist(Person):\n",
    "    def __init__(self, name, age):\n",
    "        \"\"\"\n",
    "        We're invoking the constructor of Person,\n",
    "        but we set the profession to be \"computer scientist\"\n",
    "        \"\"\"\n",
    "        super().__init__(name, age, \"computer scientist\")\n",
    "    \n",
    "    def write_code(self):\n",
    "        print(\"010101010000111001 code go brrrrrr\")\n",
    "    \n",
    "class Doctor(Person):\n",
    "    def __init__(self, name, age):\n",
    "        \"\"\"\n",
    "        We're invoking the constructor of Person,\n",
    "        but we set the profession to be \"doctor\"\n",
    "        \"\"\"\n",
    "        super().__init__(name, age, \"doctor\")\n",
    "    \n",
    "    def treat_person(self):\n",
    "        print(\"Treating a person...\")\n",
    "\n",
    "donald_knuth = ComputerScientist(\"donald knuth\", 84)\n",
    "donald_knuth.introduce()\n",
    "donald_knuth.write_code()\n",
    "\n",
    "doctor = Doctor(\"John Doe\", 65)\n",
    "doctor.introduce()\n",
    "doctor.treat_person()"
   ]
  },
  {
   "cell_type": "markdown",
   "metadata": {},
   "source": [
    "We define the two classes again with a twist: `Doctor` and `ComputerScientist` now inherit from `Person`.\n",
    "In Python, we can specify the class(es) from which another class inherits from in parenthesis after the class name.\n",
    "\n",
    "```py\n",
    "# Inherit from a single class\n",
    "class Base(Parent1):\n",
    "    pass\n",
    "\n",
    "# Inherint from multiple classes\n",
    "class Base(Parent1, Parent2, ...):\n",
    "    pass\n",
    "```\n",
    "\n",
    "Further, the `Person` class is said to be the parent class of `Doctor` and `ComputerScientist`.\n",
    "Conversely, the `Doctor` and `ComputerScientist` classes are child classes of the parent `Person`.\n",
    "\n",
    "The child classes will inherit everything from the parent class, and can also *override* any method\n",
    "from the parent classes. In our example, we want instances of `ComputerScientist` to be initialized with the profession \"computer scientist\"\n",
    "and instances of `Doctor` \"doctor\", however, we also want to maintain the functionality of the `Person` constructor.\n",
    "\n",
    "In order to do this, we can override the constructor by re-defining the `__init__` method, and then we call\n",
    "the constructor of the *super* class (that is, the parent class). We can refer to the super class using `super()`,\n",
    "and then we invoke `__init__`: `super().__init__(name, age, \"doctor\")`.\n",
    "\n",
    "```py\n",
    "class Doctor(Person):\n",
    "    def __init__(self, name, age):\n",
    "        self.name = name\n",
    "        self.age = age\n",
    "        self.profession = \"doctor\"\n",
    "    \n",
    "    # ...\n",
    "```\n",
    "\n",
    "The implementation above would also work, however, if there are any changes to the constructor of `Person`, you'd have\n",
    "to copy this over to the new constructor of `Doctor` and `ComputerScientist`.\n",
    "By invoking the constructor of the parent class we avoid repetition of code. However, there may be cases where you'd want to completly change\n",
    "the behaviour of the method, in which case you don't need to invoke the method from the parent class."
   ]
  },
  {
   "cell_type": "markdown",
   "metadata": {},
   "source": [
    "Finally, suppose we want to change the introduction of each profession. We can override the `introduce` method for `Doctor` and `Profession`.\n",
    "Then, if we have a group of people, for example, a list of instances of `Person`, we can call `introduce` and the correct introduction will be used!\n",
    "This is called **polymorphism**: the same code can be used with slightly different objects and behave in a different way."
   ]
  },
  {
   "cell_type": "code",
   "execution_count": null,
   "metadata": {},
   "outputs": [],
   "source": [
    "class ComputerScientist(Person):\n",
    "    def __init__(self, name, age):\n",
    "        \"\"\"\n",
    "        We're invoking the constructor of Person,\n",
    "        but we set the profession to be \"computer scientist\"\n",
    "        \"\"\"\n",
    "        super().__init__(name, age, \"computer scientist\")\n",
    "    \n",
    "    def write_code(self):\n",
    "        print(\"010101010000111001 code go brrrrrr\")\n",
    "\n",
    "    def introduce(self):\n",
    "        print(\"I'm a computer scientist!!!111!!\")\n",
    "    \n",
    "class Doctor(Person):\n",
    "    def __init__(self, name, age):\n",
    "        \"\"\"\n",
    "        We're invoking the constructor of Person,\n",
    "        but we set the profession to be \"doctor\"\n",
    "        \"\"\"\n",
    "        super().__init__(name, age, \"doctor\")\n",
    "    \n",
    "    def treat_person(self):\n",
    "        print(\"Treating a person...\")\n",
    "\n",
    "    def introduce(self):\n",
    "        print(\"I'm a doctor!!!111!!\")\n",
    "\n",
    "\n",
    "donald_knuth = ComputerScientist(\"donald knuth\", 84)\n",
    "person = Person(\"Person\", 25, \"phd\")\n",
    "person_2 = Person(\"Person2\", 30, \"mechanic\")\n",
    "doctor = Doctor(\"John Doe\", 65)\n",
    "\n",
    "people = [donald_knuth, person, person_2, doctor]\n",
    "\n",
    "for p in people:\n",
    "    p.introduce()"
   ]
  },
  {
   "cell_type": "markdown",
   "metadata": {},
   "source": [
    "# Decorators\n",
    "Finally, let's have a look at decorators.\n",
    "\n",
    "Congratulations, you've just been hired by the *National X-Soc Co-op Bank Ltd* to develop their ATM system!\n",
    "\n",
    "They want you to implement the depositing and withdrawal functionality and you define the\n",
    "functions `deposit_monies` and `withdraw_monies`.\n",
    "These operations are, of course, very sensitive, so you check if the username matches\n",
    "the username of the authorised personnel."
   ]
  },
  {
   "cell_type": "code",
   "execution_count": null,
   "metadata": {},
   "outputs": [],
   "source": [
    "def deposit_monies(user):\n",
    "    if user not in {\"admin\", \"important_banker\"}:\n",
    "        print(\"Unauthorised!\")\n",
    "        return\n",
    "    \n",
    "    print(f\"Brrr brr very important operation. Depositing $44b into an account\")\n",
    "\n",
    "def withdraw_monies(user):\n",
    "    if user not in {\"admin\", \"important_banker\"}:\n",
    "        print(\"Unauthorised!\")\n",
    "        return\n",
    "    \n",
    "    print(f\"Brrr brr very important operation. Withdrawing $44b from an account\")\n",
    "\n",
    "withdraw_monies(\"admin\")\n",
    "withdraw_monies(\"donald knuth\")\n",
    "\n",
    "deposit_monies(\"admin\")\n",
    "deposit_monies(\"donald knuth\")"
   ]
  },
  {
   "cell_type": "markdown",
   "metadata": {},
   "source": [
    "However, after an FCA audit, the auditors notice that the authorisation code is repeated in each operation.\n",
    "If we want to update our authorisation scheme, we'd have to update the code of every operation. This is error prone and could introduce vulnerabilities into the ATM system\n",
    "so the FCA asked the *National X-Soc Co-op Bank Ltd* to investigate this issue.\n",
    "\n",
    "We could start, by introducing a function which \"adds\" this authorisation code before an operation.\n",
    "As we've learned, **everything** in Python is an object, including functions, so you can pass a function\n",
    "as an argument of a function or even return a function!\n",
    "\n",
    "Essentially, we define a function, which will return another function. The new function\n",
    "checks if the user is authorised, and if the user is authorised, we execute the operation!"
   ]
  },
  {
   "cell_type": "code",
   "execution_count": null,
   "metadata": {},
   "outputs": [],
   "source": [
    "def requires_authorisation(operation):\n",
    "    def secure_operation(user):\n",
    "        if user not in {\"admin\", \"important_banker\"}:\n",
    "            print(\"Unauthorised!\")\n",
    "            return\n",
    "        \n",
    "        operation(user)\n",
    "\n",
    "    return secure_operation\n",
    "\n",
    "def deposit_monies(user):\n",
    "    print(f\"Brrr brr very important operation. Depositing $44b into an account\")\n",
    "\n",
    "def withdraw_monies(user):\n",
    "    print(f\"Brrr brr very important operation. Withdrawing $44b from an account\")\n",
    "\n",
    "\n",
    "secure_withdraw_monies = requires_authorisation(withdraw_monies)\n",
    "\n",
    "secure_withdraw_monies(\"admin\")\n",
    "secure_withdraw_monies(\"donald knuth\")\n",
    "\n",
    "secure_deposit_monies = requires_authorisation(deposit_monies)\n",
    "\n",
    "secure_deposit_monies(\"admin\")\n",
    "secure_deposit_monies(\"donald knuth\")"
   ]
  },
  {
   "cell_type": "markdown",
   "metadata": {},
   "source": [
    "However, we can go one step further and make our code a bit nicer with *syntatic sugar*.\n",
    "`@requires_authorisation` is a decorator! Decorators provide us with a way of modifying the\n",
    "behavior of a function without modifying its body."
   ]
  },
  {
   "cell_type": "code",
   "execution_count": null,
   "metadata": {},
   "outputs": [],
   "source": [
    "def requires_authorisation(operation):\n",
    "    def secure_operation(user):\n",
    "        if user not in {\"admin\", \"important_banker\"}:\n",
    "            print(\"Unauthorised!\")\n",
    "            return\n",
    "        \n",
    "        operation(user)\n",
    "\n",
    "    return secure_operation\n",
    "\n",
    "@requires_authorisation\n",
    "def deposit_monies(user):\n",
    "    print(f\"Brrr brr very important operation. Depositing $44b into an account\")\n",
    "\n",
    "@requires_authorisation\n",
    "def withdraw_monies(user):\n",
    "    print(f\"Brrr brr very important operation. Withdrawing $44b from an account\")\n",
    "\n",
    "withdraw_monies(\"admin\")\n",
    "withdraw_monies(\"donald knuth\")\n",
    "\n",
    "deposit_monies(\"admin\")\n",
    "deposit_monies(\"donald knuth\")"
   ]
  },
  {
   "cell_type": "markdown",
   "metadata": {},
   "source": [
    "For now, you don't need to worry about the implementation details. The important part is understanding what decorators do: modify the behavior of an existing function."
   ]
  },
  {
   "cell_type": "markdown",
   "metadata": {},
   "source": [
    "🖋️ *This week was written by Tomas & Alistair from [Warwick AI](https://warwick.ai/)*"
   ]
  }
 ],
 "metadata": {
  "kernelspec": {
   "display_name": "Python 3.10.2 64-bit",
   "language": "python",
   "name": "python3"
  },
  "language_info": {
   "codemirror_mode": {
    "name": "ipython",
    "version": 3
   },
   "file_extension": ".py",
   "mimetype": "text/x-python",
   "name": "python",
   "nbconvert_exporter": "python",
   "pygments_lexer": "ipython3",
   "version": "3.10.2"
  },
  "orig_nbformat": 4,
  "vscode": {
   "interpreter": {
    "hash": "9e7342ba0ab402af88d570c19a0b1c8a8c78f2edbd6d0204fb59a98d1c2d2ef0"
   }
  }
 },
 "nbformat": 4,
 "nbformat_minor": 2
}
