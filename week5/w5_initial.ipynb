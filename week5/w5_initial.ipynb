{
 "cells": [
  {
   "attachments": {},
   "cell_type": "markdown",
   "metadata": {},
   "source": [
    "# **xSoc Python Course** - Week 5\n",
    "\n",
    "### *Exceptions, Readability and Libraries*"
   ]
  },
  {
   "attachments": {},
   "cell_type": "markdown",
   "metadata": {},
   "source": [
    "---"
   ]
  },
  {
   "attachments": {},
   "cell_type": "markdown",
   "metadata": {},
   "source": [
    "## Programming Practices"
   ]
  },
  {
   "attachments": {},
   "cell_type": "markdown",
   "metadata": {},
   "source": [
    "*\"Everyone can code!\"* is a common phrase used by motivational speakers, to attract people into trying it out. Now, think back to Week 1. How many people were in the room compared to now? A more accurate phrase is probably something like *\"Everyone can code, but not everyone has the time to do it properly.\"*\n",
    "\n",
    "One of the awkward realities that you're going to face is that at some point, another person might have to end up reading it. Putting in effort to make sure your script is easy for others to understand goes a long way, especially when that someone might be you, coming back to something you wrote 3 months ago. The general term for confusing, unclear, or badly written code is ***spaghetti code*** - no prizes for guessing why.\n",
    "\n",
    "Here's an example:"
   ]
  },
  {
   "cell_type": "code",
   "execution_count": null,
   "metadata": {},
   "outputs": [],
   "source": [
    "def x(a, b , c):\n",
    "    ac = 0\n",
    "    bc = 0\n",
    "    cc  = 0\n",
    "    i = 0\n",
    "    for d in a:\n",
    "        j = 0\n",
    "        for e in b:\n",
    "            if j != i:\n",
    "                j = j + 1\n",
    "                continue\n",
    "            k =  0\n",
    "            for f in c:\n",
    "                if k != j:\n",
    "                    k = k + 1\n",
    "                    continue\n",
    "                if k == i:\n",
    "                    match y(d, e, f):\n",
    "                        case 0:\n",
    "                            ac  = ac + 1\n",
    "                        case 2:\n",
    "                            cc = cc + 1  # add one to cc\n",
    "                        case _:\n",
    "                            bc += 1\n",
    "                else:\n",
    "                    k = k + 2\n",
    "                    continue\n",
    "                k = k + 1\n",
    "            j = j + 1\n",
    "        i = i + 1\n",
    "    return y(ac, bc, cc)\n",
    "\n",
    "def y(nOne, nTwo, nThree):\n",
    "    ans = 0\n",
    "    if ((nOne != nTwo) == True):\n",
    "        match (not (nOne < nTwo)):\n",
    "            case True:\n",
    "                if nThree > nOne:\n",
    "                    ans = ans + 1\n",
    "                    ans += 1\n",
    "            case _:\n",
    "                ans += 1\n",
    "                if nTwo > nThree != False:\n",
    "                    return 1\n",
    "                else:\n",
    "                    ans += 1 \n",
    "    elif True:\n",
    "        return 1 if nOne > nThree else 2\n",
    "    return ans\n",
    "    \n",
    "print(x([5, 8, 0, 3], [4, 7, 2, 4], [9, 4, 6, 1]))\n",
    "\n",
    "# what did I just read"
   ]
  },
  {
   "attachments": {},
   "cell_type": "markdown",
   "metadata": {},
   "source": [
    "Can you figure out what that function does? Unless you spend an extremely long time studying it, then no, probably not. Here's a re-written version, that also works on a wider range of input parameters."
   ]
  },
  {
   "cell_type": "code",
   "execution_count": null,
   "metadata": {},
   "outputs": [],
   "source": [
    "# Accepts a list containing the round scores of all pub quiz players (no dupes)\n",
    "# Determines the index of the player who won the most rounds (no dupes)\n",
    "def most_rounds_won(player_breakdown) -> int:\n",
    "\n",
    "    players_in_quiz = len(player_breakdown)\n",
    "    rounds_in_quiz = len(player_breakdown[0])\n",
    "    \n",
    "    # Regroup (transpose/zip) the 2D list to compare more easily\n",
    "    # Example: [[1, 2, 3], [4, 5, 6]] into [[1, 4], [2, 5], [3, 6]]\n",
    "    round_breakdown = [\n",
    "        [scores[round_num] for scores in player_breakdown] for round_num in range(rounds_in_quiz)\n",
    "    ]\n",
    "\n",
    "    counts = [0 for _ in range(players_in_quiz)]  # Used to store the rounds won per player index\n",
    "\n",
    "    for round_scores in round_breakdown:\n",
    "        # Find player index of max value for this round, and count it\n",
    "        max_idx = round_scores.index(max(round_scores))\n",
    "        counts[max_idx] += 1\n",
    "\n",
    "    # Return the index with the most rounds won\n",
    "    return counts.index(max(counts))\n",
    "\n",
    "\n",
    "print(most_rounds_won([[5, 8, 0, 3], [4, 7, 2, 4], [9, 4, 6, 1]]))"
   ]
  },
  {
   "attachments": {},
   "cell_type": "markdown",
   "metadata": {},
   "source": [
    "\n",
    "To make your code more readable, there's a few things you can do:\n",
    "- Use meaningful variable names, and be consistent with how you name variables (such as snake_case)\n",
    "- Have whitespace (empty lines) in your code to split it up\n",
    "- Use comments to explain what your code is doing; you don't have to comment every line - just ones where its not obvious or you think the line is important. In fact, over-commenting is just as bad as not commenting at all\n",
    "- Be consistent with your indentation\n",
    "- Avoid hard-coding values in your code (e.g. if you had an array length 5, using the number 5 instead of `len(array)`) - it makes it harder to change your code if your values need to change"
   ]
  },
  {
   "attachments": {},
   "cell_type": "markdown",
   "metadata": {},
   "source": [
    "Often, there are lots of different implementations that solve the same problem. Many of the constructs you've learned over the past weeks will also help with writing readable code, such as:\n",
    "- Using loops for repeated actions\n",
    "- Using grouped data structures instead of separate variables\n",
    "- Using functions if you're going to be repeatedly using the same snippets of code\n",
    "- Using classes to group common functionality that applies to the same groups of data.\n",
    "- Use of built-in functions and syntax, or external code libraries\n",
    "- Use of recursion (but be careful!)"
   ]
  },
  {
   "attachments": {},
   "cell_type": "markdown",
   "metadata": {},
   "source": [
    "---"
   ]
  },
  {
   "attachments": {},
   "cell_type": "markdown",
   "metadata": {},
   "source": [
    "## Expect Everything\n",
    "Throughout the course, you may have run into an error message or two (or three or...). In Python, we typically refer to these as **Exceptions**.\n",
    "\n",
    "It would be really inconvenient if all programs, ever, crashed the first time they ran into a problem. Luckily, we can write code to deal with these exceptions, should they arise - this is **Exception Handling**. For example, look at this short script that takes an input, converts it to an `int` and doubles it:"
   ]
  },
  {
   "cell_type": "code",
   "execution_count": null,
   "metadata": {},
   "outputs": [],
   "source": [
    "num = int(input(\"Enter a number: \"))\n",
    "num *= 2\n",
    "print(num)"
   ]
  },
  {
   "attachments": {},
   "cell_type": "markdown",
   "metadata": {},
   "source": [
    "Seems fine? But what if the user decides they *don't* want to enter a number, what if, e.g., they enter \"Hello\"? Python doesn't know how to convert a string to an integer, so it will throw a `ValueError` and exit the program.\n",
    "\n",
    "In reality, entering the wrong type of data isn't the end of the world. To stop Python from exiting immediately, we can surround any potentially problem-causing code in a `try-except` block like this:"
   ]
  },
  {
   "cell_type": "code",
   "execution_count": null,
   "metadata": {},
   "outputs": [],
   "source": [
    "try:\n",
    "    num = int(input(\"Enter a number\"))\n",
    "    num *= 2\n",
    "    print(num)\n",
    "except ValueError:\n",
    "    print(\"uh oh - that wasn't a number\")"
   ]
  },
  {
   "attachments": {},
   "cell_type": "markdown",
   "metadata": {},
   "source": [
    "The `try` statement tells the Python interpreter that something could go wrong in the following statements, but we know and have ways to deal with it. Any statements after the `try-except` block will execute normally, even if a `ValueError` is raised.\n",
    "\n",
    "Note: we need `num *= 2` and `print(num)` in the `try` block because if the user inputs something wrong, `num` won't be defined. If the statements were *after* the try statement, this could cause an error as `num` wouldn't be defined.\n",
    "\n",
    "We can also catch multiple types of exceptions!"
   ]
  },
  {
   "cell_type": "code",
   "execution_count": null,
   "metadata": {},
   "outputs": [],
   "source": [
    "try:\n",
    "    num = int(input(\"Enter a number\"))\n",
    "    result = 2 / num\n",
    "    print(result)\n",
    "except ValueError:\n",
    "    print(\"uh oh - that wasn't a number\")\n",
    "except ZeroDivisionError:\n",
    "    print(\"Friends don't let friends divide by zero\")"
   ]
  },
  {
   "attachments": {},
   "cell_type": "markdown",
   "metadata": {},
   "source": [
    "All exceptions are a type of class, all inheriting from the **Exception** class. Also, certain exceptions are also subclasses of other exceptions, e.g. `ZeroDivisionError` is a subclass of `ArithmeticError`, here's a full hierarchy: "
   ]
  },
  {
   "attachments": {
    "Picture2.png": {
     "image/png": "[encoded data removed]"
    }
   },
   "cell_type": "markdown",
   "metadata": {},
   "source": [
    "![Picture2.png](attachment:Picture2.png)"
   ]
  },
  {
   "attachments": {},
   "cell_type": "markdown",
   "metadata": {},
   "source": [
    "So what if we were to do this:"
   ]
  },
  {
   "cell_type": "code",
   "execution_count": null,
   "metadata": {},
   "outputs": [],
   "source": [
    "try:\n",
    "    num = int(input(\"Enter a number\"))\n",
    "    result = 2 / num\n",
    "    print(result)\n",
    "except Exception:\n",
    "    print(\"Something went wrong :(\")\n",
    "except ValueError:\n",
    "    print(\"uh oh - that wasn't a number\")\n",
    "except ZeroDivisionError:\n",
    "    print(\"Friends don't let friends divide by zero\")"
   ]
  },
  {
   "attachments": {},
   "cell_type": "markdown",
   "metadata": {},
   "source": [
    "Try running the above block and input a string. Now input 0. We've caused two different errors, but the same statement is being executed. Why?\n",
    "\n",
    "Since all exceptions are a subclass of **Exception**, Python considers them to be of type **Exception**. Why does this matter? Python executes the *first relevant* except statement - in this case it will *always* be an Exception, so the first statement will execute *regardless* of what type of exception we're throwing. You need to make sure that you put any except statements for subclasses *above* those of their parent classes, otherwise the subclasses will never execute:"
   ]
  },
  {
   "cell_type": "code",
   "execution_count": null,
   "metadata": {},
   "outputs": [],
   "source": [
    "try:\n",
    "    num = int(input(\"Enter a number\"))\n",
    "    result = 2 / num\n",
    "    print(result)\n",
    "except ValueError:\n",
    "    print(\"uh oh - that wasn't a number\")\n",
    "except ZeroDivisionError:\n",
    "    print(\"Friends don't let friends divide by zero\")\n",
    "except Exception:\n",
    "    print(\"Something went wrong :(\")"
   ]
  },
  {
   "attachments": {},
   "cell_type": "markdown",
   "metadata": {},
   "source": [
    "Sometimes we may not want to continue the program if we encounter an error, if we want to throw an exception, we use the `raise` keyword. For example:"
   ]
  },
  {
   "cell_type": "code",
   "execution_count": null,
   "metadata": {},
   "outputs": [],
   "source": [
    "def division(num1: int, num2: int) -> float:\n",
    "    if (num2 == 0):\n",
    "        raise ZeroDivisionError(\"We've been through this - you can't divide by zero\")\n",
    "    else:\n",
    "        return num1 / num2\n",
    "\n",
    "inp_1 = input(\"Enter first number: \")\n",
    "inp_2 = input(\"Enter second number: \")\n",
    "try:\n",
    "    inp_1 = int(inp_1)\n",
    "    inp_2 = int(inp_2)\n",
    "except ValueError:\n",
    "    print(\"uh oh - one of those numbers wasn't a number\")\n",
    "\n",
    "print(division(inp_1, inp_2))"
   ]
  },
  {
   "attachments": {},
   "cell_type": "markdown",
   "metadata": {},
   "source": [
    "We can also write our own custom exceptions. We define them the same way we define a class, making sure it inherits from **Exception**. Then, we can call it anywhere in our code by using `raise`:"
   ]
  },
  {
   "cell_type": "code",
   "execution_count": null,
   "metadata": {},
   "outputs": [],
   "source": [
    "class MyException(Exception):\n",
    "    def __init__(self, msg):\n",
    "        super().__init__(msg)\n",
    "\n",
    "thing = input(\"Enter your favourite society: \")\n",
    "if thing != \"UWCS\":\n",
    "    raise MyException(\"Ding dong, your opinion is wrong\")"
   ]
  },
  {
   "attachments": {},
   "cell_type": "markdown",
   "metadata": {},
   "source": [
    "---"
   ]
  },
  {
   "attachments": {},
   "cell_type": "markdown",
   "metadata": {},
   "source": [
    "## A Comprehensive Description"
   ]
  },
  {
   "attachments": {},
   "cell_type": "markdown",
   "metadata": {},
   "source": [
    "You may have gathered by now that Python is a big fan of shorthand notations. We're going to introduce another: List Comprehensions. They let you cut down on the amount of lines and boilerplate code whenever you're creating a list from existing data.\n",
    "\n",
    "For example, let's say you're trying to create a copy of a list where 100 has been added to every element. One way is like this:"
   ]
  },
  {
   "cell_type": "code",
   "execution_count": null,
   "metadata": {},
   "outputs": [],
   "source": [
    "my_list = [3, 15, 13, 16, 21, 20, 9, 14, 7]\n",
    "\n",
    "new_list = []\n",
    "for num in my_list:\n",
    "    new_list.append(num + 100)\n",
    "\n",
    "print(new_list)"
   ]
  },
  {
   "attachments": {},
   "cell_type": "markdown",
   "metadata": {},
   "source": [
    "But another, more condensed version using a list comprehension would be like this:"
   ]
  },
  {
   "cell_type": "code",
   "execution_count": null,
   "metadata": {},
   "outputs": [],
   "source": [
    "my_list = [3, 15, 13, 16, 21, 20, 9, 14, 7]\n",
    "\n",
    "new_list = [num + 100 for num in my_list]\n",
    "\n",
    "print(new_list)"
   ]
  },
  {
   "attachments": {},
   "cell_type": "markdown",
   "metadata": {},
   "source": [
    "In this case, it's much more compact and readable! The general syntax is `comprehension = [expression for elem in iterable]`, where the `expression` can use the `elem` variable. As you might expect, `elem` is set to each element in the `iterable`. Here's a few more examples:"
   ]
  },
  {
   "cell_type": "code",
   "execution_count": null,
   "metadata": {},
   "outputs": [],
   "source": [
    "# Even numbers from 1 to 50\n",
    "even_50 = [num for num in range(1, 51, 2)]\n",
    "print(even_50)\n",
    "\n",
    "# Combining the first character of each word into a string\n",
    "compliments = [\"Crazy\", \"Ostentacious\", \"Marvelous\", \"Perfect\", \"Unbelievable\", \"Treasured\", \"Incredible\", \"Noble\", \"Grand\"]\n",
    "secret_word = \"\".join([word[0] for word in compliments])\n",
    "print(secret_word)\n",
    "\n",
    "# Nested list comprehensions to form times tables\n",
    "times_tables = [[i * j for j in range(1, 11)] for i in range(1, 11)]\n",
    "print(times_tables)"
   ]
  },
  {
   "attachments": {},
   "cell_type": "markdown",
   "metadata": {},
   "source": [
    "You can also have an *if* condition after the `iterable` in the comprehension, which acts as a filter. You can use the `elem` varaible here too."
   ]
  },
  {
   "cell_type": "code",
   "execution_count": null,
   "metadata": {},
   "outputs": [],
   "source": [
    "cvs = [\n",
    "    \"I consider myself to be an epic gamer with only the finest fortnite skills\",\n",
    "    \"I'm a highly motivated individual with at least two seconds of experience\",\n",
    "    \"After touching my very first controller, I knew it was in my destiny to play games.\",\n",
    "    \"I'm literally the daughter of your CEO, you're going to hire me anyways.\",\n",
    "    \"Life isn't a game. I'm at the peak of my skills, with years of experience in the industry.\"\n",
    "]\n",
    "\n",
    "no_gamer_cvs = [cv for cv in cvs if \"game\" not in cv]\n",
    "print(no_gamer_cvs)"
   ]
  },
  {
   "attachments": {},
   "cell_type": "markdown",
   "metadata": {},
   "source": [
    "> Task 6: You've been given a list of currently enrolled students at the University in the form of the tuples `(name, year_of_study)`, and want to output a list of names: all the students that will *definitely* be studying next year. Use a single list comprehension to do this."
   ]
  },
  {
   "cell_type": "code",
   "execution_count": null,
   "metadata": {},
   "outputs": [],
   "source": [
    "enrolled = [(\"Keegan\", 4), (\"Alia\", 2), (\"Tomas\", 3), (\"Alistair\", 2), (\"Adriano\", 4), (\"Piotr\", 2)]\n",
    "\n",
    "# Output the names of who will *definitely* be enrolled next year (assuming they don't fail their exams!)\n"
   ]
  },
  {
   "attachments": {},
   "cell_type": "markdown",
   "metadata": {},
   "source": [
    "A word of warning: one of the issues with using list comprehensions is that your 'simplification' has the potential to become unreadable. This is especially true when using nested list comprehensions, or needing overly long conditions with many conditions. If things do start to get tricky to write or awkward to read, it might be best to stick with the long way."
   ]
  },
  {
   "attachments": {},
   "cell_type": "markdown",
   "metadata": {},
   "source": [
    "---"
   ]
  },
  {
   "attachments": {},
   "cell_type": "markdown",
   "metadata": {},
   "source": [
    "# Bonus Tasks"
   ]
  },
  {
   "attachments": {},
   "cell_type": "markdown",
   "metadata": {},
   "source": [
    "Finished everything else? These tasks are more challenging, and should test your knowledge of our final week of content. Don't be discouraged if you can't do them all, especially as it's our most difficult set!"
   ]
  },
  {
   "attachments": {},
   "cell_type": "markdown",
   "metadata": {},
   "source": [
    "*You're a pirate, sailing the seven seas and looking for treasure. You've got a treasure map, consisting of a grid split into many different squares. Not only that, but it's marked with the number of buried treasures in each square's region! But alas, the strong tailwinds mean you can only sail to squares south or east of your current location, starting at the most north-west square. Can you find the most bountiful route through these waters, ending at your home port in the very south-east?*"
   ]
  },
  {
   "attachments": {
    "treasure.png": {
     "image/png": "[encoded data removed]"
    }
   },
   "cell_type": "markdown",
   "metadata": {},
   "source": [
    "![treasure.png](attachment:treasure.png)"
   ]
  },
  {
   "attachments": {},
   "cell_type": "markdown",
   "metadata": {},
   "source": [
    "> Bonus 2: Write a function that takes in a 2D list representing the treasure values on each map grid square, and returns the maximum number of treasures that could be claimed in a single trip across these windy waters..."
   ]
  },
  {
   "cell_type": "code",
   "execution_count": null,
   "metadata": {},
   "outputs": [],
   "source": [
    "def maximum_treasure(grid) -> int:\n",
    "    # This is just the maximum treasure count at the bottom-right grid square. Return it!\n",
    "    return 0\n",
    "\n",
    "def max_at_square(grid, x: int, y: int) -> int:\n",
    "    # What makes a coordinate invalid?\n",
    "    # What should we return in this case?\n",
    "    \n",
    "    # The maximum number of treasures up to and including this square.\n",
    "    # ...the best of two other best routes, plus itself?\n",
    "    return 0\n",
    "\n",
    "print(\n",
    "    maximum_treasure(\n",
    "        [\n",
    "            [1, 3, 4], \n",
    "            [2, 3, 1], \n",
    "            [1, 3, 2]\n",
    "        ]\n",
    "    )  # Should return 12 (1 -> 3 -> 3 -> 3 -> 2)\n",
    ")\n",
    "# What will happen on much larger lists?\n",
    "print(maximum_treasure([[1] * 50] * 50))\n",
    "# :)"
   ]
  },
  {
   "attachments": {},
   "cell_type": "markdown",
   "metadata": {},
   "source": [
    "🖋️ ***This week was written by [Computing Society](https://go.uwcs.uk/links)***"
   ]
  }
 ],
 "metadata": {
  "kernelspec": {
   "display_name": "Python 3 (ipykernel)",
   "language": "python",
   "name": "python3"
  },
  "language_info": {
   "codemirror_mode": {
    "name": "ipython",
    "version": 3
   },
   "file_extension": ".py",
   "mimetype": "text/x-python",
   "name": "python",
   "nbconvert_exporter": "python",
   "pygments_lexer": "ipython3",
   "version": "3.9.13"
  },
  "vscode": {
   "interpreter": {
    "hash": "7c57092efe4ff60dfd9ba12cd3127c3cb8001227526172b4b54478afc6e523e7"
   }
  }
 },
 "nbformat": 4,
 "nbformat_minor": 2
}
