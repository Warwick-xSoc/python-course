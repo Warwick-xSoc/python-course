{
 "cells": [
  {
   "attachments": {},
   "cell_type": "markdown",
   "metadata": {},
   "source": [
    "# **xSoc Python Course** - Week 5\n",
    "\n",
    "### *Objects, Libraries, and Readability*\n",
    "\n",
    "🖋️ *Written by Alia & Edmund from [UWCS](uwcs.co.uk)*"
   ]
  },
  {
   "cell_type": "markdown",
   "metadata": {},
   "source": [
    "This week we will look at objects, and how they are used in libaries. We will then investigate how to write readable code.\n",
    "\n",
    "In this lecture, we will aim to cover:\n",
    "\n",
    "- Introducing objects\n",
    "- Using libraries\n",
    "- Writing readable code"
   ]
  },
  {
   "attachments": {},
   "cell_type": "markdown",
   "metadata": {},
   "source": [
    "## A very brief introduction to objects"
   ]
  },
  {
   "attachments": {},
   "cell_type": "markdown",
   "metadata": {},
   "source": [
    "### Why do we need objects?\n",
    "\n",
    "Suppose you have some square pieces of coloured paper, and you want to write some code which models them. One way to do this is using a dictionary to store data about all the interesting aspects of the square, for example:"
   ]
  },
  {
   "cell_type": "code",
   "execution_count": null,
   "metadata": {},
   "outputs": [],
   "source": [
    "square = {\n",
    "    \"width\": 3,\n",
    "    \"colour\": \"blue\"\n",
    "}"
   ]
  },
  {
   "cell_type": "markdown",
   "metadata": {},
   "source": [
    "Now we have this representation of the real world, we might want to use code to calculate some properties about it! For example, we can write a function which calculates a square's area:"
   ]
  },
  {
   "cell_type": "code",
   "execution_count": null,
   "metadata": {},
   "outputs": [],
   "source": [
    "def calculate_area(square):\n",
    "    # Remember that `**` is the power operator\n",
    "    return square[\"width\"] ** 2"
   ]
  },
  {
   "cell_type": "markdown",
   "metadata": {},
   "source": [
    "Unfortunately, there are a few issues with this representation. For example, because a dictionary is a dynamic data structure, if you mispell a key name, this will only be caught at run-time. This also means that IDEs (such as Visual Studio Code) won't be able to provide you with helpful hints."
   ]
  },
  {
   "cell_type": "markdown",
   "metadata": {},
   "source": [
    "Fortunately, there is a better way! In programming, objects are structures which allow us to bundle together data and code which uses that data. They are helpful as they make it easy to represent things in the real world."
   ]
  },
  {
   "cell_type": "markdown",
   "metadata": {},
   "source": [
    "### Getting started with classes and objects\n",
    "\n",
    "Classes are pieces of code which specify which **data** is stored about, and what the **behaviour** of a particular type of object will be.\n",
    "\n",
    "A class can be thought of as a \"blueprint\" for an object. If you have a blueprint of a car, you could make many different physical cars from that single blueprint. In the same way, you can make many different objects from the same class.\n",
    "\n",
    "These objects are called **instances** of their class, and the process of making an object from a class is called **instantiation**.\n",
    "\n",
    "You can define a class using the `class` keyword, and instantiate an object from it using round brackets. For example:"
   ]
  },
  {
   "cell_type": "code",
   "execution_count": null,
   "metadata": {},
   "outputs": [],
   "source": [
    "class Square:\n",
    "    pass\n",
    "\n",
    "my_square = Square()"
   ]
  },
  {
   "cell_type": "markdown",
   "metadata": {},
   "source": [
    "You might be looking at this code and think it is not very useful! This is because we have not added the two key components of the class yet, their **properties** and their **methods**."
   ]
  },
  {
   "cell_type": "markdown",
   "metadata": {},
   "source": [
    "The **properties** of a class are just which bits of data it stores about itself. In our example with paper squares, these were its width and colour.\n",
    "\n",
    "The **attributes** of an object refers to the actual values of the properties of its class. In our example with paper squares, these were it being 3cm wide and blue in colour. In Python, we can access an object's attributes using the dot syntax: `object.attribute`, and use it just like any other variable."
   ]
  },
  {
   "cell_type": "markdown",
   "metadata": {},
   "source": [
    "The **methods** of a class refer to the behaviours its objects will show. Methods are defined by functions within the class, and typically operate on the properties of the class. In our example with paper squares, the `calculate_area` function could be a method of the square class. As before with attributes, we can run an object's method using the dot syntax `object.method(params)`, and use it just like any other function."
   ]
  },
  {
   "cell_type": "markdown",
   "metadata": {},
   "source": [
    "Methods can (usually) only be run on the objects, not the class. This is because they may need the actual values in the object's attributes. In Python, this means that the first argument to all methods is almost always `self` - which is a reference to the object which called the method. When we are calling a method, we don't need to pass the object as an argument, this is done automatically!"
   ]
  },
  {
   "cell_type": "markdown",
   "metadata": {},
   "source": [
    "In Python, we use the special `__init__` method (called a constructor, since it constructs the object) to define what properties a class will have. This method is called when we instantiate the class, and we can pass the actual values of its attributes as arguments."
   ]
  },
  {
   "cell_type": "markdown",
   "metadata": {},
   "source": [
    "With all of this knowledge, we can re-write our paper squares example as follows:"
   ]
  },
  {
   "cell_type": "code",
   "execution_count": null,
   "metadata": {},
   "outputs": [],
   "source": [
    "class Square:\n",
    "    def __init__(self, width, colour):\n",
    "        self.width = width\n",
    "        self.colour = colour\n",
    "    \n",
    "    def calculate_area(self):\n",
    "        return self.width ** 2\n",
    "\n",
    "my_square = Square(3, \"blue\")\n",
    "print(my_square.calculate_area)"
   ]
  },
  {
   "cell_type": "markdown",
   "metadata": {},
   "source": [
    "### In Python, **everything** is an object!\n",
    "\n",
    "In Python, all objects automatically have property called `__class__`, which stores a reference to the class they were instantiated from. Using this, we can see that **everything** in Python is an object, for example:"
   ]
  },
  {
   "cell_type": "code",
   "execution_count": null,
   "metadata": {},
   "outputs": [],
   "source": [
    "print(\"Hello\".__class__)\n",
    "print((100).__class__)\n",
    "print(print.__class__)"
   ]
  },
  {
   "cell_type": "markdown",
   "metadata": {},
   "source": [
    "This is because classes and objects are a really helpful way to write code to represent things, and is why it is important to know about them!"
   ]
  },
  {
   "cell_type": "markdown",
   "metadata": {},
   "source": [
    "\n",
    "But this top level view of objects as structures with properties which store data and methods which act on that data hopefully allows you to both:\n",
    "- Write and use simple classes of your own\n",
    "- Use classes other people have written to do useful things, in the form of libraries..."
   ]
  },
  {
   "cell_type": "markdown",
   "metadata": {},
   "source": [
    "\n",
    "There is **lots** more to learn about how classes and objects work, such as: inheritance, class hierarchies, polymorphism, and much more! If you are interested in learning more, a [good tutorial can be found here](https://realpython.com/python-classes/)."
   ]
  },
  {
   "attachments": {},
   "cell_type": "markdown",
   "metadata": {},
   "source": [
    "## Using libraries"
   ]
  },
  {
   "attachments": {},
   "cell_type": "markdown",
   "metadata": {},
   "source": [
    "### What are libraries?\n",
    "\n",
    "We have used libraries already in this course, but it is useful to know more about them, as they can be really helpful.\n",
    "\n",
    "Libraries in python are collections of code related to a certain function. For example, the `random` library contains functions to generate random numbers.\n",
    "\n",
    "The reason libraries are so useful is they allow us to leverage code other people have written already to do a job, instead of having to do it ourselves!"
   ]
  },
  {
   "cell_type": "markdown",
   "metadata": {},
   "source": [
    "### The standard library\n",
    "\n",
    "Some libraries are included when you install python, and are called the *standard library*. You can find a list of all of them [here](https://docs.python.org/3/library/index.html).\n",
    "\n",
    "The libraries we have already seen, like `random` and `sys` are in the standard library, as we didn't need to install them.\n",
    "\n",
    "As a reminder, to use code from a library in you program, you use the `import` keyword to bring the library into your program, which then allows you to use functions and classes from the library, for example:"
   ]
  },
  {
   "cell_type": "code",
   "execution_count": null,
   "metadata": {},
   "outputs": [],
   "source": [
    "import random\n",
    "print(random.randint(0, 10))"
   ]
  },
  {
   "cell_type": "markdown",
   "metadata": {},
   "source": [
    "This imports the entire `random` library, then uses the `randint` function from it to print a random integer between one and ten.\n",
    "\n",
    "Sometimes, we might want to only import certain functions from the library, not the whole thing. This can be done with the `from` keyword. For example with the example above, we could instead write:"
   ]
  },
  {
   "cell_type": "code",
   "execution_count": null,
   "metadata": {},
   "outputs": [],
   "source": [
    "from random import randint\n",
    "print(randint(0, 10))"
   ]
  },
  {
   "attachments": {},
   "cell_type": "markdown",
   "metadata": {},
   "source": [
    "### Finding libraries\n",
    "\n",
    "On top of the standard library, there is a huge trove of other libraries written for Python. However, they do not come installed by default.\n",
    "\n",
    "These libraries are indexed on [PyPI (the Python Package Index)](https://pypi.org/)\n",
    "\n",
    "To install libraries, we need to use a tool called a package manager. There are various ones for different use cases, such as `conda` and `poetry`, but in this course we will use `pip`, as it comes with python by default."
   ]
  },
  {
   "cell_type": "markdown",
   "metadata": {},
   "source": [
    "Before you go installing random libraries, first a word of warning:\n",
    "\n",
    "***Non-standard libraries may contain malware***\n",
    "\n",
    "To check if a library is likely safe, you can look at how many stars/forks it has on GitHub (more is better), and when it was last updated (more recent is better)."
   ]
  },
  {
   "cell_type": "markdown",
   "metadata": {},
   "source": [
    "To install a new library, we have to use the `pip` command line command. Go to the terminal and use `pip --help` to see the options.\n",
    "\n",
    "|Command|Description|\n",
    "|-------|--------|\n",
    "|```pip install <library name>```|Installs a library|\n",
    "|```pip list```|Lists installed libraries|\n",
    "|```pip uninstall <library name>```|Uninstalls a library|\n",
    "\n",
    "To test this, go to the terminal and use `pip install emoji` to install the \"emoji\" library."
   ]
  },
  {
   "cell_type": "code",
   "execution_count": null,
   "metadata": {},
   "outputs": [],
   "source": [
    "from emoji import emojize\n",
    "print(emojize(\":thumbs_up:\"))"
   ]
  },
  {
   "cell_type": "markdown",
   "metadata": {},
   "source": [
    "This should print out the thumbs up emoji!\n",
    "\n",
    "Lots of libraries have documentation websites online, for example [for the emoji library](https://carpedm20.github.io/emoji/docs/). This can be really useful for looking up what functions exist, and how to use them."
   ]
  },
  {
   "cell_type": "markdown",
   "metadata": {},
   "source": [
    "\n",
    "- Reading documentation\n",
    "\n",
    "- How classes tie into imported code"
   ]
  },
  {
   "attachments": {},
   "cell_type": "markdown",
   "metadata": {},
   "source": [
    "### Doing useful(-ish) things\n",
    "\n",
    "Once you can use libraries effectively, a lot of cool functionality becomes really accessible. Libraries can allow you to do anything from running web servers to interacting with hardware to training machine learning models, so it's a good idea to spend some time playing around with them!\n",
    "\n",
    "In week 6, we will see some examples of using libraries to solve real-world problems!"
   ]
  },
  {
   "attachments": {},
   "cell_type": "markdown",
   "metadata": {},
   "source": [
    "## Readability counts!"
   ]
  },
  {
   "attachments": {},
   "cell_type": "markdown",
   "metadata": {},
   "source": [
    "### Why bother?\n",
    "\n",
    "*\"Everyone can code!\"* is a common phrase used by motivational speakers, to attract people into trying it out. Now, think back to Week 1. How many people were in the room compared to now? A more accurate phrase is probably something like *\"Everyone can code, but not everyone has the time to do it properly.\"*\n",
    "\n",
    "One of the awkward realities that you're going to face is that at some point, another person might have to end up reading it. In fact, it is commonly quoted **\"code is read ten times more than it is written\"**.\n",
    "\n",
    "Putting in effort to make sure your script is easy for others to understand goes a long way, especially when that someone might be you, coming back to something you wrote 3 months ago. Confusing, unclear, or badly written code is often called ***spaghetti code*** - no prizes for guessing why!"
   ]
  },
  {
   "cell_type": "code",
   "execution_count": null,
   "metadata": {},
   "outputs": [],
   "source": [
    "def x(a, b , c):\n",
    "    ac = 0\n",
    "    bc = 0\n",
    "    cc  = 0\n",
    "    i = 0\n",
    "    for d in a:\n",
    "        j = 0\n",
    "        for e in b:\n",
    "            if j != i:\n",
    "                j = j + 1\n",
    "                continue\n",
    "            k =  0\n",
    "            for f in c:\n",
    "                if k != j:\n",
    "                    k = k + 1\n",
    "                    continue\n",
    "                if k == i:\n",
    "                    match y(d, e, f):\n",
    "                        case 0:\n",
    "                            ac  = ac + 1\n",
    "                        case 2:\n",
    "                            cc = cc + 1  # add one to cc\n",
    "                        case _:\n",
    "                            bc += 1\n",
    "                else:\n",
    "                    k = k + 2\n",
    "                    continue\n",
    "                k = k + 1\n",
    "            j = j + 1\n",
    "        i = i + 1\n",
    "    return y(ac, bc, cc)\n",
    "\n",
    "def y(nOne, nTwo, nThree):\n",
    "    ans = 0\n",
    "    if ((nOne != nTwo) == True):\n",
    "        match (not (nOne < nTwo)):\n",
    "            case True:\n",
    "                if nThree > nOne:\n",
    "                    ans = ans + 1\n",
    "                    ans += 1\n",
    "            case _:\n",
    "                ans += 1\n",
    "                if nTwo > nThree != False:\n",
    "                    return 1\n",
    "                else:\n",
    "                    ans += 1 \n",
    "    elif True:\n",
    "        return 1 if nOne > nThree else 2\n",
    "    return ans\n",
    "    \n",
    "print(x([5, 8, 0, 3], [4, 7, 2, 4], [9, 4, 6, 1]))\n",
    "\n",
    "# what did I just read"
   ]
  },
  {
   "cell_type": "markdown",
   "metadata": {},
   "source": [
    "Can you figure out what that function does? Unless you spend an extremely long time studying it, then no, probably not. Here's a re-written version, that also works on a wider range of input parameters."
   ]
  },
  {
   "cell_type": "code",
   "execution_count": null,
   "metadata": {},
   "outputs": [],
   "source": [
    "def most_rounds_won(player_breakdown: list[list[int]]) -> int:\n",
    "    \"\"\"Get the index of the player who won the most rounds.\n",
    "    \n",
    "    Args:\n",
    "        player_breakdown: A list containing the lists of scores for each player,\n",
    "            which doesn't contain duplicates.\n",
    "            \n",
    "    Returns:\n",
    "        The index in the input list of the player who won the most rounds.\n",
    "    \"\"\"\n",
    "    players_in_quiz = len(player_breakdown)\n",
    "    rounds_in_quiz = len(player_breakdown[0])\n",
    "    \n",
    "    # Regroup (transpose/zip) the 2D list to compare more easily\n",
    "    # Example: [[1, 2, 3], [4, 5, 6]] into [[1, 4], [2, 5], [3, 6]]\n",
    "    round_breakdown = [\n",
    "        [scores[round_num] for scores in player_breakdown]\n",
    "        for round_num in range(rounds_in_quiz)\n",
    "    ]\n",
    "\n",
    "    # Used to store the rounds won per player index\n",
    "    counts = [0 for _ in range(players_in_quiz)]\n",
    "\n",
    "    for round_scores in round_breakdown:\n",
    "        # Find player index of max value for this round, and count it\n",
    "        max_idx = round_scores.index(max(round_scores))\n",
    "        counts[max_idx] += 1\n",
    "\n",
    "    # Return the index with the most rounds won\n",
    "    return counts.index(max(counts))\n",
    "\n",
    "\n",
    "print(most_rounds_won([[5, 8, 0, 3], [4, 7, 2, 4], [9, 4, 6, 1]]))"
   ]
  },
  {
   "attachments": {},
   "cell_type": "markdown",
   "metadata": {},
   "source": [
    "### Tips for readability\n",
    "\n",
    "In this section, we will go through a number of tips you can use to improve the readability of your code. You may be able to see where we have applied these tips in the re-written code above!"
   ]
  },
  {
   "cell_type": "markdown",
   "metadata": {},
   "source": [
    "#### General tips\n",
    "\n",
    "To make your code more readable, there's a few things you can do:\n",
    "\n",
    "- Use meaningful variable names which describe their contents\n",
    "- Be consistent with how you name variables (such as `snake_case`)\n",
    "- Use whitespace (empty lines) in your code to visually split up different sections\n",
    "- Be consistent with your indentation, always using 4 spaces per indent level\n",
    "- Avoid hard-coding values in your code\n",
    "  - If you had an arrary of length fix, use `len(array)` rather than the number `5` to refer to its length. This makes it easier if the array changes in the future\n",
    "  - For the rare case of constant values in your code (e.g. mathematical constants), consider writing them at the top of your code in `UPPER_CASE`\n"
   ]
  },
  {
   "cell_type": "markdown",
   "metadata": {},
   "source": [
    "#### Structuring your code\n",
    "\n",
    "Often, there are lots of different implementations that solve the same problem. Many of the constructs you've learned over the past weeks will also help with writing readable code, such as:\n",
    "\n",
    "- Using loops for repeated actions (don't just copy and paste code blocks next to each other)\n",
    "- Using grouped data structures like lists or dictionaries instead of many separate variables\n",
    "- Using functions if you're going to be repeatedly using the same snippets of code\n",
    "- Using classes to group common functionality that applies to the same groups of data.\n",
    "- Use of built-in functions and syntax, or external code libraries"
   ]
  },
  {
   "cell_type": "markdown",
   "metadata": {},
   "source": [
    "#### Type hinting\n",
    "\n",
    "When working with function that take some parameters it can be helpful to document the types of these parameters. This lets you and other developers working on the code know what type of data should be passed to the function.\n",
    "\n",
    "This can be achieved using **type hints**. Loosely, `:` indicates the type of a variable, `->` that a function returns a value. This looks like:\n",
    "\n",
    "```\n",
    "# For functions\n",
    "def function_name(param1: param1_type, param2: param2_type) -> return_type:\n",
    "    pass\n",
    "```\n",
    "\n",
    "For example:"
   ]
  },
  {
   "cell_type": "code",
   "execution_count": null,
   "metadata": {},
   "outputs": [],
   "source": [
    "# This is a function which takes an integer as its parameter, and returns a boolean\n",
    "def is_even(number: int) -> bool:\n",
    "    return number % 2 == 0"
   ]
  },
  {
   "cell_type": "markdown",
   "metadata": {},
   "source": [
    "The type after the colon or arrow can be one of the built-in types (e.g. `int`, `float`, `bool`, ...), the name of a class (and more!)"
   ]
  },
  {
   "cell_type": "markdown",
   "metadata": {},
   "source": [
    "It is important to note that type hints are **ignored by the python interpreter** therefore have no effect on the execution of your code. This means that you can pass an ``int`` to a function whose parameter is declared as a ``str`` or you can return a ``bool`` from a function whose return type is declared as ``float``. Type hints are purely for documentation and for use with external tools."
   ]
  },
  {
   "cell_type": "code",
   "execution_count": null,
   "metadata": {},
   "outputs": [],
   "source": [
    "def say_hello(name: str) -> None:\n",
    "    print(f\"Hello {name}!\")\n",
    "    \n",
    "say_hello(\"The xSoc course\")\n",
    "# The interpreter still allows this, even though it is the wrong type\n",
    "say_hello(123)"
   ]
  },
  {
   "cell_type": "markdown",
   "metadata": {},
   "source": [
    "If you want to know more about type hints, you can read [their PEP](https://peps.python.org/pep-0484/), or look at tools like [MyPy](https://mypy.readthedocs.io/en/stable/) which check the type hints."
   ]
  },
  {
   "cell_type": "markdown",
   "metadata": {},
   "source": [
    "#### Docstrings\n",
    "\n",
    "We have already seen how to write comments (lines which are ignored by the Python interpreter) using the `#` character. However, there is another way to ignore a line: creating a string, but not assigning it to a variable. For example"
   ]
  },
  {
   "cell_type": "code",
   "execution_count": null,
   "metadata": {},
   "outputs": [],
   "source": [
    "# This is a comment\n",
    "\n",
    "\"This line is also ignored by Python\"\n",
    "\n",
    "\"\"\"\n",
    "This is a multi-line string, which isn't assigned to anything.\n",
    "\n",
    "This is how we write multi-line comments in python.\n",
    "\"\"\""
   ]
  },
  {
   "cell_type": "markdown",
   "metadata": {},
   "source": [
    "\n",
    "Python docstrings are string literals which are written right after the definition of a function, class, or module. They are used to describe what their code block does. They are also automatically associated with their object as the `__doc__` attribute, so they can be printed and read later within the interpreter. For example:"
   ]
  },
  {
   "cell_type": "code",
   "execution_count": null,
   "metadata": {},
   "outputs": [],
   "source": [
    "def square(number: int) -> int:\n",
    "    \"\"\"Takes a number, and returns its square.\"\"\"\n",
    "    return number ** 2\n",
    "\n",
    "print(\"The square function: {square.__doc__}\")\n",
    "print(square(2))"
   ]
  },
  {
   "cell_type": "markdown",
   "metadata": {},
   "source": [
    "Docstrings are often more helpful than inline comments for a number of reasons, including:\n",
    "\n",
    "- Inline comments often become out of date if the code they are about changes, whereas docstrings talk more about interfaces than implementation\n",
    "- They can be automatically turned into documentation"
   ]
  },
  {
   "cell_type": "markdown",
   "metadata": {},
   "source": [
    "You can read more about docstrings [in their PEP](https://peps.python.org/pep-0257/). Different people structure how they write docstrings in different ways, but you can read more about [Google style docstrings here](https://sphinxcontrib-napoleon.readthedocs.io/en/latest/example_google.html)."
   ]
  },
  {
   "cell_type": "markdown",
   "metadata": {},
   "source": [
    "#### Extension: List comprehensions\n",
    "\n"
   ]
  },
  {
   "attachments": {},
   "cell_type": "markdown",
   "metadata": {},
   "source": [
    "---"
   ]
  },
  {
   "cell_type": "markdown",
   "metadata": {},
   "source": [
    "# Week 5 Exercises"
   ]
  },
  {
   "cell_type": "markdown",
   "metadata": {},
   "source": [
    "## Exercise n"
   ]
  },
  {
   "cell_type": "markdown",
   "metadata": {},
   "source": [
    "# Week 5 Bonus Exercises"
   ]
  },
  {
   "cell_type": "markdown",
   "metadata": {},
   "source": [
    "## Challenge n"
   ]
  },
  {
   "attachments": {},
   "cell_type": "markdown",
   "metadata": {},
   "source": [
    "🖋️ ***This week was written by [Computing Society](https://go.uwcs.uk/links)***"
   ]
  }
 ],
 "metadata": {
  "kernelspec": {
   "display_name": "Python 3 (ipykernel)",
   "language": "python",
   "name": "python3"
  },
  "language_info": {
   "codemirror_mode": {
    "name": "ipython",
    "version": 3
   },
   "file_extension": ".py",
   "mimetype": "text/x-python",
   "name": "python",
   "nbconvert_exporter": "python",
   "pygments_lexer": "ipython3",
   "version": "3.11.3"
  },
  "vscode": {
   "interpreter": {
    "hash": "7c57092efe4ff60dfd9ba12cd3127c3cb8001227526172b4b54478afc6e523e7"
   }
  }
 },
 "nbformat": 4,
 "nbformat_minor": 2
}
