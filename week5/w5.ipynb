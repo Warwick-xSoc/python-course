{
 "cells": [
  {
   "attachments": {},
   "cell_type": "markdown",
   "metadata": {},
   "source": [
    "# **xSoc Python Course** - Week 5\n",
    "\n",
    "### *Objects, Libraries, and Readability*"
   ]
  },
  {
   "attachments": {},
   "cell_type": "markdown",
   "metadata": {},
   "source": [
    "## A very brief introduction to objects"
   ]
  },
  {
   "attachments": {},
   "cell_type": "markdown",
   "metadata": {},
   "source": [
    "### What is an object?"
   ]
  },
  {
   "attachments": {},
   "cell_type": "markdown",
   "metadata": {},
   "source": [
    "### Properties and methods"
   ]
  },
  {
   "attachments": {},
   "cell_type": "markdown",
   "metadata": {},
   "source": [
    "### What next?"
   ]
  },
  {
   "attachments": {},
   "cell_type": "markdown",
   "metadata": {},
   "source": [
    "## Using libraries"
   ]
  },
  {
   "attachments": {},
   "cell_type": "markdown",
   "metadata": {},
   "source": [
    "### Where do I start?"
   ]
  },
  {
   "attachments": {},
   "cell_type": "markdown",
   "metadata": {},
   "source": [
    "### Finding libraries"
   ]
  },
  {
   "attachments": {},
   "cell_type": "markdown",
   "metadata": {},
   "source": [
    "### Doing useful(-ish) things"
   ]
  },
  {
   "attachments": {},
   "cell_type": "markdown",
   "metadata": {},
   "source": [
    "## Readability counts!"
   ]
  },
  {
   "attachments": {},
   "cell_type": "markdown",
   "metadata": {},
   "source": [
    "### Why bother?\n",
    "\n",
    "*\"Everyone can code!\"* is a common phrase used by motivational speakers, to attract people into trying it out. Now, think back to Week 1. How many people were in the room compared to now? A more accurate phrase is probably something like *\"Everyone can code, but not everyone has the time to do it properly.\"*\n",
    "\n",
    "One of the awkward realities that you're going to face is that at some point, another person might have to end up reading it. Putting in effort to make sure your script is easy for others to understand goes a long way, especially when that someone might be you, coming back to something you wrote 3 months ago. The general term for confusing, unclear, or badly written code is ***spaghetti code*** - no prizes for guessing why."
   ]
  },
  {
   "cell_type": "code",
   "execution_count": null,
   "metadata": {},
   "outputs": [],
   "source": [
    "def x(a, b , c):\n",
    "    ac = 0\n",
    "    bc = 0\n",
    "    cc  = 0\n",
    "    i = 0\n",
    "    for d in a:\n",
    "        j = 0\n",
    "        for e in b:\n",
    "            if j != i:\n",
    "                j = j + 1\n",
    "                continue\n",
    "            k =  0\n",
    "            for f in c:\n",
    "                if k != j:\n",
    "                    k = k + 1\n",
    "                    continue\n",
    "                if k == i:\n",
    "                    match y(d, e, f):\n",
    "                        case 0:\n",
    "                            ac  = ac + 1\n",
    "                        case 2:\n",
    "                            cc = cc + 1  # add one to cc\n",
    "                        case _:\n",
    "                            bc += 1\n",
    "                else:\n",
    "                    k = k + 2\n",
    "                    continue\n",
    "                k = k + 1\n",
    "            j = j + 1\n",
    "        i = i + 1\n",
    "    return y(ac, bc, cc)\n",
    "\n",
    "def y(nOne, nTwo, nThree):\n",
    "    ans = 0\n",
    "    if ((nOne != nTwo) == True):\n",
    "        match (not (nOne < nTwo)):\n",
    "            case True:\n",
    "                if nThree > nOne:\n",
    "                    ans = ans + 1\n",
    "                    ans += 1\n",
    "            case _:\n",
    "                ans += 1\n",
    "                if nTwo > nThree != False:\n",
    "                    return 1\n",
    "                else:\n",
    "                    ans += 1 \n",
    "    elif True:\n",
    "        return 1 if nOne > nThree else 2\n",
    "    return ans\n",
    "    \n",
    "print(x([5, 8, 0, 3], [4, 7, 2, 4], [9, 4, 6, 1]))\n",
    "\n",
    "# what did I just read"
   ]
  },
  {
   "cell_type": "markdown",
   "metadata": {},
   "source": [
    "Can you figure out what that function does? Unless you spend an extremely long time studying it, then no, probably not. Here's a re-written version, that also works on a wider range of input parameters."
   ]
  },
  {
   "cell_type": "code",
   "execution_count": null,
   "metadata": {},
   "outputs": [],
   "source": [
    "def most_rounds_won(player_breakdown: list[list[int]]) -> int:\n",
    "    \"\"\"Get the index of the player who won the most rounds.\n",
    "    \n",
    "    Given a list containing the lists of scores for pub quiz players (which\n",
    "    doesn't contain duplicates), return the index of the player which one most\n",
    "    rounds.\n",
    "    \"\"\"\n",
    "    players_in_quiz = len(player_breakdown)\n",
    "    rounds_in_quiz = len(player_breakdown[0])\n",
    "    \n",
    "    # Regroup (transpose/zip) the 2D list to compare more easily\n",
    "    # Example: [[1, 2, 3], [4, 5, 6]] into [[1, 4], [2, 5], [3, 6]]\n",
    "    round_breakdown = [\n",
    "        [scores[round_num] for scores in player_breakdown]\n",
    "        for round_num in range(rounds_in_quiz)\n",
    "    ]\n",
    "\n",
    "    # Used to store the rounds won per player index\n",
    "    counts = [0 for _ in range(players_in_quiz)]\n",
    "\n",
    "    for round_scores in round_breakdown:\n",
    "        # Find player index of max value for this round, and count it\n",
    "        max_idx = round_scores.index(max(round_scores))\n",
    "        counts[max_idx] += 1\n",
    "\n",
    "    # Return the index with the most rounds won\n",
    "    return counts.index(max(counts))\n",
    "\n",
    "\n",
    "print(most_rounds_won([[5, 8, 0, 3], [4, 7, 2, 4], [9, 4, 6, 1]]))"
   ]
  },
  {
   "attachments": {},
   "cell_type": "markdown",
   "metadata": {},
   "source": [
    "### Tips for readability"
   ]
  },
  {
   "attachments": {},
   "cell_type": "markdown",
   "metadata": {},
   "source": [
    "---"
   ]
  },
  {
   "attachments": {},
   "cell_type": "markdown",
   "metadata": {},
   "source": [
    "🖋️ ***This week was written by [Computing Society](https://go.uwcs.uk/links)***"
   ]
  }
 ],
 "metadata": {
  "kernelspec": {
   "display_name": "Python 3 (ipykernel)",
   "language": "python",
   "name": "python3"
  },
  "language_info": {
   "codemirror_mode": {
    "name": "ipython",
    "version": 3
   },
   "file_extension": ".py",
   "mimetype": "text/x-python",
   "name": "python",
   "nbconvert_exporter": "python",
   "pygments_lexer": "ipython3",
   "version": "3.11.3"
  },
  "vscode": {
   "interpreter": {
    "hash": "7c57092efe4ff60dfd9ba12cd3127c3cb8001227526172b4b54478afc6e523e7"
   }
  }
 },
 "nbformat": 4,
 "nbformat_minor": 2
}
