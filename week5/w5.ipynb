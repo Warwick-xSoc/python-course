{
 "cells": [
  {
   "attachments": {},
   "cell_type": "markdown",
   "metadata": {},
   "source": [
    "# **xSoc Python Course** - Week 5\n",
    "\n",
    "### *Objects, Libraries, and Readability*\n",
    "\n",
    "🖋️ *Written by Alia & Edmund from [UWCS](uwcs.co.uk)*"
   ]
  },
  {
   "cell_type": "markdown",
   "metadata": {},
   "source": [
    "This week we will look at objects, and how they are used in libaries. We will then investigate how to write readable code.\n",
    "\n",
    "In this lecture, we will aim to cover:\n",
    "\n",
    "- Introducing objects\n",
    "- Using libraries\n",
    "- Writing readable code"
   ]
  },
  {
   "attachments": {},
   "cell_type": "markdown",
   "metadata": {},
   "source": [
    "## A very brief introduction to objects"
   ]
  },
  {
   "attachments": {},
   "cell_type": "markdown",
   "metadata": {},
   "source": [
    "### Why do we need objects?\n",
    "\n",
    "In programming, objects are structures which allow us to bundle together data and code which uses that data. They are helpful, as they make it easy to represent things in the real world."
   ]
  },
  {
   "cell_type": "markdown",
   "metadata": {},
   "source": [
    "Suppose you have some square pieces of coloured paper, and you want to write some code which models them.\n",
    "\n",
    "One way to do this is using a dictionary to store data about all the interesting aspects of the square, for example:"
   ]
  },
  {
   "cell_type": "code",
   "execution_count": null,
   "metadata": {},
   "outputs": [],
   "source": [
    "square = {\n",
    "    \"width\": 3,\n",
    "    \"colour\": \"blue\"\n",
    "}"
   ]
  },
  {
   "cell_type": "markdown",
   "metadata": {},
   "source": [
    "Now we have this representation of the real world, we might want to use code to calculate some properties about it! For example, we can write a function which calculates a square's area:"
   ]
  },
  {
   "cell_type": "code",
   "execution_count": null,
   "metadata": {},
   "outputs": [],
   "source": [
    "def calculate_area(square):\n",
    "    # Remember that `**` is the power operator\n",
    "    return square[\"width\"] ** 2"
   ]
  },
  {
   "attachments": {},
   "cell_type": "markdown",
   "metadata": {},
   "source": [
    "### Making and using simple objects\n",
    "\n",
    "- Properties are the data stored by the object\n",
    "- Methods are the operations on them\n",
    "- Constructors?\n"
   ]
  },
  {
   "cell_type": "markdown",
   "metadata": {},
   "source": [
    "A `class` can be thought of as a \"blueprint\" for an object. It defines what *properties* and *methods* the object will have, but not the values of those properties."
   ]
  },
  {
   "cell_type": "markdown",
   "metadata": {},
   "source": [
    "In the same way a physical thing can be created from a blueprint, we can create an object from a class. The object then has values for the properties of the class, and is called and *instance of* it."
   ]
  },
  {
   "cell_type": "markdown",
   "metadata": {},
   "source": [
    "Now, let's try to make a class to represent the square in the above example:"
   ]
  },
  {
   "cell_type": "code",
   "execution_count": null,
   "metadata": {},
   "outputs": [],
   "source": [
    "class Square:\n",
    "    def __init__(self, width, colour):\n",
    "        self.width = width\n",
    "        self.colour = colour\n",
    "        \n",
    "    def calculate_area(self):\n",
    "        return self.width ** 2"
   ]
  },
  {
   "cell_type": "markdown",
   "metadata": {},
   "source": [
    "We can then create an object instance of this class, and find its area:"
   ]
  },
  {
   "cell_type": "code",
   "execution_count": null,
   "metadata": {},
   "outputs": [],
   "source": [
    "red_square = Square(3, \"red\")\n",
    "print(red_square.calculate_area())"
   ]
  },
  {
   "attachments": {},
   "cell_type": "markdown",
   "metadata": {},
   "source": [
    "### What next?\n",
    "\n",
    "- Everything in python is an object!\n",
    "- Object orientation is very complicated!\n",
    "- Lots of things like inheritance, liskov substitution etc.\n",
    "- Libraries use objects"
   ]
  },
  {
   "attachments": {},
   "cell_type": "markdown",
   "metadata": {},
   "source": [
    "## Using libraries"
   ]
  },
  {
   "attachments": {},
   "cell_type": "markdown",
   "metadata": {},
   "source": [
    "### What are libraries?\n",
    "\n",
    "We have used libraries already in this course, but it is useful to know more about them, as they can be really helpful.\n",
    "\n",
    "Libraries in python are collections of code related to a certain function. For example, the `random` library contains functions to generate random numbers.\n",
    "\n",
    "The reason libraries are so useful is they allow us to leverage code other people have written already to do a job, instead of having to do it ourselves!"
   ]
  },
  {
   "cell_type": "markdown",
   "metadata": {},
   "source": [
    "### The standard library\n",
    "\n",
    "Some libraries are included when you install python, and are called the *standard library*. You can find a list of all of them [here](https://docs.python.org/3/library/index.html).\n",
    "\n",
    "The libraries we have already seen, like `random` and `sys` are in the standard library, as we didn't need to install them.\n",
    "\n",
    "As a reminder, to use code from a library in you program, you use the `import` keyword to bring the library into your program, which then allows you to use functions and classes from the library, for example:"
   ]
  },
  {
   "cell_type": "code",
   "execution_count": null,
   "metadata": {},
   "outputs": [],
   "source": [
    "import random\n",
    "print(random.randint(0, 10))"
   ]
  },
  {
   "cell_type": "markdown",
   "metadata": {},
   "source": [
    "This imports the entire `random` library, then uses the `randint` function from it to print a random integer between one and ten.\n",
    "\n",
    "Sometimes, we might want to only import certain functions from the library, not the whole thing. This can be done with the `from` keyword. For example with the example above, we could instead write:"
   ]
  },
  {
   "cell_type": "code",
   "execution_count": null,
   "metadata": {},
   "outputs": [],
   "source": [
    "from random import randint\n",
    "print(randint(0, 10))"
   ]
  },
  {
   "attachments": {},
   "cell_type": "markdown",
   "metadata": {},
   "source": [
    "### Finding libraries\n",
    "\n",
    "On top of the standard library, there is a huge trove of other libraries written for Python. However, they do not come installed by default.\n",
    "\n",
    "These libraries are indexed on [PyPI (the Python Package Index)](https://pypi.org/)\n",
    "\n",
    "To install libraries, we need to use a tool called a package manager. There are various ones for different use cases, such as `conda` and `poetry`, but in this course we will use `pip`, as it comes with python by default. \n",
    "\n",
    "- Pip install\n",
    "- PyPI\n",
    "- Be careful of libraries - can be malware!"
   ]
  },
  {
   "cell_type": "markdown",
   "metadata": {},
   "source": [
    "To install a new library, we have to use the `pip` command line command. Go to the terminal and use `pip --help` to see the options.\n",
    "\n",
    "|Command|Description|\n",
    "|-------|--------|\n",
    "|```pip install <library name>```|Installs a library|\n",
    "|```pip list```|Lists installed libraries|\n",
    "|```pip uninstall <library name>```|Uninstalls a library|\n",
    "\n",
    "To test this, go to the terminal and use `pip install cowsay` to install the \"cowsay\" library."
   ]
  },
  {
   "cell_type": "code",
   "execution_count": null,
   "metadata": {},
   "outputs": [],
   "source": [
    "import cowsay\n",
    "cowsay.cow(\"Hello world!\")"
   ]
  },
  {
   "attachments": {},
   "cell_type": "markdown",
   "metadata": {},
   "source": [
    "### Doing useful(-ish) things\n",
    "\n",
    "#### Example one: Pandas\n",
    "\n",
    "#### Example two: ???"
   ]
  },
  {
   "attachments": {},
   "cell_type": "markdown",
   "metadata": {},
   "source": [
    "## Readability counts!"
   ]
  },
  {
   "attachments": {},
   "cell_type": "markdown",
   "metadata": {},
   "source": [
    "### Why bother?\n",
    "\n",
    "*\"Everyone can code!\"* is a common phrase used by motivational speakers, to attract people into trying it out. Now, think back to Week 1. How many people were in the room compared to now? A more accurate phrase is probably something like *\"Everyone can code, but not everyone has the time to do it properly.\"*\n",
    "\n",
    "One of the awkward realities that you're going to face is that at some point, another person might have to end up reading it. In fact, it is commonly quoted **\"code is read ten times more than it is written\"**.\n",
    "\n",
    "Putting in effort to make sure your script is easy for others to understand goes a long way, especially when that someone might be you, coming back to something you wrote 3 months ago. Confusing, unclear, or badly written code is often called ***spaghetti code*** - no prizes for guessing why!"
   ]
  },
  {
   "cell_type": "code",
   "execution_count": null,
   "metadata": {},
   "outputs": [],
   "source": [
    "def x(a, b , c):\n",
    "    ac = 0\n",
    "    bc = 0\n",
    "    cc  = 0\n",
    "    i = 0\n",
    "    for d in a:\n",
    "        j = 0\n",
    "        for e in b:\n",
    "            if j != i:\n",
    "                j = j + 1\n",
    "                continue\n",
    "            k =  0\n",
    "            for f in c:\n",
    "                if k != j:\n",
    "                    k = k + 1\n",
    "                    continue\n",
    "                if k == i:\n",
    "                    match y(d, e, f):\n",
    "                        case 0:\n",
    "                            ac  = ac + 1\n",
    "                        case 2:\n",
    "                            cc = cc + 1  # add one to cc\n",
    "                        case _:\n",
    "                            bc += 1\n",
    "                else:\n",
    "                    k = k + 2\n",
    "                    continue\n",
    "                k = k + 1\n",
    "            j = j + 1\n",
    "        i = i + 1\n",
    "    return y(ac, bc, cc)\n",
    "\n",
    "def y(nOne, nTwo, nThree):\n",
    "    ans = 0\n",
    "    if ((nOne != nTwo) == True):\n",
    "        match (not (nOne < nTwo)):\n",
    "            case True:\n",
    "                if nThree > nOne:\n",
    "                    ans = ans + 1\n",
    "                    ans += 1\n",
    "            case _:\n",
    "                ans += 1\n",
    "                if nTwo > nThree != False:\n",
    "                    return 1\n",
    "                else:\n",
    "                    ans += 1 \n",
    "    elif True:\n",
    "        return 1 if nOne > nThree else 2\n",
    "    return ans\n",
    "    \n",
    "print(x([5, 8, 0, 3], [4, 7, 2, 4], [9, 4, 6, 1]))\n",
    "\n",
    "# what did I just read"
   ]
  },
  {
   "cell_type": "markdown",
   "metadata": {},
   "source": [
    "Can you figure out what that function does? Unless you spend an extremely long time studying it, then no, probably not. Here's a re-written version, that also works on a wider range of input parameters."
   ]
  },
  {
   "cell_type": "code",
   "execution_count": null,
   "metadata": {},
   "outputs": [],
   "source": [
    "def most_rounds_won(player_breakdown: list[list[int]]) -> int:\n",
    "    \"\"\"Get the index of the player who won the most rounds.\n",
    "    \n",
    "    Given a list containing the lists of scores for pub quiz players (which\n",
    "    doesn't contain duplicates), return the index of the player which one most\n",
    "    rounds.\n",
    "    \"\"\"\n",
    "    players_in_quiz = len(player_breakdown)\n",
    "    rounds_in_quiz = len(player_breakdown[0])\n",
    "    \n",
    "    # Regroup (transpose/zip) the 2D list to compare more easily\n",
    "    # Example: [[1, 2, 3], [4, 5, 6]] into [[1, 4], [2, 5], [3, 6]]\n",
    "    round_breakdown = [\n",
    "        [scores[round_num] for scores in player_breakdown]\n",
    "        for round_num in range(rounds_in_quiz)\n",
    "    ]\n",
    "\n",
    "    # Used to store the rounds won per player index\n",
    "    counts = [0 for _ in range(players_in_quiz)]\n",
    "\n",
    "    for round_scores in round_breakdown:\n",
    "        # Find player index of max value for this round, and count it\n",
    "        max_idx = round_scores.index(max(round_scores))\n",
    "        counts[max_idx] += 1\n",
    "\n",
    "    # Return the index with the most rounds won\n",
    "    return counts.index(max(counts))\n",
    "\n",
    "\n",
    "print(most_rounds_won([[5, 8, 0, 3], [4, 7, 2, 4], [9, 4, 6, 1]]))"
   ]
  },
  {
   "attachments": {},
   "cell_type": "markdown",
   "metadata": {},
   "source": [
    "### Tips for readability"
   ]
  },
  {
   "attachments": {},
   "cell_type": "markdown",
   "metadata": {},
   "source": [
    "---"
   ]
  },
  {
   "attachments": {},
   "cell_type": "markdown",
   "metadata": {},
   "source": [
    "🖋️ ***This week was written by [Computing Society](https://go.uwcs.uk/links)***"
   ]
  }
 ],
 "metadata": {
  "kernelspec": {
   "display_name": "Python 3 (ipykernel)",
   "language": "python",
   "name": "python3"
  },
  "language_info": {
   "codemirror_mode": {
    "name": "ipython",
    "version": 3
   },
   "file_extension": ".py",
   "mimetype": "text/x-python",
   "name": "python",
   "nbconvert_exporter": "python",
   "pygments_lexer": "ipython3",
   "version": "3.11.3"
  },
  "vscode": {
   "interpreter": {
    "hash": "7c57092efe4ff60dfd9ba12cd3127c3cb8001227526172b4b54478afc6e523e7"
   }
  }
 },
 "nbformat": 4,
 "nbformat_minor": 2
}
