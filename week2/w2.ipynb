{
 "cells": [
  {
   "cell_type": "markdown",
   "id": "d565658a",
   "metadata": {},
   "source": [
    "# **xSoc Python Course** - Week 2\n",
    "\n",
    "### *Flow Control & Functions*\n",
    "\n",
    "🖋️ *Written by Adriano & Piotr from the [Warwick Coding Society]()*\n",
    "\n",
    "**Last week, we covered:**\n",
    "1. Variables & Operators\n",
    "2. Data Types & Casting\n",
    "3. Basic Debugging & Exceptions\n",
    "4. The Print & Input Functions\n",
    "\n",
    "**This week, we will cover:**\n",
    "1. String formatting\n",
    "2. Comparison & logical operators\n",
    "3. Conditional statements\n",
    "4. Creating Functions"
   ]
  },
  {
   "cell_type": "markdown",
   "id": "5501f46f",
   "metadata": {},
   "source": [
    "## String Formatting"
   ]
  },
  {
   "cell_type": "markdown",
   "id": "46f106a5",
   "metadata": {},
   "source": [
    "Last week, we used casts to add other datatypes to a String. We can do this more easily by using String formatting:"
   ]
  },
  {
   "cell_type": "markdown",
   "id": "4f2c8b5a",
   "metadata": {},
   "source": [
    "### f-Strings"
   ]
  },
  {
   "cell_type": "markdown",
   "id": "b24ece27",
   "metadata": {},
   "source": [
    "This method is the most **concise**, **simple** and **readable** way of formatting strings. The syntax is simply `f\"This is a string where I insert something {var_name}\"`"
   ]
  },
  {
   "cell_type": "code",
   "execution_count": null,
   "id": "3b3d82e7",
   "metadata": {},
   "outputs": [],
   "source": [
    "society = \"CodeSoc\"\n",
    "\n",
    "print(f\"I am joining {society}\")\n",
    "\n",
    "# You can also have multiple variables\n",
    "\n",
    "society_2 = \"WAI\"\n",
    "society_3 = \"UWCS\"\n",
    "\n",
    "print(f\"I should also join {society_2} and {society_3}\")\n",
    "\n",
    "# You can add expressions to the brackets which will lead to the result being added to the String.\n",
    "\n",
    "print(f\"I am {2022-2003} years old!\")"
   ]
  },
  {
   "cell_type": "markdown",
   "id": "2362a3b7",
   "metadata": {},
   "source": [
    ">**Task 1**<br> Given the variables below, display the following text: `\"I will lose my mind in 4.93 seconds if Bob doesn't close his mouth\"`"
   ]
  },
  {
   "cell_type": "code",
   "execution_count": null,
   "id": "eaadb920",
   "metadata": {},
   "outputs": [],
   "source": [
    "time = 4.93\n",
    "\n",
    "name = \"Bob\"\n",
    "\n",
    "# Write your answer below\n"
   ]
  },
  {
   "cell_type": "markdown",
   "id": "a9239f89",
   "metadata": {},
   "source": [
    "## Logical & Comparison Operators"
   ]
  },
  {
   "cell_type": "markdown",
   "id": "04d56189",
   "metadata": {},
   "source": [
    "### Booleans"
   ]
  },
  {
   "cell_type": "markdown",
   "id": "21c355a2",
   "metadata": {},
   "source": [
    "**Introducing a new data type : booleans**\n",
    "\n",
    "Booleans represent one of two values: **True** or **False**.<br>\n",
    "\n",
    "In programming you often need to know if an **expression** is True or False.\n",
    "This is useful for controlling the execution flow of the program which can be done by pairing Booleans with ``if`` statements showcased later in the lesson.\n"
   ]
  },
  {
   "cell_type": "code",
   "execution_count": null,
   "id": "1a1541be",
   "metadata": {},
   "outputs": [],
   "source": [
    "# Is 5 greater than 2?\n",
    "print(5 > 2)\n",
    "\n",
    "# Is 2 greater than 5?\n",
    "print(2 > 5)"
   ]
  },
  {
   "cell_type": "markdown",
   "id": "dc8b26a1",
   "metadata": {},
   "source": [
    "We can also assign variables to be `True` or `False`"
   ]
  },
  {
   "cell_type": "code",
   "execution_count": null,
   "id": "fb0f58fa",
   "metadata": {},
   "outputs": [],
   "source": [
    "a = True\n",
    "\n",
    "print(a)"
   ]
  },
  {
   "cell_type": "markdown",
   "id": "90a084d0",
   "metadata": {},
   "source": [
    "### Comparison Operators"
   ]
  },
  {
   "cell_type": "markdown",
   "id": "448f4dc3",
   "metadata": {},
   "source": [
    "\n",
    "\n",
    "| Operator |        Description       |\n",
    "|:--------:|:------------------------:|\n",
    "|   `==`   |         Equal to         |\n",
    "|   `!=`   |       Not equal to       |\n",
    "|    `>`   |       Greater than       |\n",
    "|    `<`   |         Less than        |\n",
    "|   `<=`   |   Less than or equal to  |\n",
    "|   `>=`   | Greater than or equal to |\n",
    "\n",
    "These comparison operators are used in boolean expressions which return:<br> `True` if the expression is true and `False` otherwise"
   ]
  },
  {
   "cell_type": "code",
   "execution_count": null,
   "id": "a31bdc81",
   "metadata": {},
   "outputs": [],
   "source": [
    "# Equal Examples\n",
    "\n",
    "print(3 == 2)\n",
    "\n",
    "print(True == True)\n",
    "\n",
    "print(\"CodeSoc\" == \"UWCS\")"
   ]
  },
  {
   "cell_type": "markdown",
   "id": "232b556e",
   "metadata": {},
   "source": [
    "<b>Note:</b> Don't forget the second equal sign when testing equality. <br>`=` is used to assign a value to a variable, while `==` is a comparison operator!"
   ]
  },
  {
   "cell_type": "code",
   "execution_count": null,
   "id": "fdfbb184",
   "metadata": {},
   "outputs": [],
   "source": [
    "# Not Equal examples\n",
    "\n",
    "print(3 != 2)\n",
    "\n",
    "print(True != True)\n",
    "\n",
    "print(\"CodeSoc\" != \"CodeSoc\")"
   ]
  },
  {
   "cell_type": "code",
   "execution_count": null,
   "id": "40f46524",
   "metadata": {},
   "outputs": [],
   "source": [
    "# Comparison examples\n",
    "\n",
    "# Is 3 strictly greater than 4 ? \n",
    "\n",
    "print(3 > 4)\n",
    "\n",
    "# Is a less than or equal 100\n",
    "a = 15\n",
    "\n",
    "print(a == 462/5)\n",
    "\n",
    "print(a <= 100)"
   ]
  },
  {
   "cell_type": "markdown",
   "id": "eff23c2c",
   "metadata": {},
   "source": [
    ">**Task 2**<br>What is the value of c in the code below?"
   ]
  },
  {
   "cell_type": "code",
   "execution_count": null,
   "id": "855dd67c",
   "metadata": {},
   "outputs": [],
   "source": [
    "a = 2 < 3\n",
    "b = 10 >= 10\n",
    "c = a == b\n",
    "#What is the value of c?"
   ]
  },
  {
   "cell_type": "markdown",
   "id": "c469b08d",
   "metadata": {},
   "source": [
    "### Logical Operators"
   ]
  },
  {
   "cell_type": "markdown",
   "id": "0a24a61b",
   "metadata": {},
   "source": [
    "The 3 logical operators we can use to combine boolean expressions are: **and**, **or**, and **not** <br>\n",
    "- `expression 1 and expression 2` will be `True` if **both** *expression 1* and *expression 2* are `True`.\n",
    "- `expression 1 or expression 2` will be `True` if **at least one** of the two expressions is `True`.\n",
    "- `not expression` will return `True` if the *expression* is `False` and `False` if the *expression* is `True`. It essentially inverts the boolean value.\n",
    "\n",
    "Else these are `False`"
   ]
  },
  {
   "cell_type": "code",
   "execution_count": null,
   "id": "d65c43a5",
   "metadata": {},
   "outputs": [],
   "source": [
    "# Here 2 == 3 is False so the whole expression is False\n",
    "\n",
    "print(3 == 3 and 2 == 3)\n",
    "\n",
    "# Here all expressions are True so the whole expression is True\n",
    "\n",
    "a = 2\n",
    "b = 2\n",
    "\n",
    "# I put parenthesis so the expression is clearer, but you can remove them as they are not obligatory. They are only obgligatory when the order of operation is important. \n",
    "\n",
    "print((a == b) and (\"A\" == \"A\") and (True != False))\n",
    "\n",
    "# without parenthesis:\n",
    "\n",
    "print(a == b and \"A\" == \"A\" and True != False)\n",
    "\n",
    "# Here the first expression is false but the second is True so the whole expression is True\n",
    "\n",
    "print((5 % 2 == 0) or (8-5 == 3))\n",
    "\n",
    "# 3 is not equal to 4 so the output will be not(False), that is True !\n",
    "\n",
    "print(not 3 == 4)"
   ]
  },
  {
   "cell_type": "markdown",
   "id": "23b092f5",
   "metadata": {},
   "source": [
    "**Note:** Logical operators have precedence. They are evaluated in the following order: ``not``, ``and``, ``or``"
   ]
  },
  {
   "cell_type": "code",
   "execution_count": null,
   "id": "b628736a",
   "metadata": {},
   "outputs": [],
   "source": [
    "print(not False and False) #Not operator applied first as it has higher precedence than and\n",
    "print(not (False and False)) #And operator applied first due to use of parenthesis"
   ]
  },
  {
   "cell_type": "markdown",
   "id": "0fe16b72",
   "metadata": {},
   "source": [
    ">**Task 3**<br> What is the value of the expression below?"
   ]
  },
  {
   "cell_type": "code",
   "execution_count": null,
   "id": "50f3bf9e",
   "metadata": {},
   "outputs": [],
   "source": [
    "\"Warwick\" != \"Warwick\" or \"Warwick\" == \"warwick\" or 5 > 18"
   ]
  },
  {
   "cell_type": "markdown",
   "id": "98e2c2f6",
   "metadata": {},
   "source": [
    ">**Task 4**<br>\n",
    "Given 3 numbers stored in the variables `a`, `b` and `c`, find out if any of them are equal.<br>\n",
    "<br>*Hint: You need to use the comparison operator `==` and the logical operator `or`*"
   ]
  },
  {
   "cell_type": "code",
   "execution_count": null,
   "id": "66c2b4e4",
   "metadata": {},
   "outputs": [],
   "source": [
    "a = 10\n",
    "b = 12\n",
    "c = 10\n",
    "\n",
    "#Type your code here\n",
    "\n"
   ]
  },
  {
   "cell_type": "markdown",
   "id": "774c8aa2",
   "metadata": {},
   "source": [
    "## Conditional Statements"
   ]
  },
  {
   "cell_type": "markdown",
   "id": "edf06b5f",
   "metadata": {},
   "source": [
    "### if, elif, else"
   ]
  },
  {
   "cell_type": "markdown",
   "id": "3e6d8b8d",
   "metadata": {},
   "source": [
    "`if`, `elif`, and `else` allows to execute blocks of code if a certain set of conditions is fulfilled. <br><br>\n",
    "The syntax is the following:<br>\n",
    "```\n",
    "    if expression1:\n",
    "        execute block of code\n",
    "```\n",
    "Here what we are basically doing is saying \"If expression1 is true, then execute the block of code\"<br>\n",
    "\n",
    "We can also add elif and else with the following syntax:\n",
    "```\n",
    "    if expression1:\n",
    "        execute block of code 1\n",
    "    \n",
    "    elif expression2:\n",
    "        execute block of code 2\n",
    "\n",
    "    else:\n",
    "        execute block of code 3\n",
    "```\n",
    "Here we are saying \n",
    "- If expression1 is ``True``, then execute block of code 1.\n",
    "- If expression1 is ``False`` but expression2 is ``True``, then execute block of code 2.\n",
    "- If both expressions are ``False`` execute block of code 3\n"
   ]
  },
  {
   "cell_type": "code",
   "execution_count": null,
   "id": "b3b67cb2",
   "metadata": {},
   "outputs": [],
   "source": [
    "# Example\n",
    "\n",
    "age = 25\n",
    "\n",
    "if age < 18:\n",
    "    print(\"You are under-age\")\n",
    "\n",
    "else:\n",
    "    print(\"You can go to the pub!\")"
   ]
  },
  {
   "cell_type": "markdown",
   "id": "4b21d16e",
   "metadata": {},
   "source": [
    "If we want to have more than 2 conditions, we add them with `elif`."
   ]
  },
  {
   "cell_type": "code",
   "execution_count": null,
   "id": "ac2bdfdf",
   "metadata": {},
   "outputs": [],
   "source": [
    "# Example \n",
    " \n",
    "x = 4\n",
    "\n",
    "if x == 0:\n",
    "    print(\"x is 0\")\n",
    "\n",
    "elif x == 4:\n",
    "    print(\"x is equal to 4\")\n",
    "\n",
    "elif x > 0: #This will not execute if x is 4 since the previous elif evaluated to True\n",
    "    print(\"x is strictly positive, but not 4\")\n",
    "\n",
    "else:\n",
    "    print(\"x is strictly negative\")"
   ]
  },
  {
   "cell_type": "code",
   "execution_count": null,
   "id": "532a3213",
   "metadata": {},
   "outputs": [],
   "source": [
    "# Example if we use multile if statements and no elif\n",
    "\n",
    "x = 4\n",
    "\n",
    "if x == 0:\n",
    "    print(\"x is 0\")\n",
    "\n",
    "if x == 4:\n",
    "    print(\"x is equal to 4\")\n",
    "\n",
    "if x > 0: \n",
    "    print(\"x is strictly positive\")\n",
    "\n",
    "else:\n",
    "    print(\"x is strictly negative\")"
   ]
  },
  {
   "cell_type": "markdown",
   "id": "74a49298",
   "metadata": {},
   "source": [
    "<b>Note:</b> In Python, whitespace counts as code hence indentation (moving code to the right using the tab key or spaces) is very important. If your code is not correctly indented, you will get errors! \n",
    "</div>"
   ]
  },
  {
   "cell_type": "code",
   "execution_count": null,
   "id": "bfd3a4e0",
   "metadata": {},
   "outputs": [],
   "source": [
    "# Example\n",
    "\n",
    "x = 4\n",
    "\n",
    "if x == 4:\n",
    "print(\"x is 4 !\")"
   ]
  },
  {
   "cell_type": "markdown",
   "id": "9587039e",
   "metadata": {},
   "source": [
    ">**Task 5**<br>\n",
    "Write an ``if`` statement which prints if a number, stored in the variable `number`, is odd or even<br><br>\n",
    "*Hint - Use the module operator `%`*"
   ]
  },
  {
   "cell_type": "code",
   "execution_count": null,
   "id": "f39807a9",
   "metadata": {},
   "outputs": [],
   "source": [
    "number = 83498874\n",
    "\n",
    "#Type your code here\n",
    "\n",
    "if number % 2 == 0:\n",
    "    print(\"The number is even\")\n",
    "else:\n",
    "    print(\"The number is odd\")\n",
    "    "
   ]
  },
  {
   "cell_type": "markdown",
   "id": "3ba86f72",
   "metadata": {},
   "source": [
    ">**Task 6**<br>\n",
    "Write an ``if`` statement which compares 2 numbers, stored in the variables `num_one` and `num_two`, and outputs the highest, or outputs \"the same\" if they are the same <br><br>\n",
    "*Hint - Use the conditional operators `>,` `<,` `==`*"
   ]
  },
  {
   "cell_type": "code",
   "execution_count": null,
   "id": "0933abab",
   "metadata": {},
   "outputs": [],
   "source": [
    "num_one = 172487298\n",
    "num_two = 172486298\n",
    "\n",
    "#Type your code here\n"
   ]
  },
  {
   "cell_type": "markdown",
   "id": "a68ecaf5",
   "metadata": {},
   "source": [
    "``if`` Statements can also be nested an arbitrary number of times, this means you can have an if statement inside an if statement.\n",
    "\n",
    "For example: \n",
    "\n",
    "```\n",
    "if conditionA:\n",
    "    # Code that executes when 'conditionA' is True\n",
    "\n",
    "    if conditionB:\n",
    "        # Code that runs when 'conditionA' and\n",
    "        # 'conditionB' are both True\n",
    "    "
   ]
  },
  {
   "cell_type": "code",
   "execution_count": null,
   "id": "6c24e38f",
   "metadata": {},
   "outputs": [],
   "source": [
    "# Example\n",
    "\n",
    "age = 19\n",
    "has_graduated = False\n",
    "has_license = True\n",
    "\n",
    "# Look if person is 18 years or older\n",
    "if age >= 18:\n",
    "    print(\"You're 18 or older. Welcome to adulthood!\")\n",
    "\n",
    "    if has_graduated:\n",
    "        print(\"Congratulations with your graduation!\")\n",
    "\n",
    "    if has_license:\n",
    "        print(\"Don't Crash!\")\n",
    "    else:\n",
    "        print(\"You can't drive\")\n",
    "else:\n",
    "    print(\"You are underage\")"
   ]
  },
  {
   "cell_type": "markdown",
   "id": "9f6cca3a",
   "metadata": {},
   "source": [
    "In this example we have a lot of **conditions**.\n",
    "\n",
    "**Firstly**, we check if the person is 18 years old or older, if they are not, then it prints `You are underage`. \n",
    "\n",
    "If they are 18 years old or older, then it prints `You're 18 or older...`, then it checks the first nested if statement, if they have graduated, if so, it prints `Congratulations...`, if not, nothing happens. Then it moves to the second nested if statement and checks if they have a license, if they do, it prints `Happy...`, if not, it prints `You're not allowed to drive`.\n"
   ]
  },
  {
   "cell_type": "markdown",
   "id": "d4628bad",
   "metadata": {},
   "source": [
    "### Match Case Statements\n",
    "\n",
    "You will often find yourself having to compare a variable for equality multiple times. Rather than chaining multiple ``elif(var ==...`` statements, you can use a match case statement where each case represents a value to be tested for equality:\n",
    "\n",
    "```\n",
    "match (variable to be evaluated):\n",
    "            case 'val1' : //statement1\n",
    "            case 'val2' : //statement2\n",
    "            …            \n",
    "            case 'valn’ : //statement n\n",
    "```"
   ]
  },
  {
   "cell_type": "code",
   "execution_count": null,
   "id": "c3241557",
   "metadata": {},
   "outputs": [],
   "source": [
    "# Examples\n",
    "\n",
    "happy = True\n",
    "\n",
    "match happy:\n",
    "    case True:\n",
    "        print(\"😊\")\n",
    "    case False:\n",
    "        print(\"😞\") \n",
    "        \n",
    "# Example 2\n",
    "        \n",
    "month_num = 5\n",
    "\n",
    "match month_num:\n",
    "    case 1:\n",
    "        print(\"January\")\n",
    "    case 2:\n",
    "        print(\"February\")\n",
    "    case 3:\n",
    "        print(\"March\")\n",
    "    case 4:\n",
    "        print(\"April\")\n",
    "    case 5:\n",
    "        print(\"May\")\n",
    "    case 6:\n",
    "        print(\"June\")\n",
    "    case 7:\n",
    "        print(\"July\")\n",
    "    case 8:\n",
    "        print(\"August\")\n",
    "    case 9:\n",
    "        print(\"September\")\n",
    "    case 10:\n",
    "        print(\"October\")\n",
    "    case 11:\n",
    "        print(\"November\")\n",
    "    case 12:\n",
    "        print(\"December\")\n",
    "    case _: #You can simulate an \"else\" statement using a case of \"_\" which matches all values.\n",
    "        print(\"Invalid month number\")\n",
    "\n",
    "# The above code yields the same result as:\n",
    "# if(month_num == 1):\n",
    "#     print(\"January\")\n",
    "# elif(month_num == 2):\n",
    "#     print(\"February\")\n",
    "# elif(month_num == 3):\n",
    "#     print(\"March\")\n",
    "# ...\n",
    "# else:\n",
    "#     print(\"Invalid month number\")"
   ]
  },
  {
   "cell_type": "markdown",
   "id": "c2d859f3",
   "metadata": {},
   "source": [
    "You can combine different values to match in a single case statement using the `|` symbol:"
   ]
  },
  {
   "cell_type": "code",
   "execution_count": null,
   "id": "1ee191aa",
   "metadata": {},
   "outputs": [],
   "source": [
    "response_code = 403\n",
    "\n",
    "match response_code:\n",
    "    case 100 | 101 | 102 | 103 | 104 | 105:\n",
    "        print(\"Recognised informational response\")\n",
    "    case 200 | 201 | 202 | 203 | 204 | 205 | 206:\n",
    "        print(\"Recognised successful response\")\n",
    "    case 300 | 301 | 302 | 303 | 304 | 305 | 306 | 307 | 308:\n",
    "        print(\"Recognised redirection response\")\n",
    "    case 400 | 401 | 402 | 403 | 404 | 405 | 406 | 407 | 408 | 425:\n",
    "        print(\"Recognised client error response\")\n",
    "    case 500 | 501 | 502 | 503 | 504 | 505 | 506 | 507 | 508 | 510: \n",
    "        print(\"Recognised server error response\")\n",
    "    case _:\n",
    "        print(\"Unknown response code\")"
   ]
  },
  {
   "cell_type": "markdown",
   "id": "2ec8ceff",
   "metadata": {},
   "source": [
    ">**Task 7**<br>\n",
    "Write a match case statement which assigns ``West``, ``North``, ``East`` or ``South`` to ``direction`` depending on the value of ``direction_num`` (1: West, 2: North, 3: East, 4: South)"
   ]
  },
  {
   "cell_type": "code",
   "execution_count": null,
   "id": "4b6419e0",
   "metadata": {},
   "outputs": [],
   "source": [
    "direction_num = 2\n",
    "direction = \"\"\n",
    "\n",
    "#Write your code here"
   ]
  },
  {
   "cell_type": "markdown",
   "id": "d37edb3a",
   "metadata": {},
   "source": [
    "## Functions\n",
    "A function is a named piece of code which you can call to execute later on. They prevent the programmer from having to write out the code multiple times, they provide a way of executing code that was defined earlier with a **function call**.\n",
    "\n",
    "You will find yourself using pre-existing functions that come with python as well as writing your own.\n",
    "\n",
    "Function are defined using the ```def``` keyword"
   ]
  },
  {
   "cell_type": "code",
   "execution_count": null,
   "id": "b8086302",
   "metadata": {},
   "outputs": [],
   "source": [
    "def greet(): #This is a function definition, it outlines the code within the function, it does NOT execute the code\n",
    "    print(\"Hello human!!!\")\n",
    "    \n",
    "greet() #This is a function call, the piece of code which actually causes the function to execute."
   ]
  },
  {
   "cell_type": "markdown",
   "id": "adedea2f",
   "metadata": {},
   "source": [
    "Note that if we never called ```greet()``` then the code within the function would not execute.\n",
    "\n",
    "You often want to change the data that the function operates on between function calls. For example, you may have a function which saves files, in this case you would want to be able to pass different files to the function rather than defining the same function for individual files. This can be done by defining **parameters** between the brackets of the function definition:\n",
    "\n",
    "``\n",
    "def functionName(parameter1, parameter2, parameter3):\n",
    "    #some code here\n",
    "``   \n",
    "\n",
    "The actual data you pass to the function is known as an **argument**\n",
    "\n",
    "``functionName(arg1, arg2, arg3)``"
   ]
  },
  {
   "cell_type": "code",
   "execution_count": null,
   "id": "dec7ecec",
   "metadata": {},
   "outputs": [],
   "source": [
    "def greet(name):\n",
    "    print(f\"Hello {name}!!!\")\n",
    "\n",
    "greet(\"James\")\n",
    "greet(\"Will\")\n",
    "greet(\"Tom\")"
   ]
  },
  {
   "cell_type": "markdown",
   "id": "6f523f1c",
   "metadata": {},
   "source": [
    "functions can ```return``` values. This means that the execution of the function results in some value which is then passed back to where the function was called:"
   ]
  },
  {
   "cell_type": "code",
   "execution_count": null,
   "id": "a58d5881",
   "metadata": {},
   "outputs": [],
   "source": [
    "def is_even(num):\n",
    "    return (num % 2 == 0) #If the remainder when dividing by 2 is zero the number is even.\n",
    "\n",
    "\n",
    "print(is_even(5)) #Here isEven(5) is replaced by the result of the function, in this case, False.\n",
    "\n",
    "print(is_even(42))"
   ]
  },
  {
   "cell_type": "markdown",
   "id": "2efb4095",
   "metadata": {},
   "source": [
    "Here is the previous month number to name conversion code but wrapped in a function to make it reusable."
   ]
  },
  {
   "cell_type": "code",
   "execution_count": null,
   "id": "39251f5f",
   "metadata": {},
   "outputs": [],
   "source": [
    "def month_num_to_name(month_num):\n",
    "    match month_num:\n",
    "        case 1:\n",
    "            return \"January\"\n",
    "        case 2:\n",
    "            return \"February\"\n",
    "        case 3:\n",
    "            return \"March\"\n",
    "        case 4:\n",
    "            return \"April\"\n",
    "        case 5:\n",
    "            return \"May\"\n",
    "        case 6:\n",
    "            return \"June\"\n",
    "        case 7:\n",
    "            return \"July\"\n",
    "        case 8:\n",
    "            return \"August\"\n",
    "        case 9:\n",
    "            return \"September\"\n",
    "        case 10:\n",
    "            return \"October\"\n",
    "        case 11:\n",
    "            return \"November\"\n",
    "        case 12:\n",
    "            return \"December\"\n",
    "        case _:\n",
    "            return \"Invalid month number\"\n",
    "    \n",
    "print(month_num_to_name(1))\n",
    "print(month_num_to_name(12))"
   ]
  },
  {
   "cell_type": "markdown",
   "id": "7f77595e",
   "metadata": {},
   "source": [
    "Functions can of course call other functions. You should make the most of this by splitting up your code into appropriate functions which can be reused multiple times in other places to reduce duplicate code."
   ]
  },
  {
   "cell_type": "code",
   "execution_count": null,
   "id": "c68162db",
   "metadata": {},
   "outputs": [],
   "source": [
    "def is_even(num):\n",
    "    return (num % 2 == 0) \n",
    "\n",
    "def contains_even(list_of_nums):\n",
    "    for num in list_of_nums:\n",
    "        if(is_even(num)):\n",
    "            return True\n",
    "    return False\n",
    "\n",
    "contains_even([1,1,2,3,5,8,13])"
   ]
  },
  {
   "cell_type": "markdown",
   "id": "ee09c8a4",
   "metadata": {},
   "source": [
    ">**Task 8**<br>\n",
    "Write a function called ``is_of_age`` which takes a single parameter called ``age`` and returns a boolean value depending on whether the person is of age. Once you've defined the function write some function call testing whether it works correctly"
   ]
  },
  {
   "cell_type": "code",
   "execution_count": null,
   "id": "f4240a36",
   "metadata": {},
   "outputs": [],
   "source": [
    "#Write your code here"
   ]
  },
  {
   "cell_type": "markdown",
   "id": "a47fb7a7",
   "metadata": {},
   "source": [
    "🖋️ ***This week was written by Adriano & Piotr from the [Warwick Coding Society]()***"
   ]
  }
 ],
 "metadata": {
  "kernelspec": {
   "display_name": "Python 3.10.7 64-bit",
   "language": "python",
   "name": "python3"
  },
  "language_info": {
   "codemirror_mode": {
    "name": "ipython",
    "version": 3
   },
   "file_extension": ".py",
   "mimetype": "text/x-python",
   "name": "python",
   "nbconvert_exporter": "python",
   "pygments_lexer": "ipython3",
   "version": "3.10.7"
  },
  "vscode": {
   "interpreter": {
    "hash": "268a003517095b3e00ec49a0832a87899bac50083c754616205934d33472dfcd"
   }
  }
 },
 "nbformat": 4,
 "nbformat_minor": 5
}
