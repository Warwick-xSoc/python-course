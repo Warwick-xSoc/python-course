{
 "cells": [
  {
   "cell_type": "markdown",
   "metadata": {},
   "source": [
    "### Task 2\n",
    "\n",
    "Line 4: remove one of the `/`"
   ]
  },
  {
   "cell_type": "code",
   "execution_count": null,
   "metadata": {},
   "outputs": [],
   "source": [
    "km = 29\n",
    "print(km)\n",
    "\n",
    "miles_per_km = 5 / 8\n",
    "miles = km * miles_per_km\n",
    "\n",
    "print(miles)"
   ]
  },
  {
   "cell_type": "markdown",
   "metadata": {},
   "source": [
    "### Task 3"
   ]
  },
  {
   "cell_type": "code",
   "execution_count": null,
   "metadata": {},
   "outputs": [],
   "source": [
    "# Declare variables\n",
    "radius = 5\n",
    "pi = 3.14\n",
    "\n",
    "# Calculate\n",
    "area = pi * radius ** 2         # ** is the exponention operator (same as doing radius * radius)\n",
    "\n",
    "# Output\n",
    "print(\"Area of the circle is approx: \" + str(area))"
   ]
  },
  {
   "cell_type": "markdown",
   "metadata": {},
   "source": [
    "### Task 4\n",
    "\n",
    "Cell 1: assignment is the wrong way around\n",
    "\n",
    "Cell 2: `y` wasn't defined before you tried to add 2 to it (remove the +, or have a `y =` statement *before* you try to add 2 to it)\n",
    "\n",
    "Cell 3: Python lets you do many cursed things (we have a video on that!), but unfortunately division by 0 isn't one of them"
   ]
  },
  {
   "cell_type": "code",
   "execution_count": null,
   "metadata": {},
   "outputs": [],
   "source": [
    "dozen = 12\n",
    "bakers_dozen = 13\n",
    "print(bakers_dozen-dozen)"
   ]
  },
  {
   "cell_type": "code",
   "execution_count": null,
   "metadata": {},
   "outputs": [],
   "source": [
    "x =        4\n",
    "y = 2\n",
    "print(x + y)"
   ]
  },
  {
   "cell_type": "code",
   "execution_count": null,
   "metadata": {},
   "outputs": [],
   "source": [
    "normal_number = 6\n",
    "uh_oh = normal_number / 2\n",
    "print(uh_oh)"
   ]
  },
  {
   "cell_type": "markdown",
   "metadata": {},
   "source": [
    "### Task 5\n",
    "\n",
    "Change `a` to be either 0, or something non-numeric (string, True/False, None, etc.), e.g."
   ]
  },
  {
   "cell_type": "code",
   "execution_count": null,
   "metadata": {},
   "outputs": [],
   "source": [
    "a = '5'\n",
    "b = 6 * 5\n",
    "a -= b\n",
    "print(100 // a)"
   ]
  },
  {
   "cell_type": "markdown",
   "metadata": {},
   "source": [
    "### Task 7\n",
    "\n",
    "There are a few different ways to do this one (using the `\\` is called \"escaping\" the character, it basically tells Python that we want to treat this character like text, and not code):"
   ]
  },
  {
   "cell_type": "code",
   "execution_count": null,
   "metadata": {},
   "outputs": [],
   "source": [
    "print(\"We're \" + '\"Warwick Paid-in-Exposure Society\"' + \", and you're going to love volunteering for our partner's business!\")\n",
    "\n",
    "print(\"We're \\\"Warwick Paid-in-Exposure Society\\\", and you're going to love volunteering for our partner's business!\")\n",
    "\n",
    "print('We\\'re \"Warwick Paid-in-Exposure Society\", and you\\'re going to love volunteering for our partner\\'s business!')"
   ]
  },
  {
   "cell_type": "markdown",
   "metadata": {},
   "source": [
    "### Task 9"
   ]
  },
  {
   "cell_type": "code",
   "execution_count": null,
   "metadata": {},
   "outputs": [],
   "source": [
    "student_name = \"\"       # Put a name here!\n",
    "\n",
    "report_intro = student_name + \" is a good student who works very hard most of the time.\\n\" \n",
    "report_middle = student_name + \" sometimes contributes in class, like the time \" + student_name + \" answered a difficult question about geometry.\\n\"\n",
    "report_end = \"I'm truly proud of \"+ student_name + \", and as parents of a child like \" + student_name + \", I'm sure you would be proud too.\"\n",
    "print(report_intro + report_middle + report_end)"
   ]
  },
  {
   "cell_type": "markdown",
   "metadata": {},
   "source": [
    "### Task 10"
   ]
  },
  {
   "cell_type": "code",
   "execution_count": null,
   "metadata": {},
   "outputs": [],
   "source": [
    "pens = 8\n",
    "pineapples = \"15\"\n",
    "apples = 9.5  # Half an apple a day keeps... half a doctor away?\n",
    "\n",
    "print(\"I have \" + str(pens) + \" pens, \" + pineapples + \" pineapples, and \" + str(apples) + \" apples, for a total stock of \" + str(pens + int(pineapples) + apples) + \" sellable products.\")"
   ]
  },
  {
   "cell_type": "markdown",
   "metadata": {},
   "source": [
    "### Task 11\n",
    "\n",
    "Yep, they're the same! `//` will return the integer part of the division (rounding down), and `int(x / y)` will truncate any decimal part of the division, keeping only the integer.\n",
    "\n",
    "You might be thinking \"do we need int(x / y) if x is divisible by y? Surely Python knows that .0 means an integer?\". Unfortunately, whilst we might be able to realise that, e.g., 5.0 is the same as 5, Python just isn't that smart. As we said in the lesson, the `/` operator *always* returns a float, and `//` returns an integer. When Python does a comparison between these two types, it will *always* return false, even if the value, to us, is the same."
   ]
  },
  {
   "cell_type": "markdown",
   "metadata": {},
   "source": [
    "### Task 12\n",
    "\n",
    "A: No exception. Output is 100\n",
    "\n",
    "B: Error as \"--5\" can't be converted to an integer. Output is \"-5\" because the print was executed before the error occured\n",
    "\n",
    "C: Error because after line 2, `a = 0`, so we attempt a division by 0. No output\n",
    "\n",
    "D: No exception. Output is 4.0\n",
    "\n",
    "E: No exception. Output is:\n",
    "\n",
    "\"7777\"\n",
    "\n",
    "7.4\n",
    "\n",
    "7784.4"
   ]
  },
  {
   "cell_type": "markdown",
   "metadata": {},
   "source": [
    "### Task 13"
   ]
  },
  {
   "cell_type": "code",
   "execution_count": null,
   "metadata": {},
   "outputs": [],
   "source": [
    "# Get the length and width as input\n",
    "width = float(input(\"Enter rectangle width: \"))\n",
    "length = float(input(\"Enter rectangle length\"))\n",
    "\n",
    "# Calculate...\n",
    "area = length * width\n",
    "\n",
    "# Output...\n",
    "print(\"Calculated area is: \" + str(area))"
   ]
  },
  {
   "cell_type": "markdown",
   "metadata": {},
   "source": [
    "## Bonus Tasks\n",
    "\n",
    "### Challenge 1"
   ]
  },
  {
   "cell_type": "code",
   "execution_count": null,
   "metadata": {},
   "outputs": [],
   "source": [
    "import math\n",
    "\n",
    "family_size = 18\n",
    "slices_per_pizza = 5\n",
    "slices_per_person = 2\n",
    "\n",
    "# How many slices will need to be ordered in total?\n",
    "total_slices = slices_per_person * family_size\n",
    "\n",
    "# Calculate how many pizzas we need, and how many slices are left over\n",
    "float_pizza = total_slices / slices_per_pizza\n",
    "\n",
    "total_pizzas = math.ceil(float_pizza)       # math.ceil(x) returns the smallest integer >= x\n",
    "leftovers = (slices_per_pizza * total_pizzas) - total_slices\n",
    "\n",
    "print(str(total_pizzas) + \" pizzas needed with \" + str(leftovers) + \" slices remaining\")\n"
   ]
  },
  {
   "cell_type": "markdown",
   "metadata": {},
   "source": [
    "### Challenge 2"
   ]
  },
  {
   "cell_type": "code",
   "execution_count": null,
   "metadata": {},
   "outputs": [],
   "source": [
    "num1 = int(input(\"Enter number 1: \"))\n",
    "num2 = int(input(\"Enter number 2: \"))\n",
    "num3 = int(input(\"Enter number 3: \"))\n",
    "\n",
    "# E.g., num1 = 1, num2 = 2, num3 = 3\n",
    "# After the first 2 lines execute, we get max_1 = 2, max_2 = 3\n",
    "# We want the number in the middle, which in this case is just the smallest of the two maxima\n",
    "\n",
    "max_1 = max(num1, num2)\n",
    "max_2 = max(num1, num3)\n",
    "median = min(max_1, max_2)\n",
    "\n",
    "print(\"The median is: \" + str(median))"
   ]
  },
  {
   "cell_type": "markdown",
   "metadata": {},
   "source": [
    "### Challenge 3\n",
    "\n",
    "A string is \"greater\" than another if it comes after it alphabetically"
   ]
  },
  {
   "cell_type": "markdown",
   "metadata": {},
   "source": [
    "### Challenge 4"
   ]
  },
  {
   "cell_type": "code",
   "execution_count": null,
   "metadata": {},
   "outputs": [],
   "source": [
    "from math import sqrt, pi\n",
    "\n",
    "# Get the area as input\n",
    "\n",
    "area = float(input(\"Area: \"))\n",
    "\n",
    "# Calculate the perimeter...\n",
    "# Maybe work out something else first?\n",
    "\n",
    "radius = math.sqrt(area / pi)\n",
    "arc_length = pi * radius\n",
    "perimeter = 2 * radius + arc_length\n",
    "\n",
    "print(\"Perimeter is: \" + str(perimeter))"
   ]
  },
  {
   "cell_type": "markdown",
   "metadata": {},
   "source": [
    "### Challenge 5"
   ]
  },
  {
   "cell_type": "code",
   "execution_count": null,
   "metadata": {},
   "outputs": [],
   "source": [
    "# Note - in Jupyter, imports carry across from any active cells.\n",
    "\n",
    "x1 = float(input(\"first x: \"))\n",
    "y1 = float(input(\"first y: \"))\n",
    "x2 = float(input(\"second x: \"))\n",
    "y2 = float(input(\"second y: \"))\n",
    "\n",
    "# Find distance between the two points\n",
    "dist1 = math.dist([x1, y1], [x2, y2]) \n",
    "dist2 = math.sqrt((x1 - x2) ** 2 + (y1 - y2) ** 2)\n",
    "\n",
    "print(\"Shortest distance is: \" + str(dist1))\n",
    "print(dist2)"
   ]
  },
  {
   "cell_type": "markdown",
   "metadata": {},
   "source": [
    "#### Extension\n",
    "See the [math.dist()](https://www.w3schools.com/python/ref_math_dist.asp) function"
   ]
  }
 ],
 "metadata": {
  "kernelspec": {
   "display_name": "Python 3",
   "language": "python",
   "name": "python3"
  },
  "language_info": {
   "codemirror_mode": {
    "name": "ipython",
    "version": 3
   },
   "file_extension": ".py",
   "mimetype": "text/x-python",
   "name": "python",
   "nbconvert_exporter": "python",
   "pygments_lexer": "ipython3",
   "version": "3.11.3"
  },
  "orig_nbformat": 4
 },
 "nbformat": 4,
 "nbformat_minor": 2
}
