{
 "cells": [
  {
   "cell_type": "markdown",
   "metadata": {},
   "source": [
    "### Task 2\n",
    "\n",
    "Line 4: remove one of the `/`"
   ]
  },
  {
   "cell_type": "code",
   "execution_count": null,
   "metadata": {},
   "outputs": [],
   "source": [
    "km = 29\n",
    "print(km)\n",
    "\n",
    "miles_per_km = 5 / 8\n",
    "miles = km * miles_per_km\n",
    "\n",
    "print(miles)"
   ]
  },
  {
   "cell_type": "markdown",
   "metadata": {},
   "source": [
    "### Task 3"
   ]
  },
  {
   "cell_type": "code",
   "execution_count": null,
   "metadata": {},
   "outputs": [],
   "source": [
    "# Declare variables\n",
    "radius = 5\n",
    "pi = 3.14\n",
    "\n",
    "# Calculate\n",
    "area = pi * radius ** 2         # ** is the exponention operator (same as doing radius * radius)\n",
    "\n",
    "# Output\n",
    "print(\"Area of the circle is approx: \" + str(area))"
   ]
  },
  {
   "cell_type": "markdown",
   "metadata": {},
   "source": [
    "### Task 4\n",
    "\n",
    "Cell 1: assignment is the wrong way around\n",
    "\n",
    "Cell 2: `y` wasn't defined before you tried to add 2 to it (remove the +, or have a `y =` statement *before* you try to add 2 to it)\n",
    "\n",
    "Cell 3: Python lets you do many cursed things (we have a video on that!), but unfortunately division by 0 isn't one of them"
   ]
  },
  {
   "cell_type": "code",
   "execution_count": null,
   "metadata": {},
   "outputs": [],
   "source": [
    "dozen = 12\n",
    "bakers_dozen = 13\n",
    "print(bakers_dozen-dozen)"
   ]
  },
  {
   "cell_type": "code",
   "execution_count": null,
   "metadata": {},
   "outputs": [],
   "source": [
    "x =        4\n",
    "y = 2\n",
    "print(x + y)"
   ]
  },
  {
   "cell_type": "code",
   "execution_count": null,
   "metadata": {},
   "outputs": [],
   "source": [
    "normal_number = 6\n",
    "uh_oh = normal_number / 2\n",
    "print(uh_oh)"
   ]
  },
  {
   "cell_type": "markdown",
   "metadata": {},
   "source": [
    "### Task 5\n",
    "\n",
    "Change `a` to be either 0, or something non-numeric (string, True/False, None, etc.)"
   ]
  },
  {
   "cell_type": "code",
   "execution_count": null,
   "metadata": {},
   "outputs": [],
   "source": [
    "a = '5'\n",
    "b = 6 * 5\n",
    "a -= b\n",
    "print(100 // a)"
   ]
  },
  {
   "cell_type": "markdown",
   "metadata": {},
   "source": [
    "### Task 6\n",
    "- Try to add two strings together: String will join with no space between them\n",
    "- Try to multiply two strings together: Error\n",
    "- Try to add a string and an integer: Error\n",
    "- Try to multiply a string and an integer together: String will be repeated \\<integer\\> number of times"
   ]
  },
  {
   "cell_type": "markdown",
   "metadata": {},
   "source": [
    "### Task 7\n",
    "\n",
    "There are a few different ways to do this one (using the `\\` is called \"escaping\" the character, it basically tells Python that we want to treat this character like text, and not code):"
   ]
  },
  {
   "cell_type": "code",
   "execution_count": null,
   "metadata": {},
   "outputs": [],
   "source": [
    "print(\"We're \" + \"Warwick Paid-in-Exposure Society\" + \", and you're going to love volunteering for our partner's business!\")\n",
    "\n",
    "print(\"We're \\\"Warwick Paid-in-Exposure Society\\\", and you're going to love volunteering for our partner's business!\")\n",
    "\n",
    "print('We\\'re \"Warwick Paid-in-Exposure Society\", and you\\'re going to love volunteering for our partner\\'s business!')"
   ]
  },
  {
   "cell_type": "markdown",
   "metadata": {},
   "source": [
    "### Task 9"
   ]
  },
  {
   "cell_type": "code",
   "execution_count": null,
   "metadata": {},
   "outputs": [],
   "source": [
    "student_name = \"\"       # Put a name here!\n",
    "\n",
    "report_intro = student_name + \" is a good student who works very hard most of the time.\\n\" \n",
    "report_middle = student_name + \" sometimes contributes in class, like the time \" + student_name + \" answered a difficult question about geometry.\\n\"\n",
    "report_end = \"I'm truly proud of \"+ student_name + \", and as parents of a child like \" + student_name + \", I'm sure you would be proud too.\"\n",
    "print(report_intro + report_middle + report_end)"
   ]
  },
  {
   "cell_type": "markdown",
   "metadata": {},
   "source": [
    "### Task 10"
   ]
  },
  {
   "cell_type": "code",
   "execution_count": null,
   "metadata": {},
   "outputs": [],
   "source": [
    "pens = 8\n",
    "pineapples = \"15\"\n",
    "apples = 9.5  # Half an apple a day keeps... half a doctor away?\n",
    "\n",
    "print(\"I have \" + str(pens) + \" pens, \" + pineapples + \" pineapples, and \" + str(apples) + \" apples, for a total stock of \" + str(pens + int(pineapples) + apples) + \" sellable products.\")"
   ]
  },
  {
   "cell_type": "markdown",
   "metadata": {},
   "source": [
    "### Task 11\n",
    "\n",
    "Yep, they're the same! `//` will return the integer part of the division (rounding down), and `int(x / y)` will truncate any decimal part of the division, keeping only the integer.\n",
    "\n",
    "You might be thinking \"do we need int(x / y) if x is divisible by y? Surely Python knows that .0 means an integer?\". Unfortunately, whilst we might be able to realise that, e.g., 5.0 is the same as 5, Python just isn't that smart. As we said in the lesson, the `/` operator *always* returns a float, and `//` returns an integer. When Python does a comparison between these two types, it will *always* return false, even if the value, to us, is the same."
   ]
  },
  {
   "cell_type": "markdown",
   "metadata": {},
   "source": [
    "### Task 12\n",
    "\n",
    "A: No exception. Output is 100\n",
    "\n",
    "B: Error as \"--5\" can't be converted to an integer. Output is \"-5\" because the print was executed before the error occured\n",
    "\n",
    "C: Error because after line 2, `a = 0`, so we attempt a division by 0. No output\n",
    "\n",
    "D: No exception. Output is 4.0\n",
    "\n",
    "E: No exception. Output is:\n",
    "\n",
    "\"7777\"\n",
    "\n",
    "7.4\n",
    "\n",
    "7784.4"
   ]
  },
  {
   "cell_type": "markdown",
   "metadata": {},
   "source": [
    "### Task 13"
   ]
  },
  {
   "cell_type": "code",
   "execution_count": null,
   "metadata": {},
   "outputs": [],
   "source": [
    "# Get the length and width as input\n",
    "width = float(input(\"Enter rectangle width: \"))\n",
    "length = float(input(\"Enter rectangle length\"))\n",
    "\n",
    "# Calculate...\n",
    "area = length * width\n",
    "\n",
    "# Output...\n",
    "print(\"Calculated area is: \" + str(area))"
   ]
  }
 ],
 "metadata": {
  "language_info": {
   "name": "python"
  },
  "orig_nbformat": 4
 },
 "nbformat": 4,
 "nbformat_minor": 2
}
