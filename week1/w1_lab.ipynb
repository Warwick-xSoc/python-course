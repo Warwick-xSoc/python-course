{
 "cells": [
  {
   "cell_type": "markdown",
   "metadata": {},
   "source": [
    "## Introduction"
   ]
  },
  {
   "cell_type": "markdown",
   "metadata": {},
   "source": [
    "> Task 0: Here's the code from the beginning of the notebook again, see if you can figure out how to get the cell to display a better food when you run it!"
   ]
  },
  {
   "cell_type": "code",
   "execution_count": null,
   "metadata": {},
   "outputs": [],
   "source": [
    "good_food = \"chocolate\"\n",
    "print(\"I love \" + good_food)"
   ]
  },
  {
   "cell_type": "markdown",
   "metadata": {},
   "source": [
    "## Operations"
   ]
  },
  {
   "cell_type": "markdown",
   "metadata": {},
   "source": [
    "> Task 1: What does this script do to the values of the variables `goose` and `duck`? Would this work for every possible value of `goose` and `duck`?"
   ]
  },
  {
   "cell_type": "code",
   "execution_count": null,
   "metadata": {},
   "outputs": [],
   "source": [
    "goose = 10\n",
    "duck = -7\n",
    "\n",
    "print(goose, duck)  # Before\n",
    "\n",
    "goose = goose + duck\n",
    "duck = goose - duck\n",
    "goose = goose - duck\n",
    "\n",
    "print(goose, duck)  # After"
   ]
  },
  {
   "cell_type": "markdown",
   "metadata": {},
   "source": [
    "> Task 2: This code is supposed to convert kilometres into miles, but if you run it... something's not quite right. Can you fix the problem?"
   ]
  },
  {
   "cell_type": "code",
   "execution_count": null,
   "metadata": {},
   "outputs": [],
   "source": [
    "km = 29\n",
    "print(km)\n",
    "\n",
    "miles_per_km = 5 // 8\n",
    "miles = km * miles_per_km\n",
    "\n",
    "print(miles)"
   ]
  },
  {
   "cell_type": "markdown",
   "metadata": {},
   "source": [
    "> Task 3: Write a short program that roughly calculates the area of a circle from its radius. In other words:\n",
    "> - Declare two variables, `radius` and `pi`. Give them appropriate values.\n",
    "> - Calculate the area (the formula is an internet search away)\n",
    "> - Display the result!\n"
   ]
  },
  {
   "cell_type": "code",
   "execution_count": null,
   "metadata": {},
   "outputs": [],
   "source": [
    "# Declare variables\n",
    "\n",
    "# Calculate\n",
    "\n",
    "# Output\n"
   ]
  },
  {
   "cell_type": "markdown",
   "metadata": {},
   "source": [
    "## Exceptions"
   ]
  },
  {
   "cell_type": "markdown",
   "metadata": {},
   "source": [
    "> Task 4: The three cells below are each going to cause an exception. See if you can figure out why before running each!"
   ]
  },
  {
   "cell_type": "code",
   "execution_count": null,
   "metadata": {},
   "outputs": [],
   "source": [
    "12 = dozen\n",
    "13 = bakers_dozen\n",
    "print(bakers_dozen-dozen)"
   ]
  },
  {
   "cell_type": "code",
   "execution_count": null,
   "metadata": {},
   "outputs": [],
   "source": [
    "x =        4\n",
    "y += 2\n",
    "print(x + y)"
   ]
  },
  {
   "cell_type": "code",
   "execution_count": null,
   "metadata": {},
   "outputs": [],
   "source": [
    "normal_number =6\n",
    "uh_oh = normal_number / 0\n",
    "print(uh_oh)"
   ]
  },
  {
   "cell_type": "markdown",
   "metadata": {},
   "source": [
    "> Task 5: Modify only Line 1 of this script, to cause an exception on Line 4."
   ]
  },
  {
   "cell_type": "code",
   "execution_count": null,
   "metadata": {},
   "outputs": [],
   "source": [
    "a = 5\n",
    "b = 6 * 5\n",
    "a -= b\n",
    "print(100 // a)"
   ]
  },
  {
   "cell_type": "markdown",
   "metadata": {},
   "source": [
    "## Strings and Things"
   ]
  },
  {
   "cell_type": "markdown",
   "metadata": {},
   "source": [
    "> Task 6: Let's try a little experiment. What happens when we:\n",
    "> - Try to add two strings together?\n",
    "> - Try to multiply two strings together?\n",
    "> - Try to add a string and an integer??\n",
    "> - Try to multiply a string and an integer together???"
   ]
  },
  {
   "cell_type": "code",
   "execution_count": null,
   "metadata": {},
   "outputs": [],
   "source": [
    "print(\"This is our first string\" + \"This is our second string\")"
   ]
  },
  {
   "cell_type": "markdown",
   "metadata": {},
   "source": [
    "> Task 7: This task is pretty straightforward. Display the following text, all on the same line:\n",
    "> \n",
    "> `We're \"Warwick Paid-in-Exposure Society\", and you're going to love volunteering for our partner's business!`"
   ]
  },
  {
   "cell_type": "code",
   "execution_count": null,
   "metadata": {},
   "outputs": [],
   "source": [
    "# Hint: You can surround a string in either \"\" or '', and you know what happens when we add them.\n"
   ]
  },
  {
   "cell_type": "markdown",
   "metadata": {},
   "source": [
    "> Task 8: Try inserting `\\n` somewhere in the middle of this string. What do you think `\\n` does?"
   ]
  },
  {
   "cell_type": "code",
   "execution_count": null,
   "metadata": {},
   "outputs": [],
   "source": [
    "print(\"This is an super extremely very long line of ultimate mega longness\")"
   ]
  },
  {
   "cell_type": "markdown",
   "metadata": {},
   "source": [
    "> Task 9: You're an overworked and underpaid teacher who's responsible for writing the digital report cards of 200 students across the school. After writing up the report card for Adam, the first student on the list, you realise you don't really care enough to write a unique response for each student.\n",
    "> \n",
    "> Modify the cell below to make it 'significantly easier' to fill out all 200 report cards. Make sure you format the text correctly."
   ]
  },
  {
   "cell_type": "code",
   "execution_count": null,
   "metadata": {},
   "outputs": [],
   "source": [
    "# student_name = ...\n",
    "\n",
    "report_intro = \"Adam is a good student who works very hard most of the time.\\n\" \n",
    "report_middle = \"Adam sometimes contributes in class, like the time Adam answered a difficult question about geometry.\\n\"\n",
    "report_end = \"I'm truly proud of Adam, and as parents of a child like Adam, I'm sure you would be proud too.\"\n",
    "print(report_intro + report_middle + report_end)"
   ]
  },
  {
   "cell_type": "markdown",
   "metadata": {},
   "source": [
    "## Type Casting"
   ]
  },
  {
   "cell_type": "markdown",
   "metadata": {},
   "source": [
    "> Task 10: Use casts on the given variables to correctly complete the displayed sentence! Try to avoid any unnecessary casting."
   ]
  },
  {
   "cell_type": "code",
   "execution_count": null,
   "metadata": {},
   "outputs": [],
   "source": [
    "pens = 8\n",
    "pineapples = \"15\"\n",
    "apples = 9.5  # I ate half of one already, sorry\n",
    "\n",
    "print(\"I have ??? pens, ??? pineapples, and ??? apples, for a total stock of ??? sellable products.\")"
   ]
  },
  {
   "cell_type": "markdown",
   "metadata": {},
   "source": [
    "> Task 11: If `x` and `y` are integers, is `int(x / y)` always equivalent to `x // y`?"
   ]
  },
  {
   "cell_type": "code",
   "execution_count": null,
   "metadata": {},
   "outputs": [],
   "source": [
    "x = 10\n",
    "y = 4\n",
    "\n",
    "print(int(x / y))\n",
    "print(x // y)"
   ]
  },
  {
   "cell_type": "markdown",
   "metadata": {},
   "source": [
    "> Task 12: Will it run? - Some of these scripts below work, some of them don't. For each, try to predict:\n",
    ">\n",
    "> - Whether they will raise an exception\n",
    "> - What they will output, if anything\n",
    "\n",
    "*Don't worry if you get any of these wrong. Try to figure out what tripped you up!*"
   ]
  },
  {
   "cell_type": "code",
   "execution_count": null,
   "metadata": {},
   "outputs": [],
   "source": [
    "# Script A\n",
    "float_str = \"100.0\"\n",
    "converted = int(float_str)\n",
    "print(converted)"
   ]
  },
  {
   "cell_type": "code",
   "execution_count": null,
   "metadata": {},
   "outputs": [],
   "source": [
    "# Script B\n",
    "num = 5\n",
    "minus = int(  \"-\"  + str(  num )   )\n",
    "print(minus)\n",
    "minus_minus = int(\"-\" + str(minus))\n",
    "print(minus_minus)"
   ]
  },
  {
   "cell_type": "code",
   "execution_count": null,
   "metadata": {},
   "outputs": [],
   "source": [
    "# Script C\n",
    "a = 100\n",
    "a -= int(float(str(int(\"-100\"))))\n",
    "b = 100\n",
    "b /= float(str(int(str(a))))\n",
    "print(b)"
   ]
  },
  {
   "cell_type": "code",
   "execution_count": null,
   "metadata": {},
   "outputs": [],
   "source": [
    "# Script D\n",
    "rainbow = float(int(str(4)))\n",
    "double_rainbow = float(int(str(rainbow)))\n",
    "print(double_rainbow)"
   ]
  },
  {
   "cell_type": "code",
   "execution_count": null,
   "metadata": {},
   "outputs": [],
   "source": [
    "# Script E\n",
    "seven = \"4\"\n",
    "four = \"7\"\n",
    "\n",
    "string = four * int(seven)\n",
    "print(string)\n",
    "\n",
    "floating = float(four + \".\" + seven)\n",
    "print(floating)\n",
    "\n",
    "print(int(string) + floating)"
   ]
  },
  {
   "cell_type": "markdown",
   "metadata": {},
   "source": [
    "## Accepting User Input"
   ]
  },
  {
   "cell_type": "markdown",
   "metadata": {},
   "source": [
    "> Task 14: Write a script that, given the length & width of a rectangle, calculates its area and perimeter. Make it clear what you calculated in your output."
   ]
  },
  {
   "cell_type": "code",
   "execution_count": null,
   "metadata": {},
   "outputs": [],
   "source": [
    "# Get the length and width as input\n",
    "\n",
    "# Calculate...\n",
    "\n",
    "# Output..."
   ]
  },
  {
   "cell_type": "markdown",
   "metadata": {},
   "source": [
    "# Bonus Tasks"
   ]
  },
  {
   "cell_type": "markdown",
   "metadata": {},
   "source": [
    "Finished everything else? These tasks are more challenging, and should tide you over until the next week. Some will also introduce extra functions for you to practice using. Don't be discouraged if you can't do them all! If you need any help, feel free to join our [Discord](https://discord.uwcs.uk) and ask in `#python`."
   ]
  },
  {
   "cell_type": "markdown",
   "metadata": {},
   "source": [
    "> Challenge 1: Find the number of pizzas, each split into `slices_per_pizza` slices, that a family of size `family_size` should order to make sure each family member gets at least `slices_per_person` slices per person. How many slices will be left over? Display both of these answers."
   ]
  },
  {
   "cell_type": "code",
   "execution_count": null,
   "metadata": {},
   "outputs": [],
   "source": [
    "family_size = 18\n",
    "slices_per_pizza = 5\n",
    "slices_per_person = 2\n",
    "\n",
    "# How many slices will need to be ordered in total?\n",
    "\n",
    "# Calculate how many pizzas we need, and how many slices are left over\n",
    "# Make sure to check it's correct...\n"
   ]
  },
  {
   "cell_type": "markdown",
   "metadata": {},
   "source": [
    "Let's introduce two new built-in functions, which are fairly self-explanatory:\n",
    "- `min(x, y)` - returns the minimum value of `x` and `y`.\n",
    "- `max(x, y)` - returns the maximum value of `x` and `y`.\n",
    "\n",
    "These are helpful to learn, as they can sometimes remove the need for an if-statement (Week 2).\n",
    "\n",
    "> Challenge 2: With the help of the above, write a script that accepts 3 numbers, and outputs the median (middle) one."
   ]
  },
  {
   "cell_type": "code",
   "execution_count": null,
   "metadata": {},
   "outputs": [],
   "source": [
    "num1 = int(input(\"Enter number 1: \"))\n",
    "num2 = int(input(\"Enter number 2: \"))\n",
    "num3 = int(input(\"Enter number 3: \"))\n",
    "\n",
    "# How do we get the middle number?\n"
   ]
  },
  {
   "cell_type": "markdown",
   "metadata": {},
   "source": [
    "It isn't just numbers that can be considered larger or smaller than each other; the same applies to strings!"
   ]
  },
  {
   "cell_type": "markdown",
   "metadata": {},
   "source": [
    "> Challenge 3: Which of these is considered the greatest? `\"AI\"`, `\"Coding\"` or `\"Computing\"`?"
   ]
  },
  {
   "cell_type": "code",
   "execution_count": null,
   "metadata": {},
   "outputs": [],
   "source": [
    "# Once you get an answer, see if you can figure out why this happens.\n"
   ]
  },
  {
   "cell_type": "markdown",
   "metadata": {},
   "source": [
    "Sometimes, the built-in Python functions just aren't enough. That's why we can **import** additional stuff from elsewhere!\n",
    "\n",
    "In the cell below we're importing two things from the standard `math` library:\n",
    "- The `pi` variable, which has a good approximation of pi already assigned to it.\n",
    "- The `sqrt(x)` function, which accepts a non-negative number `x` and returns its square root.\n",
    "\n",
    "Don't worry about modifying these imports for now.\n",
    "\n",
    "> Challenge 4: Write a script that, given the area of a **semi-circle**, calculates its perimeter."
   ]
  },
  {
   "cell_type": "code",
   "execution_count": null,
   "metadata": {},
   "outputs": [],
   "source": [
    "from math import sqrt, pi\n",
    "\n",
    "# Get the area as input\n",
    "\n",
    "print(pi)\n",
    "\n",
    "# Calculate the perimeter...\n",
    "# Maybe work out something else first?"
   ]
  },
  {
   "cell_type": "markdown",
   "metadata": {},
   "source": [
    "> Challenge 5: Write a script that, given 4 integers representing two pairs of (x, y) coordinates, outputs the \n",
    "length of the shortest path between them."
   ]
  },
  {
   "cell_type": "code",
   "execution_count": null,
   "metadata": {},
   "outputs": [],
   "source": [
    "# Note - in Jupyter, imports carry across from any active cells.\n",
    "\n",
    "x1 = input(\"first x: \")\n",
    "y1 = input(\"first y: \")\n",
    "x2 = input(\"second x: \")\n",
    "y2 = input(\"second y: \")\n",
    "\n",
    "# Find distance between the two points\n"
   ]
  },
  {
   "cell_type": "markdown",
   "metadata": {},
   "source": [
    "*Can you simplify your solution above using another built-in function?*"
   ]
  }
 ],
 "metadata": {
  "language_info": {
   "name": "python"
  },
  "orig_nbformat": 4
 },
 "nbformat": 4,
 "nbformat_minor": 2
}
