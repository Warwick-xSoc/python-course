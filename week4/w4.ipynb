{
 "cells": [
  {
   "cell_type": "markdown",
   "id": "ef584785",
   "metadata": {},
   "source": [
    "# **xSoc Python Course** - Week 4\n",
    "\n",
    "### *File Handling & The Command Line*\n",
    "\n",
    "🖋️ *Written by Alistair & Tomas from [Warwick AI]()*"
   ]
  },
  {
   "cell_type": "markdown",
   "id": "606d5adb",
   "metadata": {},
   "source": [
    "This week we will look at various methods of taking input into our python applications and the challenges that come with that.\n",
    "\n",
    "In this lecture, we will aim to cover:\n",
    "* File reading\n",
    "* File writing\n",
    "* Command line arguments\n",
    "* Libraries"
   ]
  },
  {
   "cell_type": "markdown",
   "id": "ad926535",
   "metadata": {},
   "source": [
    "## File Reading"
   ]
  },
  {
   "cell_type": "markdown",
   "id": "6f35b417",
   "metadata": {},
   "source": [
    "To read from a file, we need a file to read from.\n",
    "**Create a file in the same folder as the notebook called \"test.txt\" and add some text to it.**"
   ]
  },
  {
   "cell_type": "markdown",
   "id": "d980531a",
   "metadata": {},
   "source": [
    "Now we will read the file into Python. To do this, we use the ```open()``` function.\n",
    "\n",
    "The ```open()``` function primarily takes two arguments: **file path** and **mode**\n",
    "\n",
    "The file path argument is either the relative or absolute path to the file, we will cover the different modes later, but inorder to read text, we use the mode \"r\""
   ]
  },
  {
   "cell_type": "code",
   "execution_count": null,
   "id": "58f4d19f",
   "metadata": {},
   "outputs": [],
   "source": [
    "test_file = open(\"Data/test.txt\",\"r\")"
   ]
  },
  {
   "cell_type": "markdown",
   "id": "5b6c3749",
   "metadata": {},
   "source": [
    "To read the file, we call ```read()``` on the result of the ```open()``` method. Let's put this in a variable called data for now."
   ]
  },
  {
   "cell_type": "code",
   "execution_count": null,
   "id": "84cba540",
   "metadata": {},
   "outputs": [],
   "source": [
    "data = test_file.read()"
   ]
  },
  {
   "cell_type": "markdown",
   "id": "cf0dbc64",
   "metadata": {},
   "source": [
    "Now we can print the contents of the file using ```print(data)```"
   ]
  },
  {
   "cell_type": "code",
   "execution_count": null,
   "id": "8b6d6971",
   "metadata": {},
   "outputs": [],
   "source": [
    "print(data)"
   ]
  },
  {
   "cell_type": "markdown",
   "id": "56465cdd",
   "metadata": {},
   "source": [
    "Hooray, we have read from a file!\n",
    "\n",
    "However let's see what happens if we try to read from the file again."
   ]
  },
  {
   "cell_type": "code",
   "execution_count": null,
   "id": "2a2020c6",
   "metadata": {},
   "outputs": [],
   "source": [
    "data = test_file.read()\n",
    "print(data)"
   ]
  },
  {
   "cell_type": "markdown",
   "id": "2c51b14d",
   "metadata": {},
   "source": [
    "Notice we don't get anything this time. This is because Python remebers what postion you are at in a file. When we used ```read()``` the first time, we read all the way up to the end of the file so when we call ```read()``` again, we are already at the end so we get nothing!\n",
    "\n",
    "Think of it like a bookmark. When we read the book, the bookmark is at the end, so when we go to read it again, we find there is nothing left to read."
   ]
  },
  {
   "cell_type": "markdown",
   "id": "a8d0cd9d",
   "metadata": {},
   "source": [
    "### Seeking\n",
    "However, Python allows us to change where the bookmark is using the ```seek()``` method.\n",
    "\n",
    "The ```seek()``` method takes two arguments: **offset** and **whence**\n",
    "\n",
    "Offset determines how far forwards or backwards we want to move the bookmark.\n",
    "\n",
    "Whence determines from where we move the bookmark, the options are:\n",
    "* 0 Move from the start of the file\n",
    "* 1 Move from the position of the bookmark\n",
    "* 2 Move from the end of the file\n",
    "\n",
    "*Note: for text files, only option 0 is supported. We will come onto the other options later.*\n",
    "\n",
    "Therefore using ```seek(0,0)``` should bring us back to the start of the file as we're telling Python to put the bookmark 0 places from the start of the file."
   ]
  },
  {
   "cell_type": "code",
   "execution_count": null,
   "id": "8da47dff",
   "metadata": {},
   "outputs": [],
   "source": [
    "test_file.seek(0,0)"
   ]
  },
  {
   "cell_type": "markdown",
   "id": "90f48224",
   "metadata": {},
   "source": [
    "Now let's read in the data and print the results again"
   ]
  },
  {
   "cell_type": "code",
   "execution_count": null,
   "id": "52b28b4e",
   "metadata": {},
   "outputs": [],
   "source": [
    "data = test_file.read()\n",
    "print(data)"
   ]
  },
  {
   "cell_type": "markdown",
   "id": "ae77a1f4",
   "metadata": {},
   "source": [
    "We can also try seeking to the middle of the file as so"
   ]
  },
  {
   "cell_type": "code",
   "execution_count": null,
   "id": "d268e056",
   "metadata": {},
   "outputs": [],
   "source": [
    "test_file.seek(8,0)\n",
    "data = test_file.read()\n",
    "print(data)"
   ]
  },
  {
   "cell_type": "markdown",
   "id": "fde0869c",
   "metadata": {},
   "source": [
    "Lastly, we need to make sure we close the file once we're done with it. This is done using ```close()```"
   ]
  },
  {
   "cell_type": "code",
   "execution_count": null,
   "id": "80df39a5",
   "metadata": {},
   "outputs": [],
   "source": [
    "test_file.close()"
   ]
  },
  {
   "cell_type": "markdown",
   "id": "f320d8aa",
   "metadata": {},
   "source": [
    "Now if we try to read from the file, we will get an error so we can tell that the file is closed."
   ]
  },
  {
   "cell_type": "code",
   "execution_count": null,
   "id": "37617978",
   "metadata": {},
   "outputs": [],
   "source": [
    "test_file.read()"
   ]
  },
  {
   "cell_type": "markdown",
   "id": "0a7888f0",
   "metadata": {},
   "source": [
    "### With ... As\n",
    "Instead of using file.close() we can also use Python's ```with ... as``` operator.\n",
    "After using ```with ... as```, we indent our code and once we return from the indent, the file will be closed automatically."
   ]
  },
  {
   "cell_type": "code",
   "execution_count": null,
   "id": "46a75371",
   "metadata": {},
   "outputs": [],
   "source": [
    "with open(\"Data/test.txt\",\"r\") as test_file:\n",
    "    print(test_file.read())"
   ]
  },
  {
   "cell_type": "markdown",
   "id": "9ee6730f",
   "metadata": {},
   "source": [
    "### Binary Files\n",
    "Python also allows us to read in files as binary. This is done by appending a '**b**' to the mode parameter of the ```open()``` method."
   ]
  },
  {
   "cell_type": "code",
   "execution_count": null,
   "id": "5d29fb04",
   "metadata": {},
   "outputs": [],
   "source": [
    "with open(\"Data/test.txt\",\"rb\") as test_file:\n",
    "    data = test_file.read()\n",
    "print(data)\n",
    "print(data[0])\n",
    "type(data)"
   ]
  },
  {
   "cell_type": "markdown",
   "id": "5ce67b10",
   "metadata": {},
   "source": [
    "We can see that data is now a **bytes** object. This is useful for processing any filetype that isn't primarily text based, such as images or audio."
   ]
  },
  {
   "cell_type": "markdown",
   "id": "8cb118df",
   "metadata": {},
   "source": [
    "Binary files also allow us to seek from the current cursor position or from the end of the file. The offset is the number of bytes to move forwards or backwards in the file."
   ]
  },
  {
   "cell_type": "code",
   "execution_count": null,
   "id": "a7edc375",
   "metadata": {},
   "outputs": [],
   "source": [
    "with open(\"Data/test.txt\",\"rb\") as test_file:\n",
    "    test_file.seek(-5,2)\n",
    "    print(test_file.read())"
   ]
  },
  {
   "cell_type": "markdown",
   "id": "bc8caf8c",
   "metadata": {},
   "source": [
    "## File Writing\n",
    "Now that we have covered reading from files, we now need to try to write to files.\n",
    "\n",
    "This is done using a different **mode** with the ```open()``` function. The possible modes are as follows:\n",
    "|Mode|Function|\n",
    "|---|---|\n",
    "|'r'|Read from file, error if file doesn't exist|\n",
    "|'w'|Write to file, will create/overwrite file|\n",
    "|'x'|Write to file, will error if file exists|\n",
    "|'a'|Appending to file, will create/overwrite file|\n",
    "|'b'|Binary mode|\n",
    "|'t'|Text mode (default)|\n",
    "|'+'|Allows either writing if used as 'r+' or reading if used as 'w+'|\n",
    "\n",
    "In this lecture, we will only cover 'w' and 'a', but feel free to explore in your own time!"
   ]
  },
  {
   "cell_type": "markdown",
   "id": "4f6517a7",
   "metadata": {},
   "source": [
    "To begin with, lets open a file called '**test2.txt**' and write some text to it.\n",
    "\n",
    "*Note we don't need to create the file as Python will do that for us!*"
   ]
  },
  {
   "cell_type": "code",
   "execution_count": null,
   "id": "50ba509c",
   "metadata": {},
   "outputs": [],
   "source": [
    "with open(\"Data/test2.txt\",\"w\") as test_file_2:\n",
    "    test_file_2.write(\"Warwick AI is still the best!\")"
   ]
  },
  {
   "cell_type": "markdown",
   "id": "36bd8a72",
   "metadata": {},
   "source": [
    "Now go to your file explorer and open the file, you should see that the text has been written to it!\n",
    "\n",
    "Now let's try that again, but this time use different text."
   ]
  },
  {
   "cell_type": "code",
   "execution_count": null,
   "id": "65bc4124",
   "metadata": {},
   "outputs": [],
   "source": [
    "with open(\"Data/test2.txt\",\"w\") as test_file_2:\n",
    "    test_file_2.write(\"I love reading\")"
   ]
  },
  {
   "cell_type": "markdown",
   "id": "fdeef264",
   "metadata": {},
   "source": [
    "We should see that the file has been overwritten with the new text. In some cases, this is useful, however sometimes we will want to append to the file without overwriting the previous content, for example when writing to an application log.\n",
    "\n",
    "We can do this using the '**a**' mode. Try appending some text to 'test2.txt'."
   ]
  },
  {
   "cell_type": "code",
   "execution_count": null,
   "id": "4fb5af0e",
   "metadata": {},
   "outputs": [],
   "source": [
    "with open(\"Data/test2.txt\",\"a\") as test_file_2:\n",
    "    test_file_2.write(\" and writing files.\")"
   ]
  },
  {
   "cell_type": "markdown",
   "id": "43b70430",
   "metadata": {},
   "source": [
    "Opening the file in notepad, we see that we have appended text to the original file."
   ]
  },
  {
   "cell_type": "markdown",
   "id": "04445981",
   "metadata": {},
   "source": [
    "### One Line at a Time\n",
    "There are many instances where we will want to read a file in parts and process each part separately. For example, if we want to read Comma Separated Values (.csv) files into our program, we will want to read the header line first, then each line individually as each line will contain a new row of data."
   ]
  },
  {
   "cell_type": "markdown",
   "id": "a8cdc298",
   "metadata": {},
   "source": [
    "#### Example CSV\n",
    "Name, StudentNumber, Course  \n",
    "John, 2201234, Biology  \n",
    "Emma, 2109876, Maths  \n",
    "Sophie, 2001234, CompSci  \n",
    "James, 2101234, English  \n",
    "\n",
    "*Note to make this more readable, I've added in spaces, however usually this would not be the case as they would require removal in the program.*"
   ]
  },
  {
   "cell_type": "markdown",
   "id": "86c42157",
   "metadata": {},
   "source": [
    "Fortunately, we can use the ```readline()``` method to do exactly this. First lets open the **test_data.csv** file in **r+** mode so we can read and write to it."
   ]
  },
  {
   "cell_type": "code",
   "execution_count": null,
   "id": "00a422f6",
   "metadata": {},
   "outputs": [],
   "source": [
    "csv_file = open(\"Data/test_data.csv\",\"r+\")"
   ]
  },
  {
   "cell_type": "markdown",
   "id": "739eeebb",
   "metadata": {},
   "source": [
    "Let's store the headers of the file in a list called ```headers```. This is done by reading the firstline of the file using the ```readine()```, then split the string by '**,**' since this is a csv file.\n",
    "\n",
    "Note you may want to use ```.strip('\\n')``` to remove the trailing newline from the line."
   ]
  },
  {
   "cell_type": "code",
   "execution_count": null,
   "id": "f7262280",
   "metadata": {},
   "outputs": [],
   "source": [
    "headers = csv_file.readline().strip('\\n').split(',')\n",
    "print(headers)"
   ]
  },
  {
   "cell_type": "markdown",
   "id": "7761671b",
   "metadata": {},
   "source": [
    "Now lets put the data into a dictionary so that given a name, we can get the society they are in. In order to read all the lines of the file, we can use a ```while``` loop.\n",
    "\n",
    "Note since once we reach the end of the file, ```readline()``` will return an empty string, we can create a stop condition for the loop."
   ]
  },
  {
   "cell_type": "code",
   "execution_count": null,
   "id": "dd147e6c",
   "metadata": {},
   "outputs": [],
   "source": [
    "data_dict = {}\n",
    "\n",
    "line = csv_file.readline().strip('\\n').split(',')\n",
    "while not line == ['']:\n",
    "    data_dict[line[0]] = line[1]\n",
    "    line = csv_file.readline().strip('\\n').split(',')\n",
    "print(data_dict)"
   ]
  },
  {
   "cell_type": "code",
   "execution_count": null,
   "id": "b429114c",
   "metadata": {},
   "outputs": [],
   "source": [
    "print(data_dict['Alistair'])"
   ]
  },
  {
   "cell_type": "markdown",
   "id": "b5a3515d",
   "metadata": {},
   "source": [
    "Hopefully you should see that you can now access the data that was in the csv file using the dictionary. This is just a simple example of how we can use Python to parse CSV files into data structures that are more useful for us as programmers."
   ]
  },
  {
   "cell_type": "markdown",
   "id": "7985d883",
   "metadata": {},
   "source": [
    "Let's also try writing a new line to the file. Unfortunately, Python doesn't have a ```writeline()``` method. However we can use the ```write()``` method to write a new line by prepending a '**\\n**' to our string. \n",
    "\n",
    "Write your name and society into the file, note you will need to use the csv format."
   ]
  },
  {
   "cell_type": "code",
   "execution_count": null,
   "id": "54ecadd7",
   "metadata": {},
   "outputs": [],
   "source": [
    "csv_file.write(\"\\nAlistair,WAI\")"
   ]
  },
  {
   "cell_type": "markdown",
   "id": "7ff9ac11",
   "metadata": {},
   "source": [
    "Now close the file and open it in the editor to see if it has changed."
   ]
  },
  {
   "cell_type": "code",
   "execution_count": null,
   "id": "3316fba7",
   "metadata": {},
   "outputs": [],
   "source": [
    "csv_file.close()"
   ]
  },
  {
   "cell_type": "markdown",
   "id": "4f186189",
   "metadata": {},
   "source": [
    "## Command Line Arguments\n",
    "Now we will cover one final useful way of getting input into our program, specifically programs run from the command line.\n",
    "\n",
    "Command line arguments are passed into a program when you run it from the command line and can pass using data into the program or affect the behaviour by specifing certain conditions.\n",
    "\n",
    "For example, running the command **python -c \"<python_code>\"** will run the python code using python, but running **python -V** will print the current version of python."
   ]
  },
  {
   "attachments": {
    "Cmd_line_args_example.png": {
     "image/png": "[encoded data removed]"
    }
   },
   "cell_type": "markdown",
   "id": "af436cd3",
   "metadata": {},
   "source": [
    "![Cmd_line_args_example.png](attachment:Cmd_line_args_example.png)"
   ]
  },
  {
   "cell_type": "markdown",
   "id": "7d31027e",
   "metadata": {},
   "source": [
    "Using command line arguments to take input can allow us to create powerful scripts that are suited to a particular task. If you have any experience with Linux or any other command line, you will know how useful command line programs can be, and Python provides the ability to create such programs.\n",
    "\n",
    "Due to the way Notebooks are run, we will have to create a new Python script in order to demonstrate how command line arguments work, however all the syntax will still be explained here."
   ]
  },
  {
   "cell_type": "markdown",
   "id": "982d3674",
   "metadata": {},
   "source": [
    "First, you will need to import the **system** library using ```import sys```. This will allow us to access the command line arguments passed to the script."
   ]
  },
  {
   "cell_type": "markdown",
   "id": "f5e534c6",
   "metadata": {},
   "source": [
    "Using ```sys.argv```, we can access the command line arguments. Note that ```sys.argv``` is actually a list, so we can access indiviual arguments using ```sys.argv[0]```, ```sys.argv[1]```, etc.\n",
    "\n",
    "Access and print out the first command line argument."
   ]
  },
  {
   "attachments": {
    "Cmd_line_args_example2.png": {
     "image/png": "[encoded data removed]"
    }
   },
   "cell_type": "markdown",
   "id": "2cabb8ef",
   "metadata": {},
   "source": [
    "![Cmd_line_args_example2.png](attachment:Cmd_line_args_example2.png)"
   ]
  },
  {
   "cell_type": "markdown",
   "id": "ede5540c",
   "metadata": {},
   "source": [
    "You should notice that the path of the script you are running is printed. The first command line argument is always the path to the script, so there is always one command line argument. Any additional arguments will be in the 2nd index and above."
   ]
  },
  {
   "cell_type": "markdown",
   "id": "04edfee4",
   "metadata": {},
   "source": [
    "Let's take in a username as our first additional argument. Set a ```username``` variable to ```sys.argv[1]``` and print out a greeting to the user. Remember when you run the script, you will need to run it as ```python <script_name> <username>```."
   ]
  },
  {
   "attachments": {
    "Cmd_line_args_example3.png": {
     "image/png": "[encoded data removed]"
    }
   },
   "cell_type": "markdown",
   "id": "aea1b87b",
   "metadata": {},
   "source": [
    "![Cmd_line_args_example3.png](attachment:Cmd_line_args_example3.png)"
   ]
  },
  {
   "cell_type": "markdown",
   "id": "09c9c5ee",
   "metadata": {},
   "source": [
    "Now let's add two optional arguments, **-u** which makes the name uppercase and **-r** which reverses the name. Create two variables to store the potential options. Note that since they are optional, we need to check the length of ```sys.argv``` to see how many arguments have been passed."
   ]
  },
  {
   "cell_type": "markdown",
   "id": "a9f493c2",
   "metadata": {},
   "source": [
    "Use an ```if``` statement to check the length of ```sys.argv``` and set the option variables to the optional arguments if they exist."
   ]
  },
  {
   "cell_type": "markdown",
   "id": "9a224e04",
   "metadata": {},
   "source": [
    "Lastly, we don't want order to matter with the optional arguments, so use another ```if``` statement with the ```or``` operator to check both optional variables for **-u** or **-r**.\n",
    "\n",
    "To set the username to uppercase, use ```user_name.upper()```\n",
    "\n",
    "To reverse the username, you can use techniques from week 3."
   ]
  },
  {
   "cell_type": "markdown",
   "id": "1cd1f700",
   "metadata": {},
   "source": [
    "Finally, print out the greeting with the modified username. Test out the script with a different arguments and see if it works.\n",
    "\n",
    "For example, ```python <script> Alistair -u -r``` should return ```Hello RIATSILA```"
   ]
  },
  {
   "attachments": {
    "Cmd_line_args_example4.png": {
     "image/png": "[encoded data removed]"
    }
   },
   "cell_type": "markdown",
   "id": "c6f1d141",
   "metadata": {},
   "source": [
    "![Cmd_line_args_example4.png](attachment:Cmd_line_args_example4.png)"
   ]
  },
  {
   "cell_type": "markdown",
   "id": "a1ad4d1d",
   "metadata": {},
   "source": [
    "## Libraries\n",
    "We have already used libraries, however it is useful to know exactly what they are.\n",
    "\n",
    "Libraries are a bunch of classes and functions related to a certain funtionality. For example, the ```sys``` library used in the previous section allows us to interact with the system, hence why we can use it to get the command line arguments.\n",
    "\n",
    "Libraries are very useful as they allow us to access powerful functions without having to write lots of code ourselves!"
   ]
  },
  {
   "cell_type": "markdown",
   "id": "eea3f22c",
   "metadata": {},
   "source": [
    "To install a new library, we have to use the ```pip``` commandline command. Go to the terminal and use ```pip help``` to see the options.\n",
    "|Command|Description|\n",
    "|-------|--------|\n",
    "|```pip install <library name>```|Installs a library|\n",
    "|```pip list```|Lists installed libraries|\n",
    "|```pip uninstall <library name>```|Uninstalls a library|\n",
    "\n",
    "To test this, go to the terminal and use ```pip install emoji``` to install the emoji library which allows us to print emojis in our code."
   ]
  },
  {
   "attachments": {
    "library_example.png": {
     "image/png": "[encoded data removed]"
    }
   },
   "cell_type": "markdown",
   "id": "c307ab0d",
   "metadata": {},
   "source": [
    "![library_example.png](attachment:library_example.png)"
   ]
  },
  {
   "cell_type": "markdown",
   "id": "a9169b4c",
   "metadata": {},
   "source": [
    "To import a library into your code, use ```import <library>``` at the top of the script. Sometimes libraries contain multiple classes and you'll only need to use one, in this case, you can use ```from <library> import <class>``` just to import the required class.\n",
    "\n",
    "In this case, use ```from emoji import emojize``` to import the required functionality.  \n",
    "Then use ```print(':thumbs_up:')```"
   ]
  },
  {
   "cell_type": "code",
   "execution_count": null,
   "id": "34a52b3f",
   "metadata": {},
   "outputs": [],
   "source": [
    "from emoji import emojize\n",
    "print(emojize(\":thumbs_up:\"))"
   ]
  },
  {
   "cell_type": "markdown",
   "id": "0e0066b9",
   "metadata": {},
   "source": [
    "You should hopefully see that we have printed the thumbs up emoji. This is just a small example, but libraries can provide a lot of useful functionality, and almost all large programs will require external libraries."
   ]
  },
  {
   "cell_type": "markdown",
   "id": "ba547946",
   "metadata": {},
   "source": [
    "Lots of libraries have documentation webpages online, so if you import a library, it's useful to check the documentation to see how various functions work and what arguments they take. \n",
    "\n",
    "Once you can use libraries effectively, a lot of cool functionality becomes really accessible. Libraries can allow you to do anything from running webservers to interacting with hardware to training machine learning models, so it's a good idea to spend some time playing around with them!"
   ]
  },
  {
   "cell_type": "markdown",
   "id": "69d9552f",
   "metadata": {},
   "source": [
    "🖋️ ***This week was written by Alistair & Tomas from [Warwick AI]()***"
   ]
  },
  {
   "cell_type": "markdown",
   "id": "5a8749a5",
   "metadata": {},
   "source": [
    "---"
   ]
  },
  {
   "cell_type": "markdown",
   "id": "897d65e7",
   "metadata": {},
   "source": [
    "# Week 4 Exercises"
   ]
  },
  {
   "cell_type": "markdown",
   "id": "5a106f91",
   "metadata": {},
   "source": [
    "To complete these exercises, you will need to download various files from the `data` folder within the Week 4 folder."
   ]
  },
  {
   "cell_type": "markdown",
   "id": "1a66e16c",
   "metadata": {},
   "source": [
    "## Exercise 1"
   ]
  },
  {
   "cell_type": "markdown",
   "id": "d296c324",
   "metadata": {},
   "source": [
    "Complete this script, which is supposed to read in the `lorem_ipsum.txt` file, count the number of occurences of a specified letter (input by the user), and display this count.\n",
    "\n",
    "This count should be case-insensitive - for example, both `e` and `E` are considered the same letter."
   ]
  },
  {
   "cell_type": "code",
   "execution_count": null,
   "id": "5720f66a",
   "metadata": {},
   "outputs": [],
   "source": [
    "# Get letter from user\n",
    "user_letter = input(\"Please input a letter to count: \")\n",
    "\n",
    "# Open file and count the occurences of the letter\n",
    "occurences = 0\n",
    "\n",
    "# Print out number of occurences\n",
    "print(f\"Letter {user_letter} appeared {occurences} times in lorem_ipsum.txt\")"
   ]
  },
  {
   "cell_type": "markdown",
   "id": "a26457a2",
   "metadata": {},
   "source": [
    "## Exercise 2"
   ]
  },
  {
   "cell_type": "markdown",
   "id": "74ab28cf",
   "metadata": {},
   "source": [
    "In the first cell, read in the file `log.txt` and display the current contents.  "
   ]
  },
  {
   "cell_type": "code",
   "execution_count": null,
   "id": "5a7e5ad7",
   "metadata": {},
   "outputs": [],
   "source": [
    "# Read in the file and display its contents\n"
   ]
  },
  {
   "cell_type": "markdown",
   "id": "08c1a8e9",
   "metadata": {},
   "source": [
    "In the second cell, allow the user to input some text and append it to the end of the file.  \n",
    "\n",
    "The appended entry must appear on a new line, and start with the current date-timestamp (stored in the `current_datetime` variable)."
   ]
  },
  {
   "cell_type": "code",
   "execution_count": null,
   "id": "ae665eb0",
   "metadata": {},
   "outputs": [],
   "source": [
    "# Get current datetime and store as string\n",
    "import datetime\n",
    "current_datetime = str(datetime.datetime.now())\n",
    "\n",
    "# Get entry from user\n",
    "user_entry = input(\"Input log entry: \")\n",
    "\n",
    "# Write entry to file with the current datetime prepended"
   ]
  },
  {
   "cell_type": "markdown",
   "id": "3ff58ce8",
   "metadata": {},
   "source": [
    "## Exercise 3"
   ]
  },
  {
   "cell_type": "markdown",
   "id": "661462b6",
   "metadata": {},
   "source": [
    "Complete the code below so that `exam_data.csv` is read in, a mark is input for each student and then the data is output to a new file, `exam_data_marked.csv` which contains an additional csv column with the marks of each student.\n",
    "\n",
    "When prompting for the mark input, you should refer to the student name, ID and exam. \n",
    "\n",
    "For example: `\"Please input the mark for John (ID: 2101234) for exam CS118\"`"
   ]
  },
  {
   "cell_type": "code",
   "execution_count": null,
   "id": "902725d7",
   "metadata": {},
   "outputs": [],
   "source": [
    "# Create something to store the student data\n",
    "student_data = []\n",
    "\n",
    "# Read the data in\n",
    "\n",
    "\n",
    "# Iterate over student data and add a mark for each student\n",
    "\n",
    "\n",
    "# Write student data into exam_data_marked.csv\n"
   ]
  },
  {
   "cell_type": "markdown",
   "id": "ca2ab449",
   "metadata": {},
   "source": [
    "## What Now?"
   ]
  },
  {
   "cell_type": "markdown",
   "id": "b9ae900e",
   "metadata": {},
   "source": [
    "It's Wahoot time!\n",
    "\n",
    "- Check out `wahoot_w4.ipynb` in this folder, which will give you instructions on how to set up the skeleton code.\n",
    "- Make sure you're comfortable with the week 2 and 3 Wahoot content!\n",
    "- Once you're set up, we'll be implementing our own question storage system.\n",
    "\n",
    "If you've managed to finish all of that, there's some more bonus exercises below."
   ]
  },
  {
   "cell_type": "markdown",
   "id": "2cb8bbaa",
   "metadata": {},
   "source": [
    "# Week 4 Bonus Exercises"
   ]
  },
  {
   "cell_type": "markdown",
   "id": "c4c3076a",
   "metadata": {},
   "source": [
    "## Challenge 1"
   ]
  },
  {
   "cell_type": "markdown",
   "id": "ec92d5c9",
   "metadata": {},
   "source": [
    "Open the `my_text_editor.py` file and complete the code so that it does the following:\n",
    "\n",
    "- Takes in a file path as a command line argument and prints the file content.\n",
    "- Allows the user to input data one line at a time and appends that data to the file.\n",
    "- Takes in an optional argument **w** which will overwrite the original file.\n",
    "- Takes in an optional argument **c** which will copy the original file and then append the data to the copy.\n",
    "\n",
    "*Note: The program should only accept one optional argument, so `python Text_Editor.py file.txt w c` would be invalid.*"
   ]
  },
  {
   "cell_type": "markdown",
   "id": "ac9a9073",
   "metadata": {},
   "source": [
    "## Challenge 2"
   ]
  },
  {
   "cell_type": "markdown",
   "id": "22f9ac0a",
   "metadata": {},
   "source": [
    "Re-do exercise 4 using a Pandas DataFrame to store the student data. Make sure to install the `pandas` package first!\n",
    "\n",
    "*Note: This exercise is intended to encourage you to research how to use new libraries for yourself.*"
   ]
  },
  {
   "cell_type": "code",
   "execution_count": null,
   "id": "2c0aba19",
   "metadata": {},
   "outputs": [],
   "source": [
    "import pandas"
   ]
  }
 ],
 "metadata": {
  "kernelspec": {
   "display_name": "Python 3.10.6 64-bit",
   "language": "python",
   "name": "python3"
  },
  "language_info": {
   "codemirror_mode": {
    "name": "ipython",
    "version": 3
   },
   "file_extension": ".py",
   "mimetype": "text/x-python",
   "name": "python",
   "nbconvert_exporter": "python",
   "pygments_lexer": "ipython3",
   "version": "3.10.6"
  },
  "vscode": {
   "interpreter": {
    "hash": "7c57092efe4ff60dfd9ba12cd3127c3cb8001227526172b4b54478afc6e523e7"
   }
  }
 },
 "nbformat": 4,
 "nbformat_minor": 5
}
